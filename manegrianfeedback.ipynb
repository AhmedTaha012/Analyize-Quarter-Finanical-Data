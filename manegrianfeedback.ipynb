{
 "cells": [
  {
   "cell_type": "code",
   "execution_count": 2,
   "metadata": {
    "execution": {
     "iopub.execute_input": "2023-08-27T09:13:50.837407Z",
     "iopub.status.busy": "2023-08-27T09:13:50.837052Z",
     "iopub.status.idle": "2023-08-27T09:14:06.160531Z",
     "shell.execute_reply": "2023-08-27T09:14:06.159115Z",
     "shell.execute_reply.started": "2023-08-27T09:13:50.837376Z"
    },
    "id": "4_JV7YpvNvv8"
   },
   "outputs": [],
   "source": [
    "%%capture\n",
    "! pip install datasets transformers seqeval"
   ]
  },
  {
   "cell_type": "code",
   "execution_count": 3,
   "metadata": {
    "execution": {
     "iopub.execute_input": "2023-08-27T09:14:06.163329Z",
     "iopub.status.busy": "2023-08-27T09:14:06.162876Z",
     "iopub.status.idle": "2023-08-27T09:14:06.169404Z",
     "shell.execute_reply": "2023-08-27T09:14:06.168396Z",
     "shell.execute_reply.started": "2023-08-27T09:14:06.163292Z"
    },
    "id": "glHMlaUhLrVF"
   },
   "outputs": [],
   "source": [
    "import pandas as pd"
   ]
  },
  {
   "cell_type": "markdown",
   "metadata": {},
   "source": [
    "## Read Selected Topics courpus data"
   ]
  },
  {
   "cell_type": "code",
   "execution_count": 4,
   "metadata": {
    "execution": {
     "iopub.execute_input": "2023-08-27T09:14:06.171925Z",
     "iopub.status.busy": "2023-08-27T09:14:06.171179Z",
     "iopub.status.idle": "2023-08-27T09:14:12.857079Z",
     "shell.execute_reply": "2023-08-27T09:14:12.856085Z",
     "shell.execute_reply.started": "2023-08-27T09:14:06.171892Z"
    },
    "id": "-g0nv1HiMcWj"
   },
   "outputs": [],
   "source": [
    "data=pd.read_pickle(\"/kaggle/input/earingscallscleaned/motley-fool-data-cleaned.pkl\")"
   ]
  },
  {
   "cell_type": "code",
   "execution_count": 5,
   "metadata": {
    "colab": {
     "base_uri": "https://localhost:8080/",
     "height": 1000
    },
    "execution": {
     "iopub.execute_input": "2023-08-27T09:14:35.559836Z",
     "iopub.status.busy": "2023-08-27T09:14:35.559449Z",
     "iopub.status.idle": "2023-08-27T09:14:35.592827Z",
     "shell.execute_reply": "2023-08-27T09:14:35.591783Z",
     "shell.execute_reply.started": "2023-08-27T09:14:35.559807Z"
    },
    "id": "pklsEQtQMfE5",
    "outputId": "3223a926-01ef-4d0e-f872-dd2af7643f39"
   },
   "outputs": [
    {
     "data": {
      "text/html": [
       "<div>\n",
       "<style scoped>\n",
       "    .dataframe tbody tr th:only-of-type {\n",
       "        vertical-align: middle;\n",
       "    }\n",
       "\n",
       "    .dataframe tbody tr th {\n",
       "        vertical-align: top;\n",
       "    }\n",
       "\n",
       "    .dataframe thead th {\n",
       "        text-align: right;\n",
       "    }\n",
       "</style>\n",
       "<table border=\"1\" class=\"dataframe\">\n",
       "  <thead>\n",
       "    <tr style=\"text-align: right;\">\n",
       "      <th></th>\n",
       "      <th>date</th>\n",
       "      <th>exchange</th>\n",
       "      <th>ticker</th>\n",
       "      <th>transcript</th>\n",
       "      <th>Call participants</th>\n",
       "      <th>Q&amp;A</th>\n",
       "      <th>quad-date</th>\n",
       "      <th>quad-number</th>\n",
       "    </tr>\n",
       "  </thead>\n",
       "  <tbody>\n",
       "    <tr>\n",
       "      <th>9910</th>\n",
       "      <td>Feb 18, 2020, 4:30 p.m. ET</td>\n",
       "      <td>NYSE: A</td>\n",
       "      <td>A</td>\n",
       "      <td>good afternoon welcome agilent technologies ' ...</td>\n",
       "      <td>Ankur Dhingra -- Vice President of Investor Re...</td>\n",
       "      <td>:\\nOperator\\n[Operator Instructions] Your firs...</td>\n",
       "      <td>2020</td>\n",
       "      <td>1</td>\n",
       "    </tr>\n",
       "    <tr>\n",
       "      <th>790</th>\n",
       "      <td>May 21, 2020, 4:30 p.m. ET</td>\n",
       "      <td>NYSE: A</td>\n",
       "      <td>A</td>\n",
       "      <td>good afternoon welcome agilent technologies ' ...</td>\n",
       "      <td>Ankur Dhingra -- Vice President of Investor Re...</td>\n",
       "      <td>:\\nOperator\\n[Operator Instructions] And our f...</td>\n",
       "      <td>2020</td>\n",
       "      <td>2</td>\n",
       "    </tr>\n",
       "    <tr>\n",
       "      <th>10319</th>\n",
       "      <td>Aug 18, 2020, 4:30 p.m. ET</td>\n",
       "      <td>NYSE: A</td>\n",
       "      <td>A</td>\n",
       "      <td>good afternoon welcome agilent technologies th...</td>\n",
       "      <td>Ankur Dhingra -- Vice President of Investor Re...</td>\n",
       "      <td>:\\nOperator\\nCertainly. [Operator Instructions...</td>\n",
       "      <td>2020</td>\n",
       "      <td>3</td>\n",
       "    </tr>\n",
       "    <tr>\n",
       "      <th>9879</th>\n",
       "      <td>Nov 23, 2020, 4:30 p.m. ET</td>\n",
       "      <td>NYSE: A</td>\n",
       "      <td>A</td>\n",
       "      <td>good afternoon , welcome agilent technologies ...</td>\n",
       "      <td>Ankur Dhingra -- Vice President of Investor Re...</td>\n",
       "      <td>:\\nOperator\\nCertainly. [Operator Instructions...</td>\n",
       "      <td>2020</td>\n",
       "      <td>4</td>\n",
       "    </tr>\n",
       "    <tr>\n",
       "      <th>10252</th>\n",
       "      <td>Feb 16, 2021, 4:30 p.m. ET</td>\n",
       "      <td>NYSE: A</td>\n",
       "      <td>A</td>\n",
       "      <td>good afternoon welcome agilent technologies fi...</td>\n",
       "      <td>Ankur Dhingra -- Vice President of Investor Re...</td>\n",
       "      <td>:\\nAnkur Dhingra -- Vice President of Investor...</td>\n",
       "      <td>2021</td>\n",
       "      <td>1</td>\n",
       "    </tr>\n",
       "    <tr>\n",
       "      <th>...</th>\n",
       "      <td>...</td>\n",
       "      <td>...</td>\n",
       "      <td>...</td>\n",
       "      <td>...</td>\n",
       "      <td>...</td>\n",
       "      <td>...</td>\n",
       "      <td>...</td>\n",
       "      <td>...</td>\n",
       "    </tr>\n",
       "    <tr>\n",
       "      <th>5881</th>\n",
       "      <td>Oct 27, 2020, 4:15 p.m. ET</td>\n",
       "      <td>NASDAQ: ZYXI</td>\n",
       "      <td>ZYXI</td>\n",
       "      <td>good afternoon , everyone , welcome zynex thir...</td>\n",
       "      <td>Thomas Sandgaard -- Chairman of the Board, Pre...</td>\n",
       "      <td>:\\nOperator\\n[Operator Instructions] Our first...</td>\n",
       "      <td>2020</td>\n",
       "      <td>3</td>\n",
       "    </tr>\n",
       "    <tr>\n",
       "      <th>9550</th>\n",
       "      <td>Feb 25, 2021, 4:15 p.m. ET</td>\n",
       "      <td>NASDAQ: ZYXI</td>\n",
       "      <td>ZYXI</td>\n",
       "      <td>good afternoon , welcome zynex fourth quarter ...</td>\n",
       "      <td>Thomas Sandgaard -- Chairman of the Board, Pre...</td>\n",
       "      <td>:\\nThomas Sandgaard -- Chairman of the Board, ...</td>\n",
       "      <td>2020</td>\n",
       "      <td>4</td>\n",
       "    </tr>\n",
       "    <tr>\n",
       "      <th>9880</th>\n",
       "      <td>Apr 29, 2021, 4:15 p.m. ET</td>\n",
       "      <td>NASDAQ: ZYXI</td>\n",
       "      <td>ZYXI</td>\n",
       "      <td>good afternoon , welcome zynex 2021 first quar...</td>\n",
       "      <td>Thomas Sandgaard -- Chairman of the Board, Pre...</td>\n",
       "      <td>:\\nOperator\\n[Operator Instructions]. Our firs...</td>\n",
       "      <td>2021</td>\n",
       "      <td>1</td>\n",
       "    </tr>\n",
       "    <tr>\n",
       "      <th>17363</th>\n",
       "      <td>Jul 29, 2021, 4:15 p.m. ET</td>\n",
       "      <td>NASDAQ: ZYXI</td>\n",
       "      <td>ZYXI</td>\n",
       "      <td>good day , welcome zynex 2021 second quarter c...</td>\n",
       "      <td>Thomas Sandgaard -- Chairman, President &amp; Chie...</td>\n",
       "      <td>:\\nOperator\\nThank you. [Operator Instructions...</td>\n",
       "      <td>2021</td>\n",
       "      <td>2</td>\n",
       "    </tr>\n",
       "    <tr>\n",
       "      <th>11323</th>\n",
       "      <td>Nov 2, 2021, 4:15 p.m. ET</td>\n",
       "      <td>NASDAQ: ZYXI</td>\n",
       "      <td>ZYXI</td>\n",
       "      <td>good day , welcome zynex third quarter 2021 ea...</td>\n",
       "      <td>Thomas Sandgaard -- Chairman Of The Board, Pre...</td>\n",
       "      <td>:\\nOperator\\nThank you. [Operator Instructions...</td>\n",
       "      <td>2021</td>\n",
       "      <td>3</td>\n",
       "    </tr>\n",
       "  </tbody>\n",
       "</table>\n",
       "<p>17592 rows × 8 columns</p>\n",
       "</div>"
      ],
      "text/plain": [
       "                             date      exchange ticker  \\\n",
       "9910   Feb 18, 2020, 4:30 p.m. ET       NYSE: A      A   \n",
       "790    May 21, 2020, 4:30 p.m. ET       NYSE: A      A   \n",
       "10319  Aug 18, 2020, 4:30 p.m. ET       NYSE: A      A   \n",
       "9879   Nov 23, 2020, 4:30 p.m. ET       NYSE: A      A   \n",
       "10252  Feb 16, 2021, 4:30 p.m. ET       NYSE: A      A   \n",
       "...                           ...           ...    ...   \n",
       "5881   Oct 27, 2020, 4:15 p.m. ET  NASDAQ: ZYXI   ZYXI   \n",
       "9550   Feb 25, 2021, 4:15 p.m. ET  NASDAQ: ZYXI   ZYXI   \n",
       "9880   Apr 29, 2021, 4:15 p.m. ET  NASDAQ: ZYXI   ZYXI   \n",
       "17363  Jul 29, 2021, 4:15 p.m. ET  NASDAQ: ZYXI   ZYXI   \n",
       "11323   Nov 2, 2021, 4:15 p.m. ET  NASDAQ: ZYXI   ZYXI   \n",
       "\n",
       "                                              transcript  \\\n",
       "9910   good afternoon welcome agilent technologies ' ...   \n",
       "790    good afternoon welcome agilent technologies ' ...   \n",
       "10319  good afternoon welcome agilent technologies th...   \n",
       "9879   good afternoon , welcome agilent technologies ...   \n",
       "10252  good afternoon welcome agilent technologies fi...   \n",
       "...                                                  ...   \n",
       "5881   good afternoon , everyone , welcome zynex thir...   \n",
       "9550   good afternoon , welcome zynex fourth quarter ...   \n",
       "9880   good afternoon , welcome zynex 2021 first quar...   \n",
       "17363  good day , welcome zynex 2021 second quarter c...   \n",
       "11323  good day , welcome zynex third quarter 2021 ea...   \n",
       "\n",
       "                                       Call participants  \\\n",
       "9910   Ankur Dhingra -- Vice President of Investor Re...   \n",
       "790    Ankur Dhingra -- Vice President of Investor Re...   \n",
       "10319  Ankur Dhingra -- Vice President of Investor Re...   \n",
       "9879   Ankur Dhingra -- Vice President of Investor Re...   \n",
       "10252  Ankur Dhingra -- Vice President of Investor Re...   \n",
       "...                                                  ...   \n",
       "5881   Thomas Sandgaard -- Chairman of the Board, Pre...   \n",
       "9550   Thomas Sandgaard -- Chairman of the Board, Pre...   \n",
       "9880   Thomas Sandgaard -- Chairman of the Board, Pre...   \n",
       "17363  Thomas Sandgaard -- Chairman, President & Chie...   \n",
       "11323  Thomas Sandgaard -- Chairman Of The Board, Pre...   \n",
       "\n",
       "                                                     Q&A quad-date quad-number  \n",
       "9910   :\\nOperator\\n[Operator Instructions] Your firs...      2020           1  \n",
       "790    :\\nOperator\\n[Operator Instructions] And our f...      2020           2  \n",
       "10319  :\\nOperator\\nCertainly. [Operator Instructions...      2020           3  \n",
       "9879   :\\nOperator\\nCertainly. [Operator Instructions...      2020           4  \n",
       "10252  :\\nAnkur Dhingra -- Vice President of Investor...      2021           1  \n",
       "...                                                  ...       ...         ...  \n",
       "5881   :\\nOperator\\n[Operator Instructions] Our first...      2020           3  \n",
       "9550   :\\nThomas Sandgaard -- Chairman of the Board, ...      2020           4  \n",
       "9880   :\\nOperator\\n[Operator Instructions]. Our firs...      2021           1  \n",
       "17363  :\\nOperator\\nThank you. [Operator Instructions...      2021           2  \n",
       "11323  :\\nOperator\\nThank you. [Operator Instructions...      2021           3  \n",
       "\n",
       "[17592 rows x 8 columns]"
      ]
     },
     "execution_count": 5,
     "metadata": {},
     "output_type": "execute_result"
    }
   ],
   "source": [
    "data"
   ]
  },
  {
   "cell_type": "markdown",
   "metadata": {},
   "source": [
    "## Split the transcript to chunks of 256 tokens then apply textblon to sentiment labeling"
   ]
  },
  {
   "cell_type": "code",
   "execution_count": 39,
   "metadata": {
    "execution": {
     "iopub.execute_input": "2023-08-27T09:30:53.353087Z",
     "iopub.status.busy": "2023-08-27T09:30:53.352732Z",
     "iopub.status.idle": "2023-08-27T09:31:12.711398Z",
     "shell.execute_reply": "2023-08-27T09:31:12.710278Z",
     "shell.execute_reply.started": "2023-08-27T09:30:53.353059Z"
    }
   },
   "outputs": [
    {
     "data": {
      "application/vnd.jupyter.widget-view+json": {
       "model_id": "8ef4a5a2e20548a695b1eb8f456a66bd",
       "version_major": 2,
       "version_minor": 0
      },
      "text/plain": [
       "  0%|          | 0/17592 [00:00<?, ?it/s]"
      ]
     },
     "metadata": {},
     "output_type": "display_data"
    }
   ],
   "source": [
    "import math\n",
    "from tqdm.notebook import tqdm\n",
    "splitSize=256\n",
    "chunks=[]\n",
    "chunksSentiment=[]\n",
    "for idx in tqdm(range(len(data[\"transcript\"]))):\n",
    "    tokens=data[\"transcript\"].iloc[idx].split()\n",
    "    chunks=chunks+[\" \".join(x) for x in [tokens[r*splitSize:(r+1)*splitSize] for r in range(math.ceil(len(tokens)/splitSize))]]\n"
   ]
  },
  {
   "cell_type": "code",
   "execution_count": 69,
   "metadata": {
    "execution": {
     "iopub.execute_input": "2023-08-27T09:54:18.549373Z",
     "iopub.status.busy": "2023-08-27T09:54:18.548970Z",
     "iopub.status.idle": "2023-08-27T09:54:30.732852Z",
     "shell.execute_reply": "2023-08-27T09:54:30.731479Z",
     "shell.execute_reply.started": "2023-08-27T09:54:18.549322Z"
    }
   },
   "outputs": [
    {
     "name": "stdout",
     "output_type": "stream",
     "text": [
      "huggingface/tokenizers: The current process just got forked, after parallelism has already been used. Disabling parallelism to avoid deadlocks...\n",
      "To disable this warning, you can either:\n",
      "\t- Avoid using `tokenizers` before the fork if possible\n",
      "\t- Explicitly set the environment variable TOKENIZERS_PARALLELISM=(true | false)\n",
      "Requirement already satisfied: textblob in /opt/conda/lib/python3.10/site-packages (0.17.1)\n",
      "Requirement already satisfied: nltk>=3.1 in /opt/conda/lib/python3.10/site-packages (from textblob) (3.2.4)\n",
      "Requirement already satisfied: six in /opt/conda/lib/python3.10/site-packages (from nltk>=3.1->textblob) (1.16.0)\n",
      "Note: you may need to restart the kernel to use updated packages.\n",
      "CPU times: user 196 ms, sys: 83.3 ms, total: 280 ms\n",
      "Wall time: 12.2 s\n"
     ]
    }
   ],
   "source": [
    "%%time\n",
    "pip install textblob"
   ]
  },
  {
   "cell_type": "code",
   "execution_count": 70,
   "metadata": {
    "execution": {
     "iopub.execute_input": "2023-08-27T09:54:48.469476Z",
     "iopub.status.busy": "2023-08-27T09:54:48.469056Z",
     "iopub.status.idle": "2023-08-27T09:54:49.006284Z",
     "shell.execute_reply": "2023-08-27T09:54:49.004580Z",
     "shell.execute_reply.started": "2023-08-27T09:54:48.469442Z"
    }
   },
   "outputs": [
    {
     "name": "stdout",
     "output_type": "stream",
     "text": [
      "The sentiment of the text is: Positive\n"
     ]
    }
   ],
   "source": [
    "from textblob import TextBlob\n",
    "\n",
    "def get_sentiment(text):\n",
    "    analysis = TextBlob(text)\n",
    "    \n",
    "    # Sentiment polarity ranges from -1 (negative) to 1 (positive)\n",
    "    # Here, we consider values above 0 as positive and values below 0 as negative.\n",
    "    if analysis.sentiment.polarity > 0:\n",
    "        return \"Positive\"\n",
    "    else:\n",
    "        return \"Negative\"\n",
    "\n"
   ]
  },
  {
   "cell_type": "code",
   "execution_count": 71,
   "metadata": {
    "execution": {
     "iopub.execute_input": "2023-08-27T09:55:32.491209Z",
     "iopub.status.busy": "2023-08-27T09:55:32.490027Z",
     "iopub.status.idle": "2023-08-27T10:02:19.297645Z",
     "shell.execute_reply": "2023-08-27T10:02:19.296467Z",
     "shell.execute_reply.started": "2023-08-27T09:55:32.491171Z"
    }
   },
   "outputs": [
    {
     "data": {
      "application/vnd.jupyter.widget-view+json": {
       "model_id": "30ee82b4876f4f0484ea837cc655a7a1",
       "version_major": 2,
       "version_minor": 0
      },
      "text/plain": [
       "  0%|          | 0/161207 [00:00<?, ?it/s]"
      ]
     },
     "metadata": {},
     "output_type": "display_data"
    }
   ],
   "source": [
    "chunksSentiment=[get_sentiment(c) for c in tqdm(chunks)]"
   ]
  },
  {
   "cell_type": "code",
   "execution_count": 80,
   "metadata": {
    "execution": {
     "iopub.execute_input": "2023-08-27T10:15:18.322296Z",
     "iopub.status.busy": "2023-08-27T10:15:18.321840Z",
     "iopub.status.idle": "2023-08-27T10:15:18.341699Z",
     "shell.execute_reply": "2023-08-27T10:15:18.340443Z",
     "shell.execute_reply.started": "2023-08-27T10:15:18.322262Z"
    }
   },
   "outputs": [],
   "source": [
    "maps={\"Positive\":1,\"Negative\":0}\n",
    "chunksSentiment=[maps[x] for x in chunksSentiment]"
   ]
  },
  {
   "cell_type": "code",
   "execution_count": 81,
   "metadata": {
    "execution": {
     "iopub.execute_input": "2023-08-27T10:15:20.552274Z",
     "iopub.status.busy": "2023-08-27T10:15:20.551896Z",
     "iopub.status.idle": "2023-08-27T10:15:20.559325Z",
     "shell.execute_reply": "2023-08-27T10:15:20.558328Z",
     "shell.execute_reply.started": "2023-08-27T10:15:20.552241Z"
    }
   },
   "outputs": [
    {
     "data": {
      "text/plain": [
       "\"ankur thanks everyone joining call today . 'd like start today 's call reminder mark doak , acg group retiring may 1st . mark wife currently enjoying long-planned vacation able join us today , would remiss taking opportunity recognize outstanding accomplishments mark made stellar 38-year career . track record results speak . thank , mark . strong bench agilent already named mark 's successor , padraig mcdonnell . padraig knows business well . 's mark 's staff several years currently runs chemistries supplies division . padraig mark already working transition activities padraig prepares take helm acd business start fiscal third quarter . congratulate mark padraig onto quarterly results . agilent team delivered strong start 2020. first quarter revenues expectations business grew regions markets . total revenues $ 1.36 billion 5.7 % year-over-year reported basis 2.4 % core basis . continued translate top line growth strong bottom line earnings . earnings per share $ 0.81 7 % , high-end guidance . going business unit market details quarterly results , want speak two specific areas highlight building buying strategy investing fast growing markets continues deliver growth help us create resilient business . first , want talk recent acquisition , biotek . first quarter biotek team onboard business strong start revenue growth expectations . continue enthusiastic cell analysis space biotek continues strong momentum really got us interested bringing agilent . biotek leadership team santa clara days planned meetings energized excited future possibilities making great business even stronger part agilent . second , resiliency business model full display quarter agilent\""
      ]
     },
     "execution_count": 81,
     "metadata": {},
     "output_type": "execute_result"
    }
   ],
   "source": [
    "chunks[1]"
   ]
  },
  {
   "cell_type": "code",
   "execution_count": 82,
   "metadata": {
    "execution": {
     "iopub.execute_input": "2023-08-27T10:15:21.317840Z",
     "iopub.status.busy": "2023-08-27T10:15:21.317409Z",
     "iopub.status.idle": "2023-08-27T10:15:21.325338Z",
     "shell.execute_reply": "2023-08-27T10:15:21.324184Z",
     "shell.execute_reply.started": "2023-08-27T10:15:21.317806Z"
    }
   },
   "outputs": [
    {
     "data": {
      "text/plain": [
       "1"
      ]
     },
     "execution_count": 82,
     "metadata": {},
     "output_type": "execute_result"
    }
   ],
   "source": [
    "chunksSentiment[1]"
   ]
  },
  {
   "cell_type": "markdown",
   "metadata": {},
   "source": [
    "## Create Dataset"
   ]
  },
  {
   "cell_type": "code",
   "execution_count": 83,
   "metadata": {
    "execution": {
     "iopub.execute_input": "2023-08-27T10:15:23.886400Z",
     "iopub.status.busy": "2023-08-27T10:15:23.885082Z",
     "iopub.status.idle": "2023-08-27T10:15:23.894695Z",
     "shell.execute_reply": "2023-08-27T10:15:23.893565Z",
     "shell.execute_reply.started": "2023-08-27T10:15:23.886355Z"
    },
    "id": "KMddzncCawoE"
   },
   "outputs": [],
   "source": [
    "from datasets import Dataset\n",
    "import pandas as pd\n",
    "import numpy as np\n",
    "from datasets import Dataset, DatasetDict\n",
    "from sklearn.model_selection import train_test_split"
   ]
  },
  {
   "cell_type": "code",
   "execution_count": 84,
   "metadata": {
    "execution": {
     "iopub.execute_input": "2023-08-27T10:15:24.125684Z",
     "iopub.status.busy": "2023-08-27T10:15:24.125078Z",
     "iopub.status.idle": "2023-08-27T10:15:24.308205Z",
     "shell.execute_reply": "2023-08-27T10:15:24.307060Z",
     "shell.execute_reply.started": "2023-08-27T10:15:24.125630Z"
    }
   },
   "outputs": [],
   "source": [
    "usedData = pd.DataFrame({\"transcript\": chunks,\"labels\":chunksSentiment})"
   ]
  },
  {
   "cell_type": "code",
   "execution_count": 85,
   "metadata": {
    "execution": {
     "iopub.execute_input": "2023-08-27T10:15:24.459589Z",
     "iopub.status.busy": "2023-08-27T10:15:24.459131Z",
     "iopub.status.idle": "2023-08-27T10:15:24.514408Z",
     "shell.execute_reply": "2023-08-27T10:15:24.513352Z",
     "shell.execute_reply.started": "2023-08-27T10:15:24.459551Z"
    }
   },
   "outputs": [],
   "source": [
    "usedData = usedData.sample(frac=1).reset_index(drop=True)"
   ]
  },
  {
   "cell_type": "code",
   "execution_count": 86,
   "metadata": {
    "execution": {
     "iopub.execute_input": "2023-08-27T10:15:26.186993Z",
     "iopub.status.busy": "2023-08-27T10:15:26.186603Z",
     "iopub.status.idle": "2023-08-27T10:15:26.198866Z",
     "shell.execute_reply": "2023-08-27T10:15:26.197492Z",
     "shell.execute_reply.started": "2023-08-27T10:15:26.186963Z"
    }
   },
   "outputs": [
    {
     "data": {
      "text/plain": [
       "1    151325\n",
       "0      9882\n",
       "Name: labels, dtype: int64"
      ]
     },
     "execution_count": 86,
     "metadata": {},
     "output_type": "execute_result"
    }
   ],
   "source": [
    "usedData[\"labels\"].value_counts()"
   ]
  },
  {
   "cell_type": "code",
   "execution_count": 87,
   "metadata": {
    "execution": {
     "iopub.execute_input": "2023-08-27T10:15:28.989031Z",
     "iopub.status.busy": "2023-08-27T10:15:28.988643Z",
     "iopub.status.idle": "2023-08-27T10:15:29.006906Z",
     "shell.execute_reply": "2023-08-27T10:15:29.005783Z",
     "shell.execute_reply.started": "2023-08-27T10:15:28.988999Z"
    }
   },
   "outputs": [
    {
     "data": {
      "text/html": [
       "<div>\n",
       "<style scoped>\n",
       "    .dataframe tbody tr th:only-of-type {\n",
       "        vertical-align: middle;\n",
       "    }\n",
       "\n",
       "    .dataframe tbody tr th {\n",
       "        vertical-align: top;\n",
       "    }\n",
       "\n",
       "    .dataframe thead th {\n",
       "        text-align: right;\n",
       "    }\n",
       "</style>\n",
       "<table border=\"1\" class=\"dataframe\">\n",
       "  <thead>\n",
       "    <tr style=\"text-align: right;\">\n",
       "      <th></th>\n",
       "      <th>transcript</th>\n",
       "      <th>labels</th>\n",
       "    </tr>\n",
       "  </thead>\n",
       "  <tbody>\n",
       "    <tr>\n",
       "      <th>0</th>\n",
       "      <td>, compared 3.4 % home sales revenue last year ...</td>\n",
       "      <td>1</td>\n",
       "    </tr>\n",
       "    <tr>\n",
       "      <th>1</th>\n",
       "      <td>quarter . generated strong sales solid demand ...</td>\n",
       "      <td>1</td>\n",
       "    </tr>\n",
       "    <tr>\n",
       "      <th>2</th>\n",
       "      <td>hello , welcome unum group 3q 2021 earnings co...</td>\n",
       "      <td>1</td>\n",
       "    </tr>\n",
       "    <tr>\n",
       "      <th>3</th>\n",
       "      <td>capital . looking ahead , currently $ 300 mill...</td>\n",
       "      <td>1</td>\n",
       "    </tr>\n",
       "    <tr>\n",
       "      <th>4</th>\n",
       "      <td>march projects delayed , continue awarded new ...</td>\n",
       "      <td>1</td>\n",
       "    </tr>\n",
       "    <tr>\n",
       "      <th>...</th>\n",
       "      <td>...</td>\n",
       "      <td>...</td>\n",
       "    </tr>\n",
       "    <tr>\n",
       "      <th>161202</th>\n",
       "      <td>helped maintain margins . moving slide nine , ...</td>\n",
       "      <td>1</td>\n",
       "    </tr>\n",
       "    <tr>\n",
       "      <th>161203</th>\n",
       "      <td>good morning , welcome idexx laboratories firs...</td>\n",
       "      <td>1</td>\n",
       "    </tr>\n",
       "    <tr>\n",
       "      <th>161204</th>\n",
       "      <td>non-contact measurement tools . fluke industri...</td>\n",
       "      <td>1</td>\n",
       "    </tr>\n",
       "    <tr>\n",
       "      <th>161205</th>\n",
       "      <td>. addition functionality like shared log walle...</td>\n",
       "      <td>1</td>\n",
       "    </tr>\n",
       "    <tr>\n",
       "      <th>161206</th>\n",
       "      <td>contos , chief executive officer ; karri calla...</td>\n",
       "      <td>1</td>\n",
       "    </tr>\n",
       "  </tbody>\n",
       "</table>\n",
       "<p>161207 rows × 2 columns</p>\n",
       "</div>"
      ],
      "text/plain": [
       "                                               transcript  labels\n",
       "0       , compared 3.4 % home sales revenue last year ...       1\n",
       "1       quarter . generated strong sales solid demand ...       1\n",
       "2       hello , welcome unum group 3q 2021 earnings co...       1\n",
       "3       capital . looking ahead , currently $ 300 mill...       1\n",
       "4       march projects delayed , continue awarded new ...       1\n",
       "...                                                   ...     ...\n",
       "161202  helped maintain margins . moving slide nine , ...       1\n",
       "161203  good morning , welcome idexx laboratories firs...       1\n",
       "161204  non-contact measurement tools . fluke industri...       1\n",
       "161205  . addition functionality like shared log walle...       1\n",
       "161206  contos , chief executive officer ; karri calla...       1\n",
       "\n",
       "[161207 rows x 2 columns]"
      ]
     },
     "execution_count": 87,
     "metadata": {},
     "output_type": "execute_result"
    }
   ],
   "source": [
    "usedData"
   ]
  },
  {
   "cell_type": "code",
   "execution_count": 88,
   "metadata": {
    "execution": {
     "iopub.execute_input": "2023-08-27T10:15:34.739580Z",
     "iopub.status.busy": "2023-08-27T10:15:34.739162Z",
     "iopub.status.idle": "2023-08-27T10:15:35.362578Z",
     "shell.execute_reply": "2023-08-27T10:15:35.361476Z",
     "shell.execute_reply.started": "2023-08-27T10:15:34.739546Z"
    },
    "id": "5zJ6pB5ma3lA"
   },
   "outputs": [
    {
     "data": {
      "text/plain": [
       "DatasetDict({\n",
       "    train: Dataset({\n",
       "        features: ['transcript', 'labels'],\n",
       "        num_rows: 112844\n",
       "    })\n",
       "    validation: Dataset({\n",
       "        features: ['transcript', 'labels'],\n",
       "        num_rows: 38690\n",
       "    })\n",
       "    test: Dataset({\n",
       "        features: ['transcript', 'labels'],\n",
       "        num_rows: 9673\n",
       "    })\n",
       "})"
      ]
     },
     "execution_count": 88,
     "metadata": {},
     "output_type": "execute_result"
    }
   ],
   "source": [
    "train,test = train_test_split(usedData,test_size=0.3)\n",
    "validation,test = train_test_split(test,test_size=0.2)\n",
    "testCopy=test\n",
    "tds = Dataset.from_pandas(train)\n",
    "test = Dataset.from_pandas(test)\n",
    "val= Dataset.from_pandas(validation)\n",
    "ds = DatasetDict()\n",
    "\n",
    "ds['train'] = tds\n",
    "ds['validation'] = val\n",
    "ds[\"test\"]=test\n",
    "ds\n",
    "ds = ds.remove_columns(\"__index_level_0__\")\n",
    "ds"
   ]
  },
  {
   "cell_type": "code",
   "execution_count": 89,
   "metadata": {
    "execution": {
     "iopub.execute_input": "2023-08-27T10:15:49.293644Z",
     "iopub.status.busy": "2023-08-27T10:15:49.293227Z",
     "iopub.status.idle": "2023-08-27T10:15:50.150944Z",
     "shell.execute_reply": "2023-08-27T10:15:50.149604Z",
     "shell.execute_reply.started": "2023-08-27T10:15:49.293609Z"
    }
   },
   "outputs": [],
   "source": [
    "testCopy.to_csv(\"test.csv\")"
   ]
  },
  {
   "cell_type": "markdown",
   "metadata": {},
   "source": [
    "## Finetune Bert"
   ]
  },
  {
   "cell_type": "code",
   "execution_count": 90,
   "metadata": {
    "colab": {
     "base_uri": "https://localhost:8080/",
     "height": 209,
     "referenced_widgets": [
      "a0d601bdfb3d478384019480481f563e",
      "11ea8485d4e943389e9071a0abf5c84a",
      "622748dee43e4d28aee96662589f3456",
      "c18be72f9b404f90ba237c27acaa2032",
      "d6ec7ca270134a3397e3fea30be861e7",
      "8a43dc94fc484cdabb225cc247229d20",
      "eee4b911f2a34f9491a959f0ab729bd5",
      "c526b51539274fafa48f611a58972ca0",
      "d9d61c6e5d234914adf9bcdd918cb7df",
      "de7f872e08c9490991cad0f4dbd7f5c5",
      "1b273cdf37824a01841830682c497d74",
      "a39dd4344790430395dc8463ee3d20b6",
      "a574bc2e6480403db16bd48fbb4aa84d",
      "1d74897b959b4d388eac292c55e7b1f2",
      "001f3884f085436e96ed44e13192180e",
      "35a0dd99b6954a989cdbe3ca46235255",
      "f4ce962073ca4b5fa6dffae7a551f3e9",
      "3dba5e358ff045e296f121743e74583a",
      "7d79f11270714921bf4a510e164194a5",
      "486945b7ec614a08973829556e87d4ee",
      "17960f066dd444e690cafc76b9fbda7a",
      "7a7f4fd0c67f4c64863dc8cb2622407a",
      "4da77df48e5c4fb6a51eda8ce72abbbc",
      "2baa85a4625d4186a8dd553eece4e8d5",
      "6dd4b84b50e441398a12382c547dcfc3",
      "fd0f6678371b4178abe9f93ed3a80d6d",
      "6acc1238c79a475991351b320b702dcc",
      "20da6d4021094b70a0182cec413a17d3",
      "fe4103e3a0d940649480f543c263cf4a",
      "940db32b2b334a0aafdca9c32adb2dbc",
      "71de72356e3340aa8afff6e0d710bae9",
      "556fd41625b74add9d14cb9743853c8e",
      "eb2922c9e6a248b79b5839260c9f17db",
      "e5f0be54b08a4f07b422a79b6ee26d44",
      "fd5158d1779d4cce9ffe9cd41b1c78b4",
      "bd337b7981364afc9e63798451bc9af1",
      "1e5871586dbd42fe8cf9a224fc82a8bc",
      "558e4fc2a1db4d6eada1f54f87046a1b",
      "1fbedc0dc21c4459b24551f835cd7bf4",
      "efa11631bbd841b4aec1f0c502bdb4bd",
      "1655d98a88fe4bbabb320ee01115bcac",
      "2c14ab1917bc48ffa78245f19e09dd42",
      "40fe0565e18245a09f79092f75f5b862",
      "7a969f1052894c8192f42928eb959615",
      "28e32c6ff3a247f5a915bd410eb164bc",
      "3f11f57d69a446a8ac356c1928dce17d",
      "e27752c1b5474fb085b583f779dba363",
      "b1e26f99cd5f4defac504f79eeac1c79",
      "53a1c924c4f745edae310b51e1887fd1",
      "faa48f786f31488280fa3a41174476df",
      "ba2f93a203e24446a5ab51d0fab0d205",
      "3d4500009e794ee6a358a8c19b82a38f",
      "4c74019758e4498ba423cfe3381e6bab",
      "abb316057e8344e5accaadf17ecd959a",
      "191f935ced30454f8ff773afb9bb7cc6",
      "96e0c18c52054101acf5282528802903",
      "90445e8064a545f2afb0538b1a3ced48",
      "aba5f1bc4e8c40d5b0604ebb426996ac",
      "7db7274694e94dfe8a6b225c3679f76b",
      "c4c0b0bef6aa4fa28d4fb26dbdb0570f",
      "412a8ed35b9d4035a072a660e08f6aa3",
      "65503b32a8b1492c9e201d03e2fa8670",
      "f9d289d2c8044c19908204d8ded46dbe",
      "24fbe4a8481e4e969a70e48c22371712",
      "eb2df8bf4bb34cce828a3a8bf5f99f97",
      "c4f8c81f1c0b42978e0de220ca4d53ef"
     ]
    },
    "execution": {
     "iopub.execute_input": "2023-08-27T10:15:55.194893Z",
     "iopub.status.busy": "2023-08-27T10:15:55.194491Z",
     "iopub.status.idle": "2023-08-27T10:15:58.830388Z",
     "shell.execute_reply": "2023-08-27T10:15:58.829431Z",
     "shell.execute_reply.started": "2023-08-27T10:15:55.194860Z"
    },
    "id": "OvWj3M9vNZwC",
    "outputId": "0931ce23-e169-463a-e295-50948ea20f36"
   },
   "outputs": [
    {
     "data": {
      "application/vnd.jupyter.widget-view+json": {
       "model_id": "d54916415bfe4b0a87e47a91ed00233f",
       "version_major": 2,
       "version_minor": 0
      },
      "text/plain": [
       "Downloading (…)okenizer_config.json:   0%|          | 0.00/28.0 [00:00<?, ?B/s]"
      ]
     },
     "metadata": {},
     "output_type": "display_data"
    },
    {
     "data": {
      "application/vnd.jupyter.widget-view+json": {
       "model_id": "d41524f8dbf94b8089dde04480337998",
       "version_major": 2,
       "version_minor": 0
      },
      "text/plain": [
       "Downloading (…)lve/main/config.json:   0%|          | 0.00/570 [00:00<?, ?B/s]"
      ]
     },
     "metadata": {},
     "output_type": "display_data"
    },
    {
     "data": {
      "application/vnd.jupyter.widget-view+json": {
       "model_id": "d1c2f286951b48268178e4fbef050d21",
       "version_major": 2,
       "version_minor": 0
      },
      "text/plain": [
       "Downloading (…)solve/main/vocab.txt:   0%|          | 0.00/232k [00:00<?, ?B/s]"
      ]
     },
     "metadata": {},
     "output_type": "display_data"
    },
    {
     "data": {
      "application/vnd.jupyter.widget-view+json": {
       "model_id": "385e9e1621864cc6b3e3f1fa2423b1ae",
       "version_major": 2,
       "version_minor": 0
      },
      "text/plain": [
       "Downloading (…)/main/tokenizer.json:   0%|          | 0.00/466k [00:00<?, ?B/s]"
      ]
     },
     "metadata": {},
     "output_type": "display_data"
    },
    {
     "data": {
      "application/vnd.jupyter.widget-view+json": {
       "model_id": "1d959cb85b794333bae6b758b04e1740",
       "version_major": 2,
       "version_minor": 0
      },
      "text/plain": [
       "Downloading model.safetensors:   0%|          | 0.00/440M [00:00<?, ?B/s]"
      ]
     },
     "metadata": {},
     "output_type": "display_data"
    },
    {
     "name": "stderr",
     "output_type": "stream",
     "text": [
      "Some weights of the model checkpoint at bert-base-uncased were not used when initializing BertForSequenceClassification: ['cls.predictions.transform.LayerNorm.bias', 'cls.predictions.bias', 'cls.predictions.transform.dense.bias', 'cls.seq_relationship.bias', 'cls.predictions.transform.dense.weight', 'cls.predictions.transform.LayerNorm.weight', 'cls.seq_relationship.weight']\n",
      "- This IS expected if you are initializing BertForSequenceClassification from the checkpoint of a model trained on another task or with another architecture (e.g. initializing a BertForSequenceClassification model from a BertForPreTraining model).\n",
      "- This IS NOT expected if you are initializing BertForSequenceClassification from the checkpoint of a model that you expect to be exactly identical (initializing a BertForSequenceClassification model from a BertForSequenceClassification model).\n",
      "Some weights of BertForSequenceClassification were not initialized from the model checkpoint at bert-base-uncased and are newly initialized: ['classifier.weight', 'classifier.bias']\n",
      "You should probably TRAIN this model on a down-stream task to be able to use it for predictions and inference.\n"
     ]
    }
   ],
   "source": [
    "from transformers import AutoTokenizer, AutoModel\n",
    "from transformers import AutoModelForSequenceClassification, TrainingArguments, Trainer,BertForSequenceClassification\n",
    "import torch\n",
    "id2label={1:\"postive\",0:\"negative\"}\n",
    "label2id={\"postive\":1,\"negative\":0}\n",
    "tokenizer = AutoTokenizer.from_pretrained('bert-base-uncased')\n",
    "model = BertForSequenceClassification.from_pretrained('bert-base-uncased',num_labels=2,id2label=id2label,label2id=label2id)"
   ]
  },
  {
   "cell_type": "markdown",
   "metadata": {},
   "source": [
    "## Apply Tokeniztion"
   ]
  },
  {
   "cell_type": "code",
   "execution_count": 91,
   "metadata": {
    "execution": {
     "iopub.execute_input": "2023-08-27T10:17:50.907774Z",
     "iopub.status.busy": "2023-08-27T10:17:50.907213Z",
     "iopub.status.idle": "2023-08-27T10:17:50.914440Z",
     "shell.execute_reply": "2023-08-27T10:17:50.913421Z",
     "shell.execute_reply.started": "2023-08-27T10:17:50.907730Z"
    },
    "id": "sSfDkh30a-gI"
   },
   "outputs": [],
   "source": [
    "def tokenize(examples):\n",
    "      return tokenizer(examples[\"transcript\"],padding=\"max_length\",max_length=512,return_overflowing_tokens=False,add_special_tokens=True,truncation=True)\n",
    "   "
   ]
  },
  {
   "cell_type": "code",
   "execution_count": 92,
   "metadata": {
    "colab": {
     "base_uri": "https://localhost:8080/",
     "height": 267,
     "referenced_widgets": [
      "680af2f89b3f400a9f83cc9fd3fd2359",
      "5df01c0ddb10429990b85d2fa97cdcfb",
      "6c7b18b779fa4aebb35a89e432c540a7",
      "b3150568d1bc4de9aa095dc46aeb8e08",
      "f5462d9ac50841ae8ab0ce69b29ffc60",
      "241c2a02ad1f44fb8b6c3043bb25f1bd",
      "6d42486c842341228a0265a4403592b7",
      "3cddeb8d9cb04b6a9821b0fce0962f00",
      "6c65945925184a05a90b31bc937812a7",
      "d80edd2f42394b2b9a3a576d1c0fe116",
      "815e3d2b16fe463ca9ec5a08b954643c"
     ]
    },
    "execution": {
     "iopub.execute_input": "2023-08-27T10:17:51.957766Z",
     "iopub.status.busy": "2023-08-27T10:17:51.957374Z",
     "iopub.status.idle": "2023-08-27T10:20:55.559063Z",
     "shell.execute_reply": "2023-08-27T10:20:55.557849Z",
     "shell.execute_reply.started": "2023-08-27T10:17:51.957734Z"
    },
    "id": "5aAspYnTyeyS",
    "outputId": "b8c0b00c-2b7c-47df-d38b-5c222179e062"
   },
   "outputs": [
    {
     "data": {
      "application/vnd.jupyter.widget-view+json": {
       "model_id": "1e638d32709b4a378e57b74d0c2250e8",
       "version_major": 2,
       "version_minor": 0
      },
      "text/plain": [
       "  0%|          | 0/113 [00:00<?, ?ba/s]"
      ]
     },
     "metadata": {},
     "output_type": "display_data"
    },
    {
     "data": {
      "application/vnd.jupyter.widget-view+json": {
       "model_id": "ab72162197b4482ab788201ffca3b650",
       "version_major": 2,
       "version_minor": 0
      },
      "text/plain": [
       "  0%|          | 0/39 [00:00<?, ?ba/s]"
      ]
     },
     "metadata": {},
     "output_type": "display_data"
    },
    {
     "data": {
      "application/vnd.jupyter.widget-view+json": {
       "model_id": "1f3e5faccc844e308c39500dc8c568d1",
       "version_major": 2,
       "version_minor": 0
      },
      "text/plain": [
       "  0%|          | 0/10 [00:00<?, ?ba/s]"
      ]
     },
     "metadata": {},
     "output_type": "display_data"
    }
   ],
   "source": [
    "tokenized_dataset=ds.map(tokenize,batched=True)"
   ]
  },
  {
   "cell_type": "code",
   "execution_count": 93,
   "metadata": {
    "execution": {
     "iopub.execute_input": "2023-08-27T10:21:39.081369Z",
     "iopub.status.busy": "2023-08-27T10:21:39.080965Z",
     "iopub.status.idle": "2023-08-27T10:21:39.091905Z",
     "shell.execute_reply": "2023-08-27T10:21:39.090865Z",
     "shell.execute_reply.started": "2023-08-27T10:21:39.081333Z"
    }
   },
   "outputs": [
    {
     "data": {
      "text/plain": [
       "512"
      ]
     },
     "execution_count": 93,
     "metadata": {},
     "output_type": "execute_result"
    }
   ],
   "source": [
    "len(tokenized_dataset[\"train\"][2][\"input_ids\"])"
   ]
  },
  {
   "cell_type": "markdown",
   "metadata": {},
   "source": [
    "## Training Phases"
   ]
  },
  {
   "cell_type": "code",
   "execution_count": 94,
   "metadata": {
    "execution": {
     "iopub.execute_input": "2023-08-27T10:21:41.049173Z",
     "iopub.status.busy": "2023-08-27T10:21:41.048275Z",
     "iopub.status.idle": "2023-08-27T10:21:53.170316Z",
     "shell.execute_reply": "2023-08-27T10:21:53.169009Z",
     "shell.execute_reply.started": "2023-08-27T10:21:41.049129Z"
    }
   },
   "outputs": [
    {
     "name": "stdout",
     "output_type": "stream",
     "text": [
      "huggingface/tokenizers: The current process just got forked, after parallelism has already been used. Disabling parallelism to avoid deadlocks...\n",
      "To disable this warning, you can either:\n",
      "\t- Avoid using `tokenizers` before the fork if possible\n",
      "\t- Explicitly set the environment variable TOKENIZERS_PARALLELISM=(true | false)\n"
     ]
    }
   ],
   "source": [
    "%%capture\n",
    "!pip install evaluate"
   ]
  },
  {
   "cell_type": "code",
   "execution_count": 100,
   "metadata": {
    "execution": {
     "iopub.execute_input": "2023-08-27T10:24:12.900464Z",
     "iopub.status.busy": "2023-08-27T10:24:12.900093Z",
     "iopub.status.idle": "2023-08-27T10:24:15.265478Z",
     "shell.execute_reply": "2023-08-27T10:24:15.264478Z",
     "shell.execute_reply.started": "2023-08-27T10:24:12.900433Z"
    }
   },
   "outputs": [
    {
     "data": {
      "application/vnd.jupyter.widget-view+json": {
       "model_id": "7d592b2369604e9abb40804f353e5866",
       "version_major": 2,
       "version_minor": 0
      },
      "text/plain": [
       "Downloading builder script:   0%|          | 0.00/6.77k [00:00<?, ?B/s]"
      ]
     },
     "metadata": {},
     "output_type": "display_data"
    },
    {
     "data": {
      "application/vnd.jupyter.widget-view+json": {
       "model_id": "64274c7d40c64ce2b30f07c84876f931",
       "version_major": 2,
       "version_minor": 0
      },
      "text/plain": [
       "Downloading builder script:   0%|          | 0.00/7.36k [00:00<?, ?B/s]"
      ]
     },
     "metadata": {},
     "output_type": "display_data"
    },
    {
     "data": {
      "application/vnd.jupyter.widget-view+json": {
       "model_id": "c3414a3a79c04c06ab9e481518c04185",
       "version_major": 2,
       "version_minor": 0
      },
      "text/plain": [
       "Downloading builder script:   0%|          | 0.00/7.55k [00:00<?, ?B/s]"
      ]
     },
     "metadata": {},
     "output_type": "display_data"
    }
   ],
   "source": [
    "import evaluate\n",
    "import numpy as np\n",
    "f1_metric = evaluate.load(\"f1\")\n",
    "recall_metric = evaluate.load(\"recall\")\n",
    "precision_metric = evaluate.load(\"precision\")\n",
    "def compute_metrics (eval_pred):\n",
    "    logits, labels = eval_pred\n",
    "    preds = np.argmax(logits, axis = -1)\n",
    "    results = {}\n",
    "    results.update(f1_metric.compute(predictions=preds, references = labels, average=\"micro\"))\n",
    "    results.update(recall_metric.compute(predictions=preds, references = labels, average=\"micro\"))\n",
    "    results.update(precision_metric.compute(predictions=preds, references = labels, average=\"micro\"))\n",
    "    return results"
   ]
  },
  {
   "cell_type": "code",
   "execution_count": 101,
   "metadata": {
    "execution": {
     "iopub.execute_input": "2023-08-27T10:24:18.934576Z",
     "iopub.status.busy": "2023-08-27T10:24:18.934150Z",
     "iopub.status.idle": "2023-08-27T10:24:18.969873Z",
     "shell.execute_reply": "2023-08-27T10:24:18.968779Z",
     "shell.execute_reply.started": "2023-08-27T10:24:18.934540Z"
    }
   },
   "outputs": [
    {
     "data": {
      "application/vnd.jupyter.widget-view+json": {
       "model_id": "d154b194e2e9439caadd1017eb3a5a05",
       "version_major": 2,
       "version_minor": 0
      },
      "text/plain": [
       "VBox(children=(HTML(value='<center> <img\\nsrc=https://huggingface.co/front/assets/huggingface_logo-noborder.sv…"
      ]
     },
     "metadata": {},
     "output_type": "display_data"
    }
   ],
   "source": [
    "from huggingface_hub import notebook_login\n",
    "\n",
    "notebook_login()"
   ]
  },
  {
   "cell_type": "code",
   "execution_count": 102,
   "metadata": {
    "execution": {
     "iopub.execute_input": "2023-08-27T10:24:35.223730Z",
     "iopub.status.busy": "2023-08-27T10:24:35.223330Z",
     "iopub.status.idle": "2023-08-27T10:24:35.228731Z",
     "shell.execute_reply": "2023-08-27T10:24:35.227457Z",
     "shell.execute_reply.started": "2023-08-27T10:24:35.223698Z"
    }
   },
   "outputs": [],
   "source": [
    "from transformers import  TrainingArguments, Trainer"
   ]
  },
  {
   "cell_type": "code",
   "execution_count": 103,
   "metadata": {
    "execution": {
     "iopub.execute_input": "2023-08-27T10:24:35.777884Z",
     "iopub.status.busy": "2023-08-27T10:24:35.776701Z",
     "iopub.status.idle": "2023-08-27T10:24:35.783184Z",
     "shell.execute_reply": "2023-08-27T10:24:35.781960Z",
     "shell.execute_reply.started": "2023-08-27T10:24:35.777837Z"
    }
   },
   "outputs": [],
   "source": [
    "from transformers import DataCollatorWithPadding\n",
    "\n",
    "data_collator = DataCollatorWithPadding(tokenizer=tokenizer)"
   ]
  },
  {
   "cell_type": "code",
   "execution_count": 96,
   "metadata": {
    "execution": {
     "iopub.execute_input": "2023-08-27T10:23:59.251244Z",
     "iopub.status.busy": "2023-08-27T10:23:59.250854Z",
     "iopub.status.idle": "2023-08-27T10:23:59.264607Z",
     "shell.execute_reply": "2023-08-27T10:23:59.263568Z",
     "shell.execute_reply.started": "2023-08-27T10:23:59.251212Z"
    }
   },
   "outputs": [],
   "source": [
    "\n",
    "training_args = TrainingArguments(\n",
    "    output_dir = \"managersFeedback-V1.0.7\",\n",
    "    learning_rate=2e-5,\n",
    "    per_device_train_batch_size=8,\n",
    "    per_device_eval_batch_size=8,\n",
    "    num_train_epochs=1,\n",
    "    weight_decay=0.01,\n",
    "    evaluation_strategy=\"epoch\",\n",
    "    save_strategy=\"epoch\",\n",
    "    load_best_model_at_end=True,logging_steps=1,gradient_accumulation_steps=2,\n",
    "    push_to_hub=True, # set to true to uploading\n",
    ")"
   ]
  },
  {
   "cell_type": "code",
   "execution_count": 104,
   "metadata": {
    "execution": {
     "iopub.execute_input": "2023-08-27T10:24:38.522075Z",
     "iopub.status.busy": "2023-08-27T10:24:38.521684Z",
     "iopub.status.idle": "2023-08-27T10:24:43.302650Z",
     "shell.execute_reply": "2023-08-27T10:24:43.301557Z",
     "shell.execute_reply.started": "2023-08-27T10:24:38.522043Z"
    }
   },
   "outputs": [
    {
     "name": "stderr",
     "output_type": "stream",
     "text": [
      "Cloning https://huggingface.co/AhmedTaha012/managersFeedback-V1.0.7 into local empty directory.\n"
     ]
    }
   ],
   "source": [
    "trainer = Trainer(\n",
    "    model,\n",
    "    training_args,\n",
    "    train_dataset=tokenized_dataset[\"train\"],\n",
    "    eval_dataset=tokenized_dataset[\"validation\"],\n",
    "    tokenizer=tokenizer,data_collator=data_collator,compute_metrics=compute_metrics\n",
    ")"
   ]
  },
  {
   "cell_type": "code",
   "execution_count": 105,
   "metadata": {
    "execution": {
     "iopub.execute_input": "2023-08-27T10:25:24.533051Z",
     "iopub.status.busy": "2023-08-27T10:25:24.532631Z",
     "iopub.status.idle": "2023-08-27T12:20:42.095786Z",
     "shell.execute_reply": "2023-08-27T12:20:42.094584Z",
     "shell.execute_reply.started": "2023-08-27T10:25:24.533017Z"
    }
   },
   "outputs": [
    {
     "name": "stderr",
     "output_type": "stream",
     "text": [
      "/opt/conda/lib/python3.10/site-packages/transformers/optimization.py:411: FutureWarning: This implementation of AdamW is deprecated and will be removed in a future version. Use the PyTorch implementation torch.optim.AdamW instead, or set `no_deprecation_warning=True` to disable this warning\n",
      "  warnings.warn(\n",
      "\u001b[34m\u001b[1mwandb\u001b[0m: Logging into wandb.ai. (Learn how to deploy a W&B server locally: https://wandb.me/wandb-server)\n",
      "\u001b[34m\u001b[1mwandb\u001b[0m: You can find your API key in your browser here: https://wandb.ai/authorize\n",
      "\u001b[34m\u001b[1mwandb\u001b[0m: Paste an API key from your profile and hit enter, or press ctrl+c to quit:"
     ]
    },
    {
     "name": "stdin",
     "output_type": "stream",
     "text": [
      "  ········································\n"
     ]
    },
    {
     "name": "stderr",
     "output_type": "stream",
     "text": [
      "\u001b[34m\u001b[1mwandb\u001b[0m: Appending key for api.wandb.ai to your netrc file: /root/.netrc\n"
     ]
    },
    {
     "data": {
      "text/html": [
       "wandb version 0.15.8 is available!  To upgrade, please run:\n",
       " $ pip install wandb --upgrade"
      ],
      "text/plain": [
       "<IPython.core.display.HTML object>"
      ]
     },
     "metadata": {},
     "output_type": "display_data"
    },
    {
     "data": {
      "text/html": [
       "Tracking run with wandb version 0.15.5"
      ],
      "text/plain": [
       "<IPython.core.display.HTML object>"
      ]
     },
     "metadata": {},
     "output_type": "display_data"
    },
    {
     "data": {
      "text/html": [
       "Run data is saved locally in <code>/kaggle/working/wandb/run-20230827_102536-3dy49ccn</code>"
      ],
      "text/plain": [
       "<IPython.core.display.HTML object>"
      ]
     },
     "metadata": {},
     "output_type": "display_data"
    },
    {
     "data": {
      "text/html": [
       "Syncing run <strong><a href='https://wandb.ai/ahmed-taha-7725/huggingface/runs/3dy49ccn' target=\"_blank\">charmed-durian-115</a></strong> to <a href='https://wandb.ai/ahmed-taha-7725/huggingface' target=\"_blank\">Weights & Biases</a> (<a href='https://wandb.me/run' target=\"_blank\">docs</a>)<br/>"
      ],
      "text/plain": [
       "<IPython.core.display.HTML object>"
      ]
     },
     "metadata": {},
     "output_type": "display_data"
    },
    {
     "data": {
      "text/html": [
       " View project at <a href='https://wandb.ai/ahmed-taha-7725/huggingface' target=\"_blank\">https://wandb.ai/ahmed-taha-7725/huggingface</a>"
      ],
      "text/plain": [
       "<IPython.core.display.HTML object>"
      ]
     },
     "metadata": {},
     "output_type": "display_data"
    },
    {
     "data": {
      "text/html": [
       " View run at <a href='https://wandb.ai/ahmed-taha-7725/huggingface/runs/3dy49ccn' target=\"_blank\">https://wandb.ai/ahmed-taha-7725/huggingface/runs/3dy49ccn</a>"
      ],
      "text/plain": [
       "<IPython.core.display.HTML object>"
      ]
     },
     "metadata": {},
     "output_type": "display_data"
    },
    {
     "name": "stderr",
     "output_type": "stream",
     "text": [
      "You're using a BertTokenizerFast tokenizer. Please note that with a fast tokenizer, using the `__call__` method is faster than using a method to encode the text followed by a call to the `pad` method to get a padded encoding.\n"
     ]
    },
    {
     "data": {
      "text/html": [
       "\n",
       "    <div>\n",
       "      \n",
       "      <progress value='7053' max='7053' style='width:300px; height:20px; vertical-align: middle;'></progress>\n",
       "      [7053/7053 1:54:30, Epoch 1/1]\n",
       "    </div>\n",
       "    <table border=\"1\" class=\"dataframe\">\n",
       "  <thead>\n",
       " <tr style=\"text-align: left;\">\n",
       "      <th>Epoch</th>\n",
       "      <th>Training Loss</th>\n",
       "      <th>Validation Loss</th>\n",
       "      <th>F1</th>\n",
       "      <th>Recall</th>\n",
       "      <th>Precision</th>\n",
       "    </tr>\n",
       "  </thead>\n",
       "  <tbody>\n",
       "    <tr>\n",
       "      <td>1</td>\n",
       "      <td>0.001300</td>\n",
       "      <td>0.061205</td>\n",
       "      <td>0.980719</td>\n",
       "      <td>0.980719</td>\n",
       "      <td>0.980719</td>\n",
       "    </tr>\n",
       "  </tbody>\n",
       "</table><p>"
      ],
      "text/plain": [
       "<IPython.core.display.HTML object>"
      ]
     },
     "metadata": {},
     "output_type": "display_data"
    },
    {
     "data": {
      "text/plain": [
       "TrainOutput(global_step=7053, training_loss=0.10122421219392819, metrics={'train_runtime': 6916.5299, 'train_samples_per_second': 16.315, 'train_steps_per_second': 1.02, 'total_flos': 2.969050393104384e+16, 'train_loss': 0.10122421219392819, 'epoch': 1.0})"
      ]
     },
     "execution_count": 105,
     "metadata": {},
     "output_type": "execute_result"
    }
   ],
   "source": [
    "trainer.train()"
   ]
  },
  {
   "cell_type": "code",
   "execution_count": 106,
   "metadata": {
    "execution": {
     "iopub.execute_input": "2023-08-27T12:26:00.019062Z",
     "iopub.status.busy": "2023-08-27T12:26:00.017536Z",
     "iopub.status.idle": "2023-08-27T12:29:01.489428Z",
     "shell.execute_reply": "2023-08-27T12:29:01.487822Z",
     "shell.execute_reply.started": "2023-08-27T12:26:00.019019Z"
    }
   },
   "outputs": [
    {
     "data": {
      "text/html": [
       "\n",
       "    <div>\n",
       "      \n",
       "      <progress value='1210' max='1210' style='width:300px; height:20px; vertical-align: middle;'></progress>\n",
       "      [1210/1210 03:00]\n",
       "    </div>\n",
       "    "
      ],
      "text/plain": [
       "<IPython.core.display.HTML object>"
      ]
     },
     "metadata": {},
     "output_type": "display_data"
    },
    {
     "data": {
      "text/plain": [
       "{'eval_loss': 0.05570419877767563,\n",
       " 'eval_f1': 0.9819084048382094,\n",
       " 'eval_recall': 0.9819084048382094,\n",
       " 'eval_precision': 0.9819084048382094,\n",
       " 'eval_runtime': 181.4501,\n",
       " 'eval_samples_per_second': 53.309,\n",
       " 'eval_steps_per_second': 6.668,\n",
       " 'epoch': 1.0}"
      ]
     },
     "execution_count": 106,
     "metadata": {},
     "output_type": "execute_result"
    }
   ],
   "source": [
    "trainer.evaluate(tokenized_dataset[\"test\"])"
   ]
  },
  {
   "cell_type": "code",
   "execution_count": 107,
   "metadata": {
    "execution": {
     "iopub.execute_input": "2023-08-27T12:29:01.498393Z",
     "iopub.status.busy": "2023-08-27T12:29:01.495447Z",
     "iopub.status.idle": "2023-08-27T12:29:16.182608Z",
     "shell.execute_reply": "2023-08-27T12:29:16.181474Z",
     "shell.execute_reply.started": "2023-08-27T12:29:01.498348Z"
    }
   },
   "outputs": [
    {
     "data": {
      "application/vnd.jupyter.widget-view+json": {
       "model_id": "3cdb597d329947e481d21e8a73aa274b",
       "version_major": 2,
       "version_minor": 0
      },
      "text/plain": [
       "Upload file runs/Aug27_10-23-59_a65a41583e15/events.out.tfevents.1693131925.a65a41583e15.28.0:   3%|2         …"
      ]
     },
     "metadata": {},
     "output_type": "display_data"
    },
    {
     "name": "stderr",
     "output_type": "stream",
     "text": [
      "To https://huggingface.co/AhmedTaha012/managersFeedback-V1.0.7\n",
      "   8a710df..3a84b09  main -> main\n",
      "\n"
     ]
    },
    {
     "data": {
      "application/vnd.jupyter.widget-view+json": {
       "model_id": "5d12564e35a2493388b412c8db550208",
       "version_major": 2,
       "version_minor": 0
      },
      "text/plain": [
       "Upload file runs/Aug27_10-23-59_a65a41583e15/events.out.tfevents.1693139341.a65a41583e15.28.1: 100%|##########…"
      ]
     },
     "metadata": {},
     "output_type": "display_data"
    },
    {
     "name": "stderr",
     "output_type": "stream",
     "text": [
      "To https://huggingface.co/AhmedTaha012/managersFeedback-V1.0.7\n",
      "   3a84b09..ecd4834  main -> main\n",
      "\n"
     ]
    },
    {
     "data": {
      "text/plain": [
       "'https://huggingface.co/AhmedTaha012/managersFeedback-V1.0.7/commit/3a84b099fc250fb142b4352d5c56e52943996e3a'"
      ]
     },
     "execution_count": 107,
     "metadata": {},
     "output_type": "execute_result"
    }
   ],
   "source": [
    "trainer.push_to_hub() "
   ]
  },
  {
   "cell_type": "code",
   "execution_count": 108,
   "metadata": {
    "execution": {
     "iopub.execute_input": "2023-08-27T12:33:44.259597Z",
     "iopub.status.busy": "2023-08-27T12:33:44.259136Z",
     "iopub.status.idle": "2023-08-27T12:34:02.731893Z",
     "shell.execute_reply": "2023-08-27T12:34:02.730577Z",
     "shell.execute_reply.started": "2023-08-27T12:33:44.259558Z"
    }
   },
   "outputs": [
    {
     "data": {
      "application/vnd.jupyter.widget-view+json": {
       "model_id": "3fa1e6e732c6406aa0ff955567877564",
       "version_major": 2,
       "version_minor": 0
      },
      "text/plain": [
       "Downloading (…)lve/main/config.json:   0%|          | 0.00/845 [00:00<?, ?B/s]"
      ]
     },
     "metadata": {},
     "output_type": "display_data"
    },
    {
     "data": {
      "application/vnd.jupyter.widget-view+json": {
       "model_id": "63ec8b81d9d342949d051ca22ce5d075",
       "version_major": 2,
       "version_minor": 0
      },
      "text/plain": [
       "Downloading pytorch_model.bin:   0%|          | 0.00/438M [00:00<?, ?B/s]"
      ]
     },
     "metadata": {},
     "output_type": "display_data"
    },
    {
     "data": {
      "application/vnd.jupyter.widget-view+json": {
       "model_id": "16c72df04d7546bc9c00192108c7875a",
       "version_major": 2,
       "version_minor": 0
      },
      "text/plain": [
       "Downloading (…)okenizer_config.json:   0%|          | 0.00/314 [00:00<?, ?B/s]"
      ]
     },
     "metadata": {},
     "output_type": "display_data"
    },
    {
     "data": {
      "application/vnd.jupyter.widget-view+json": {
       "model_id": "1437a1d1d85d42e8b55fc20550fdfb9b",
       "version_major": 2,
       "version_minor": 0
      },
      "text/plain": [
       "Downloading (…)solve/main/vocab.txt:   0%|          | 0.00/232k [00:00<?, ?B/s]"
      ]
     },
     "metadata": {},
     "output_type": "display_data"
    },
    {
     "data": {
      "application/vnd.jupyter.widget-view+json": {
       "model_id": "b4bae07cb1834c08b48ad5fe2e0bb3b5",
       "version_major": 2,
       "version_minor": 0
      },
      "text/plain": [
       "Downloading (…)/main/tokenizer.json:   0%|          | 0.00/712k [00:00<?, ?B/s]"
      ]
     },
     "metadata": {},
     "output_type": "display_data"
    },
    {
     "data": {
      "application/vnd.jupyter.widget-view+json": {
       "model_id": "a8dc3d166de641f8bc2026aa0de0a488",
       "version_major": 2,
       "version_minor": 0
      },
      "text/plain": [
       "Downloading (…)cial_tokens_map.json:   0%|          | 0.00/125 [00:00<?, ?B/s]"
      ]
     },
     "metadata": {},
     "output_type": "display_data"
    }
   ],
   "source": [
    "from transformers import pipeline\n",
    "\n",
    "pipe = pipeline(\"text-classification\", model=\"AhmedTaha012/managersFeedback-V1.0.7\")"
   ]
  },
  {
   "cell_type": "code",
   "execution_count": 127,
   "metadata": {
    "execution": {
     "iopub.execute_input": "2023-08-27T12:36:40.139210Z",
     "iopub.status.busy": "2023-08-27T12:36:40.138823Z",
     "iopub.status.idle": "2023-08-27T12:36:40.278481Z",
     "shell.execute_reply": "2023-08-27T12:36:40.277267Z",
     "shell.execute_reply.started": "2023-08-27T12:36:40.139173Z"
    }
   },
   "outputs": [],
   "source": [
    "testData=pd.read_csv(\"/kaggle/working/test.csv\")"
   ]
  },
  {
   "cell_type": "code",
   "execution_count": 128,
   "metadata": {
    "execution": {
     "iopub.execute_input": "2023-08-27T12:36:44.096188Z",
     "iopub.status.busy": "2023-08-27T12:36:44.095785Z",
     "iopub.status.idle": "2023-08-27T12:36:44.119028Z",
     "shell.execute_reply": "2023-08-27T12:36:44.117937Z",
     "shell.execute_reply.started": "2023-08-27T12:36:44.096151Z"
    }
   },
   "outputs": [
    {
     "data": {
      "text/html": [
       "<div>\n",
       "<style scoped>\n",
       "    .dataframe tbody tr th:only-of-type {\n",
       "        vertical-align: middle;\n",
       "    }\n",
       "\n",
       "    .dataframe tbody tr th {\n",
       "        vertical-align: top;\n",
       "    }\n",
       "\n",
       "    .dataframe thead th {\n",
       "        text-align: right;\n",
       "    }\n",
       "</style>\n",
       "<table border=\"1\" class=\"dataframe\">\n",
       "  <thead>\n",
       "    <tr style=\"text-align: right;\">\n",
       "      <th></th>\n",
       "      <th>Unnamed: 0</th>\n",
       "      <th>transcript</th>\n",
       "      <th>labels</th>\n",
       "    </tr>\n",
       "  </thead>\n",
       "  <tbody>\n",
       "    <tr>\n",
       "      <th>0</th>\n",
       "      <td>95218</td>\n",
       "      <td>good morning welcome cnfinance first quarter 2...</td>\n",
       "      <td>1</td>\n",
       "    </tr>\n",
       "    <tr>\n",
       "      <th>1</th>\n",
       "      <td>26869</td>\n",
       "      <td>good day , thank standing . welcome arconic co...</td>\n",
       "      <td>1</td>\n",
       "    </tr>\n",
       "    <tr>\n",
       "      <th>2</th>\n",
       "      <td>22955</td>\n",
       "      <td>costs related acquisition new clients despite ...</td>\n",
       "      <td>1</td>\n",
       "    </tr>\n",
       "    <tr>\n",
       "      <th>3</th>\n",
       "      <td>30185</td>\n",
       "      <td>superior execution remaining focused strategic...</td>\n",
       "      <td>1</td>\n",
       "    </tr>\n",
       "    <tr>\n",
       "      <th>4</th>\n",
       "      <td>156369</td>\n",
       "      <td>'s losses bankruptcy filing date . deconsolida...</td>\n",
       "      <td>1</td>\n",
       "    </tr>\n",
       "    <tr>\n",
       "      <th>...</th>\n",
       "      <td>...</td>\n",
       "      <td>...</td>\n",
       "      <td>...</td>\n",
       "    </tr>\n",
       "    <tr>\n",
       "      <th>9668</th>\n",
       "      <td>12096</td>\n",
       "      <td>'s shift quick thoughts previously announced t...</td>\n",
       "      <td>1</td>\n",
       "    </tr>\n",
       "    <tr>\n",
       "      <th>9669</th>\n",
       "      <td>44217</td>\n",
       "      <td>quick follow-up capital structure . mike , com...</td>\n",
       "      <td>1</td>\n",
       "    </tr>\n",
       "    <tr>\n",
       "      <th>9670</th>\n",
       "      <td>119117</td>\n",
       "      <td>, targeted increases discretionary spending dr...</td>\n",
       "      <td>1</td>\n",
       "    </tr>\n",
       "    <tr>\n",
       "      <th>9671</th>\n",
       "      <td>77085</td>\n",
       "      <td>outside hilltop holdings purchased market valu...</td>\n",
       "      <td>0</td>\n",
       "    </tr>\n",
       "    <tr>\n",
       "      <th>9672</th>\n",
       "      <td>121751</td>\n",
       "      <td>taxes , depreciation , amortization margin exp...</td>\n",
       "      <td>1</td>\n",
       "    </tr>\n",
       "  </tbody>\n",
       "</table>\n",
       "<p>9673 rows × 3 columns</p>\n",
       "</div>"
      ],
      "text/plain": [
       "      Unnamed: 0                                         transcript  labels\n",
       "0          95218  good morning welcome cnfinance first quarter 2...       1\n",
       "1          26869  good day , thank standing . welcome arconic co...       1\n",
       "2          22955  costs related acquisition new clients despite ...       1\n",
       "3          30185  superior execution remaining focused strategic...       1\n",
       "4         156369  's losses bankruptcy filing date . deconsolida...       1\n",
       "...          ...                                                ...     ...\n",
       "9668       12096  's shift quick thoughts previously announced t...       1\n",
       "9669       44217  quick follow-up capital structure . mike , com...       1\n",
       "9670      119117  , targeted increases discretionary spending dr...       1\n",
       "9671       77085  outside hilltop holdings purchased market valu...       0\n",
       "9672      121751  taxes , depreciation , amortization margin exp...       1\n",
       "\n",
       "[9673 rows x 3 columns]"
      ]
     },
     "execution_count": 128,
     "metadata": {},
     "output_type": "execute_result"
    }
   ],
   "source": [
    "testData"
   ]
  },
  {
   "cell_type": "code",
   "execution_count": 134,
   "metadata": {
    "execution": {
     "iopub.execute_input": "2023-08-27T12:39:09.540312Z",
     "iopub.status.busy": "2023-08-27T12:39:09.539881Z",
     "iopub.status.idle": "2023-08-27T12:39:09.553698Z",
     "shell.execute_reply": "2023-08-27T12:39:09.552399Z",
     "shell.execute_reply.started": "2023-08-27T12:39:09.540282Z"
    }
   },
   "outputs": [],
   "source": [
    "import math\n",
    "splitSize=256\n",
    "tokens=data[\"transcript\"].iloc[5].split()\n",
    "chunks=[\" \".join(x) for x in [tokens[r*splitSize:(r+1)*splitSize] for r in range(math.ceil(len(tokens)/splitSize))]]"
   ]
  },
  {
   "cell_type": "code",
   "execution_count": 135,
   "metadata": {
    "execution": {
     "iopub.execute_input": "2023-08-27T12:39:13.032640Z",
     "iopub.status.busy": "2023-08-27T12:39:13.032217Z",
     "iopub.status.idle": "2023-08-27T12:39:13.046671Z",
     "shell.execute_reply": "2023-08-27T12:39:13.045181Z",
     "shell.execute_reply.started": "2023-08-27T12:39:13.032606Z"
    }
   },
   "outputs": [
    {
     "data": {
      "text/plain": [
       "[\"good afternoon welcome agilent technologies second quarter earnings conference call . [ operator instructions ] 'd like introduce host today 's conference , ruben dirado , director , investor relations . please go ahead , sir . thank gabriel , welcome everyone agilent 's second quarter conference call fiscal year 2021. mike mcmullen , agilent 's president ceo ; bob mcmahon , agilent 's senior vice president chief financial officer . joining q & bob mike 's comments jacob thaysen , president agilent 's life science applied markets group ; sam raha , president agilent 's diagnostics genomics group ; padraig mcdonnell , president agilent crosslab group . presentation webcast live . news release , investor presentation information supplement today 's discussion , along recording webcast made available website investor.agilent.com . today 's comments mike bob refer non-generally accepted accounting principles financial measures . find directly comparable generally accepted accounting principles financial metrics reconciliations website . unless otherwise noted , references increases decreases financial metrics year-over-year references revenue growth core basis . core revenue growth excludes impact currency acquisitions divestitures completed within past 12 months . guidance based exchange rates april 30 . also make forward-looking statements financial performance company . statements subject risks uncertainties valid today . company assumes obligation update . please look company 's recent u.s. securities exchange commission filings complete picture risks factors . thanks ruben , thanks everyone joining call today . get detail -- quarterly details , want start recognize agilent india team . despite challenging covid-19 situation , india\",\n",
       " 'team working closely cause help time extreme need . addition agilent india customer support , finance teams worked tiredlessly help us close second quarter keep us moving forward . could proud team worked together true one agilent fashion . thoughts go entire agilent india team families difficult time . second quarter strong momentum business continues backdrop recovering market . agilent team delivered another outstanding quarter exceeding expectations , revenue earnings sharply versus solid second quarter last year revenue earnings per share relatively flat . growth broad-based across business groups , markets geographies . also expanding margins driving faster earnings-per-share growth . revenues quarter $ 1.525 billion . 23 % reported basis 19 % core . covid-19 related revenues accounted roughly 2 % overall revenues expected contributes 1 point overall growth . revenue growth one quarter easy compare story , one sustained market growth . example , second quarter revenues 17 % core two years ago . second quarter operating margin 23.9 % . 150 basis points . earnings per share $ 0.97 37 % year-over-year . late quarter , also welcomed resolution bioscience team agilent , continued investments high-growth markets bringing outstanding talent agilent . like recent acquisitions cell analysis , resolution bioscience example build buy growth strategy action . agilent story remains . story one team outpacing market deliver strong broad-based growth environment continuing market recovery . moving onto end market highlights , strongly markets . growth led 29 % growth pharma 22 % food . seeing improving growth chemical energy market 14 % growth',\n",
       " \". also posted low-teens growth diagnostics 20 % growth academia government . lastly , environmental forensics grew 8 % . bob provide end market detail later comments . geographically , americas led way 27 % growth . strength china , europe rest asia continues growing mid-teens . 30 % growth china top 4 % growth last year business started recover pandemic . look performance business group , life sciences applied markets group generated revenues $ 674 million quarter . lsag 28 % reported basis 25 % core 7 % decline last year . lsag 's growth broad-based across end markets geographies . focus investments fast growing end markets continues pay . lsag pharma business strong , growing 41 % strength biopharma small molecule . product perspective , saw strength liquid chromatography lcms along continued growth cell analysis . quarter , cell analysis grew 34 % biotek business growing close 40 % . quarter lsag team also contribute long-term companywide focus sustainability advance important esg initiatives . lsag announced several new products earned highly respected accountability , consistency transparency , act label green lab . green lab non-profit organization dedicated improve sustainability scientific research . lsag products also receive two scientist choice awards select science virtual analytical summit . cell analysis business quarter -- cell analysis business quarter , excuse , launched cytation c10 confocal imaging reader , multi-functional automated system focused research labs core facilities looking increased productivity . product builds biotek cell imaging leadership cytation multimode leader expands reach strategic business . still early ,\",\n",
       " \"customer feedback extremely positive . also pleased progress trajectory cell analysis business overall see positive future space . agilent cross lab group posted revenues $ 536 million . reported 19 % 15 % core basis versus 1 % increase last year . acg 's growth driven demand consumables services across portfolio lab actively continues increase customers . leading on-demand services parts consumption . revenues contract business continues drive strong growth due high level contract renewals seen previous quarter . strong instrument placements increase installed base benefit acg business going forward . time digital investments continue pay continued strong customer uptake consumables digitally enabled services offerings . lsag acg businesses come together ilab . believe well positioned continue driving market growth build market leading portfolio , strong service organization outstanding customer service . diagnostics genomics group revenues $ 315 million , 20 % reported 16 % core versus 5 % increase last year . growth broad-based , led nasd oligo genomics businesses . demand nasd offerings remains strong capacity expansion plans high-growth nasd business remain track . 're pleased acquisition resolution bioscience quarter liquid biopsy technology , resolution bioscience key player exciting area cancer diagnostics . glad agilent team . 'm confident time goes on. , 'll hearing us business contributions . would like recap second quarter take look forward . strong momentum business continues . driven relentless customer focus , strength portfolio execution capabilities one agilent team . build buy growth strategy delivering intended market growth . last year , 've often said , agilent 's\",\n",
       " \"focused coming pandemic even stronger company . believe 're seeing impact approach current results . look ahead sense optimism confidence . optimistic , continued market recovery strength portfolio . confident , right team , customer focused , operationally excellent driven win . result raising full-year revenue earnings guidance . bob share details , expect continuation excellent top line growth . also expect compare strong top line excellent earnings growth cash generation . investor event december , discussed shareholder value creation model goals increasing long-term growth expanding margins . six months fiscal 2021 well way achieving objectives . build buy growth strategy delivering . one-agilent team continues demonstrate execution prowess strong drive win . raised bar customer service continue exceed customer expectations providing industry-leading products services . yet fully emerge global pandemic , looking forward future optimism confidence . thank call today look forward questions . hand call bob . bob ? thanks , mike , good afternoon everyone . remarks today , 'll provide additional details second quarter revenue take income statement key financial metrics . 'll finish updated outlook year third quarter . unless otherwise noted , remarks focus non-generally accepted accounting principles results . revenue second quarter $ 1.525 billion , reflecting reported growth 23 % . core revenue growth 19 % , currency contributed 4 points growth . pleased second quarter results saw strong broad-based growth three business groups posting mid-teens growth higher end markets growing strongly . end market perspective , focus fast growing markets paying . pharma , largest market ,\",\n",
       " 'led way delivering 29 % growth . top growing 5 % last year . growth led cell analysis lc mass spec . tools delivering critical capabilities biopharma customers continue make investments develop new therapies vaccines . biopharma business grew roughly 40 % represented 35 % pharma business quarter . small molecule segment also momentum , growing mid 20s quarter . overall , well positioned within pharma expect pharma market continue strongest end-market enter second half year . food market continued strong performance , growing 22 % . experienced strong growth across regions segments continue see global investments across entire food supply chain . pleased see non-covid diagnostics businesses continue improve throughout quarter , growing 13 % routine doctor visits return closer pre-pandemic levels . posted strong month diagnostics clinical market came anniversary , weak april experienced large markets onset pandemic last year . exited quarter testing volumes run rate slightly higher pre-pandemic level . chemical energy market continues recover grew 14 % decline 10 % last year . results primarily driven continued strength chemicals materials markets positive sign , order growth rates ahead revenues finished quarter strong leading us believe trend continue . also saw nice recovery academia government market non-covid related labs resume operations strong funding environment . increase activity , business grew 21 % weakest comparison year . would expect academia government market continue recover throughout rest year . lastly , environmental forensics market saw high single-digit growth driven americas , services consumables atomic spectroscopy . geographic basis , regions grew led americas 27',\n",
       " '% , pharma academia government markets americas grew low 30 % range markets grew least 20 % . europe experienced 16 % growth led food , academia government c & e . three markets grew 20 % . mike noted , china grew 13 % growing 4 % last year . driven pharma growth high 30s . growth orders outpaced revenue growth mid single-digits quarter . turning rest profit loss . second quarter gross margin 55.4 % flat year-on-year , despite headwind 30 basis points currency . operating margin second quarter came 23.9 % , driven volume , solid 150 basis points last year , even saw increased spending activity ramped invest future . strong top line growth coupled operating leverage helped deliver earnings per share $ 0.97 , 37 % versus last year . tax rate 14.75 % share count 307 million shares . cash flow balance sheet . performance translated strong cash flows . delivered $ 472 million operating cash flow quarter , 50 % last year . strong cash flow continued help drive balanced capital deployment strategy . quarter returned $ 254 million shareholders , paying $ 59 million dividends repurchasing 1.55 million shares $ 195 million . mike mentioned , also continue strategically invest business , spent net $ 547 million purchase resolution bioscience invested $ 31 million capital expenditures . year-to-date , returned $ 657 million shareholders form dividends share repurchases , reinvesting business spending $ 619 million mergers acquisitions capital expenditures . ended quarter strong balance sheet , enables us',\n",
       " \"enjoy financial flexibility going forward . quarter , raised $ 850 million long-term debt favorable terms , redeemed $ 300 million maturing next year reduced ongoing interest expense . ended quarter $ 1.4 billion cash , $ 2.9 billion outstanding debt net leverage ratio 1 time . turning outlook full year third quarter . see great opportunity build strong first half results . looking forward , pandemic still us , continue see recovery end markets solid momentum businesses . result , increasing full year projections revenue earnings per share . reflects strong second quarter results increasing expectations second half year . also incorporating resolution bioscience guidance . revenue , increasing full-year range range $ 6.15 billion $ 6.21 billion , nearly $ 320 million midpoint representing reported growth 15 % 16 % core growth 12 % 13 % . included roughly 3 points currency 0.5 point attributable mergers acquisitions . increased outlook also reflects continued growth end markets . see sustained momentum second half year pharma , food environmental forensic markets . end markets expect continue recover second half include diagnostics clinical , academia government c & e . mike mentioned investor event december , provided long-range plan annual margin expansion range 50 100 basis points . updated guidance year exceeds top end range . addition , increasing fiscal 2021 non-generally accepted accounting principles earnings per share range $ 4.09 $ 4.14 per share . growth 25 % 26 % year . third fiscal quarter , 're expecting revenue range $ 1.51 billion $ 1.54 billion\",\n",
       " \", representing reported growth 20 % 22 % core growth 15 % 17.5 % . expect third quarter non-generally accepted accounting principles earnings per share range $ 0.97 $ 0.99 per share growth 24 % 27 % . , opening call questions , want say 're extremely pleased 've started first half year . believe strategies execution driving strong results 've achieved put us great position continue drive strong results remainder year .\"]"
      ]
     },
     "execution_count": 135,
     "metadata": {},
     "output_type": "execute_result"
    }
   ],
   "source": [
    "chunks"
   ]
  },
  {
   "cell_type": "code",
   "execution_count": 136,
   "metadata": {
    "execution": {
     "iopub.execute_input": "2023-08-27T12:39:26.429657Z",
     "iopub.status.busy": "2023-08-27T12:39:26.429241Z",
     "iopub.status.idle": "2023-08-27T12:39:32.457848Z",
     "shell.execute_reply": "2023-08-27T12:39:32.456401Z",
     "shell.execute_reply.started": "2023-08-27T12:39:26.429624Z"
    }
   },
   "outputs": [],
   "source": [
    "perdiction=[pipe(x)[0][\"label\"] for x in chunks]\n",
    "finalpred=max(perdiction,key=perdiction.count)"
   ]
  },
  {
   "cell_type": "code",
   "execution_count": 139,
   "metadata": {
    "execution": {
     "iopub.execute_input": "2023-08-27T12:39:50.427361Z",
     "iopub.status.busy": "2023-08-27T12:39:50.426410Z",
     "iopub.status.idle": "2023-08-27T12:39:50.438204Z",
     "shell.execute_reply": "2023-08-27T12:39:50.435974Z",
     "shell.execute_reply.started": "2023-08-27T12:39:50.427314Z"
    }
   },
   "outputs": [
    {
     "data": {
      "text/plain": [
       "['postive',\n",
       " 'postive',\n",
       " 'postive',\n",
       " 'postive',\n",
       " 'postive',\n",
       " 'postive',\n",
       " 'postive',\n",
       " 'postive',\n",
       " 'postive']"
      ]
     },
     "execution_count": 139,
     "metadata": {},
     "output_type": "execute_result"
    }
   ],
   "source": [
    "perdiction"
   ]
  },
  {
   "cell_type": "code",
   "execution_count": 138,
   "metadata": {
    "execution": {
     "iopub.execute_input": "2023-08-27T12:39:40.562034Z",
     "iopub.status.busy": "2023-08-27T12:39:40.561637Z",
     "iopub.status.idle": "2023-08-27T12:39:40.578634Z",
     "shell.execute_reply": "2023-08-27T12:39:40.577404Z",
     "shell.execute_reply.started": "2023-08-27T12:39:40.562004Z"
    }
   },
   "outputs": [
    {
     "data": {
      "text/plain": [
       "'postive'"
      ]
     },
     "execution_count": 138,
     "metadata": {},
     "output_type": "execute_result"
    }
   ],
   "source": [
    "finalpred"
   ]
  },
  {
   "cell_type": "code",
   "execution_count": 118,
   "metadata": {
    "execution": {
     "iopub.execute_input": "2023-08-27T12:35:45.548087Z",
     "iopub.status.busy": "2023-08-27T12:35:45.547366Z",
     "iopub.status.idle": "2023-08-27T12:35:45.557270Z",
     "shell.execute_reply": "2023-08-27T12:35:45.555988Z",
     "shell.execute_reply.started": "2023-08-27T12:35:45.548049Z"
    }
   },
   "outputs": [
    {
     "data": {
      "text/plain": [
       "['postive']"
      ]
     },
     "execution_count": 118,
     "metadata": {},
     "output_type": "execute_result"
    }
   ],
   "source": [
    "perdiction"
   ]
  },
  {
   "cell_type": "code",
   "execution_count": 33,
   "metadata": {
    "execution": {
     "iopub.execute_input": "2023-08-27T09:25:27.544679Z",
     "iopub.status.busy": "2023-08-27T09:25:27.544245Z",
     "iopub.status.idle": "2023-08-27T09:25:27.551773Z",
     "shell.execute_reply": "2023-08-27T09:25:27.550702Z",
     "shell.execute_reply.started": "2023-08-27T09:25:27.544650Z"
    }
   },
   "outputs": [
    {
     "data": {
      "text/plain": [
       "'negative'"
      ]
     },
     "execution_count": 33,
     "metadata": {},
     "output_type": "execute_result"
    }
   ],
   "source": [
    "finalpred"
   ]
  },
  {
   "cell_type": "code",
   "execution_count": 35,
   "metadata": {
    "execution": {
     "iopub.execute_input": "2023-08-27T09:25:33.631150Z",
     "iopub.status.busy": "2023-08-27T09:25:33.630807Z",
     "iopub.status.idle": "2023-08-27T09:25:33.637295Z",
     "shell.execute_reply": "2023-08-27T09:25:33.636263Z",
     "shell.execute_reply.started": "2023-08-27T09:25:33.631123Z"
    }
   },
   "outputs": [
    {
     "data": {
      "text/plain": [
       "['negative', 'negative', 'negative', 'negative', 'negative', 'negative']"
      ]
     },
     "execution_count": 35,
     "metadata": {},
     "output_type": "execute_result"
    }
   ],
   "source": [
    "perdiction"
   ]
  },
  {
   "cell_type": "code",
   "execution_count": 38,
   "metadata": {
    "execution": {
     "iopub.execute_input": "2023-08-27T09:27:36.239471Z",
     "iopub.status.busy": "2023-08-27T09:27:36.238940Z",
     "iopub.status.idle": "2023-08-27T09:27:36.246899Z",
     "shell.execute_reply": "2023-08-27T09:27:36.245888Z",
     "shell.execute_reply.started": "2023-08-27T09:27:36.239433Z"
    }
   },
   "outputs": [
    {
     "data": {
      "text/plain": [
       "\", decline 0.8 ppts compared 2q'21 . net non-operating income 3q'21was twd148 compared net non-operating expenses 2q'21 . difference mainly due increase share gain associates accounted using equity method twd85 million . decrease foreign exchange losses twd62 million increase gain valuation financial assets fair value profit loss twd15 million . profit attributable company 3q'21 expanded 9 % compared 2q'21 . basic weighted average outstanding common shares 727 million shares . compared 3q'20 , total revenue 3q'21 25.9 % . gross margin increased 8.0 ppts 27.3 % . operating expenses increased 17.4 % . operating profit margin increased 8.7 ppts 21.3 % . net non-operating income 3q'21were twd148 million compared net non-operating expenses 3q'20 . difference mainly due increase share gain associates accounted using equity method twd201million decrease foreign exchange losses twd112 million . profit 230.4 % compared 3q'20 . difference mainly due increase operating profit twd810 million . net non-operating income twd327 million partially offset increase income tax expense twd160 million . referencing presentation page 14 , consolidated statements financial position key indices . total assets end 3q'21 twd39,334 million . total liabilities end 3q'21 twd16,492 million . total equity end 3q'21 twd22,842 million . accounts receivable turnover days 3q'21 77 days . inventory turnover days 45 days 3q'21 . referencing presentation page 15. consolidated statements cash flows . september 30 , 2021 , balance cash cash equivalents twd5,189 million , increased twd1,075 million compared beginning first quarter . free cash flow first nine months 2021 twd1,416 million compared twd1,329 million period 2020. difference mainly due\""
      ]
     },
     "execution_count": 38,
     "metadata": {},
     "output_type": "execute_result"
    }
   ],
   "source": [
    "chunks[-3]"
   ]
  },
  {
   "cell_type": "code",
   "execution_count": null,
   "metadata": {},
   "outputs": [],
   "source": []
  }
 ],
 "metadata": {
  "accelerator": "GPU",
  "colab": {
   "gpuType": "T4",
   "provenance": []
  },
  "kernelspec": {
   "display_name": "Python 3 (ipykernel)",
   "language": "python",
   "name": "python3"
  },
  "language_info": {
   "codemirror_mode": {
    "name": "ipython",
    "version": 3
   },
   "file_extension": ".py",
   "mimetype": "text/x-python",
   "name": "python",
   "nbconvert_exporter": "python",
   "pygments_lexer": "ipython3",
   "version": "3.11.4"
  },
  "widgets": {
   "application/vnd.jupyter.widget-state+json": {
    "001f3884f085436e96ed44e13192180e": {
     "model_module": "@jupyter-widgets/controls",
     "model_module_version": "1.5.0",
     "model_name": "HTMLModel",
     "state": {
      "_dom_classes": [],
      "_model_module": "@jupyter-widgets/controls",
      "_model_module_version": "1.5.0",
      "_model_name": "HTMLModel",
      "_view_count": null,
      "_view_module": "@jupyter-widgets/controls",
      "_view_module_version": "1.5.0",
      "_view_name": "HTMLView",
      "description": "",
      "description_tooltip": null,
      "layout": "IPY_MODEL_17960f066dd444e690cafc76b9fbda7a",
      "placeholder": "​",
      "style": "IPY_MODEL_7a7f4fd0c67f4c64863dc8cb2622407a",
      "value": " 226k/226k [00:00&lt;00:00, 3.20MB/s]"
     }
    },
    "06d038addb584ac280494ed7760e978b": {
     "model_module": "@jupyter-widgets/base",
     "model_module_version": "1.2.0",
     "model_name": "LayoutModel",
     "state": {
      "_model_module": "@jupyter-widgets/base",
      "_model_module_version": "1.2.0",
      "_model_name": "LayoutModel",
      "_view_count": null,
      "_view_module": "@jupyter-widgets/base",
      "_view_module_version": "1.2.0",
      "_view_name": "LayoutView",
      "align_content": null,
      "align_items": null,
      "align_self": null,
      "border": null,
      "bottom": null,
      "display": null,
      "flex": null,
      "flex_flow": null,
      "grid_area": null,
      "grid_auto_columns": null,
      "grid_auto_flow": null,
      "grid_auto_rows": null,
      "grid_column": null,
      "grid_gap": null,
      "grid_row": null,
      "grid_template_areas": null,
      "grid_template_columns": null,
      "grid_template_rows": null,
      "height": null,
      "justify_content": null,
      "justify_items": null,
      "left": null,
      "margin": null,
      "max_height": null,
      "max_width": null,
      "min_height": null,
      "min_width": null,
      "object_fit": null,
      "object_position": null,
      "order": null,
      "overflow": null,
      "overflow_x": null,
      "overflow_y": null,
      "padding": null,
      "right": null,
      "top": null,
      "visibility": null,
      "width": null
     }
    },
    "0933e87663444eeb9628c7a7ff1509fa": {
     "model_module": "@jupyter-widgets/controls",
     "model_module_version": "1.5.0",
     "model_name": "HTMLModel",
     "state": {
      "_dom_classes": [],
      "_model_module": "@jupyter-widgets/controls",
      "_model_module_version": "1.5.0",
      "_model_name": "HTMLModel",
      "_view_count": null,
      "_view_module": "@jupyter-widgets/controls",
      "_view_module_version": "1.5.0",
      "_view_name": "HTMLView",
      "description": "",
      "description_tooltip": null,
      "layout": "IPY_MODEL_64330d9b282f42f18577b0c3c6aa3cda",
      "placeholder": "​",
      "style": "IPY_MODEL_20dcee7072414dc2b161622f8726dd3f",
      "value": " 1.72k/1.72k [00:01&lt;00:00, 864B/s]"
     }
    },
    "0beca1c1e59e4fb5949b835b5806532f": {
     "model_module": "@jupyter-widgets/controls",
     "model_module_version": "1.5.0",
     "model_name": "HBoxModel",
     "state": {
      "_dom_classes": [],
      "_model_module": "@jupyter-widgets/controls",
      "_model_module_version": "1.5.0",
      "_model_name": "HBoxModel",
      "_view_count": null,
      "_view_module": "@jupyter-widgets/controls",
      "_view_module_version": "1.5.0",
      "_view_name": "HBoxView",
      "box_style": "",
      "children": [
       "IPY_MODEL_7389124878f74f63903a0066c68d7b6c",
       "IPY_MODEL_4e2a3947b2f0461f87fdf6f9dd692fec",
       "IPY_MODEL_0933e87663444eeb9628c7a7ff1509fa"
      ],
      "layout": "IPY_MODEL_add7aa9536c641698c65c880e2be17db"
     }
    },
    "0c7a1badbda14da9add3f51652030477": {
     "model_module": "@jupyter-widgets/controls",
     "model_module_version": "1.5.0",
     "model_name": "DescriptionStyleModel",
     "state": {
      "_model_module": "@jupyter-widgets/controls",
      "_model_module_version": "1.5.0",
      "_model_name": "DescriptionStyleModel",
      "_view_count": null,
      "_view_module": "@jupyter-widgets/base",
      "_view_module_version": "1.2.0",
      "_view_name": "StyleView",
      "description_width": ""
     }
    },
    "0e20152cf5eb4944bd4a4300ace5c474": {
     "model_module": "@jupyter-widgets/base",
     "model_module_version": "1.2.0",
     "model_name": "LayoutModel",
     "state": {
      "_model_module": "@jupyter-widgets/base",
      "_model_module_version": "1.2.0",
      "_model_name": "LayoutModel",
      "_view_count": null,
      "_view_module": "@jupyter-widgets/base",
      "_view_module_version": "1.2.0",
      "_view_name": "LayoutView",
      "align_content": null,
      "align_items": null,
      "align_self": null,
      "border": null,
      "bottom": null,
      "display": null,
      "flex": null,
      "flex_flow": null,
      "grid_area": null,
      "grid_auto_columns": null,
      "grid_auto_flow": null,
      "grid_auto_rows": null,
      "grid_column": null,
      "grid_gap": null,
      "grid_row": null,
      "grid_template_areas": null,
      "grid_template_columns": null,
      "grid_template_rows": null,
      "height": null,
      "justify_content": null,
      "justify_items": null,
      "left": null,
      "margin": null,
      "max_height": null,
      "max_width": null,
      "min_height": null,
      "min_width": null,
      "object_fit": null,
      "object_position": null,
      "order": null,
      "overflow": null,
      "overflow_x": null,
      "overflow_y": null,
      "padding": null,
      "right": null,
      "top": null,
      "visibility": null,
      "width": null
     }
    },
    "0f47ac4cd6ad4bdbb873d9813304a782": {
     "model_module": "@jupyter-widgets/controls",
     "model_module_version": "1.5.0",
     "model_name": "HTMLModel",
     "state": {
      "_dom_classes": [],
      "_model_module": "@jupyter-widgets/controls",
      "_model_module_version": "1.5.0",
      "_model_name": "HTMLModel",
      "_view_count": null,
      "_view_module": "@jupyter-widgets/controls",
      "_view_module_version": "1.5.0",
      "_view_name": "HTMLView",
      "description": "",
      "description_tooltip": null,
      "layout": "IPY_MODEL_e196c368cf0a4348992d04bd97e770b5",
      "placeholder": "​",
      "style": "IPY_MODEL_a46b6db192b6479b9081187dd1740572",
      "value": " 1.63G/1.63G [01:45&lt;00:00, 15.2MB/s]"
     }
    },
    "11ea8485d4e943389e9071a0abf5c84a": {
     "model_module": "@jupyter-widgets/controls",
     "model_module_version": "1.5.0",
     "model_name": "HTMLModel",
     "state": {
      "_dom_classes": [],
      "_model_module": "@jupyter-widgets/controls",
      "_model_module_version": "1.5.0",
      "_model_name": "HTMLModel",
      "_view_count": null,
      "_view_module": "@jupyter-widgets/controls",
      "_view_module_version": "1.5.0",
      "_view_name": "HTMLView",
      "description": "",
      "description_tooltip": null,
      "layout": "IPY_MODEL_8a43dc94fc484cdabb225cc247229d20",
      "placeholder": "​",
      "style": "IPY_MODEL_eee4b911f2a34f9491a959f0ab729bd5",
      "value": "Downloading (…)okenizer_config.json: 100%"
     }
    },
    "1655d98a88fe4bbabb320ee01115bcac": {
     "model_module": "@jupyter-widgets/base",
     "model_module_version": "1.2.0",
     "model_name": "LayoutModel",
     "state": {
      "_model_module": "@jupyter-widgets/base",
      "_model_module_version": "1.2.0",
      "_model_name": "LayoutModel",
      "_view_count": null,
      "_view_module": "@jupyter-widgets/base",
      "_view_module_version": "1.2.0",
      "_view_name": "LayoutView",
      "align_content": null,
      "align_items": null,
      "align_self": null,
      "border": null,
      "bottom": null,
      "display": null,
      "flex": null,
      "flex_flow": null,
      "grid_area": null,
      "grid_auto_columns": null,
      "grid_auto_flow": null,
      "grid_auto_rows": null,
      "grid_column": null,
      "grid_gap": null,
      "grid_row": null,
      "grid_template_areas": null,
      "grid_template_columns": null,
      "grid_template_rows": null,
      "height": null,
      "justify_content": null,
      "justify_items": null,
      "left": null,
      "margin": null,
      "max_height": null,
      "max_width": null,
      "min_height": null,
      "min_width": null,
      "object_fit": null,
      "object_position": null,
      "order": null,
      "overflow": null,
      "overflow_x": null,
      "overflow_y": null,
      "padding": null,
      "right": null,
      "top": null,
      "visibility": null,
      "width": null
     }
    },
    "17960f066dd444e690cafc76b9fbda7a": {
     "model_module": "@jupyter-widgets/base",
     "model_module_version": "1.2.0",
     "model_name": "LayoutModel",
     "state": {
      "_model_module": "@jupyter-widgets/base",
      "_model_module_version": "1.2.0",
      "_model_name": "LayoutModel",
      "_view_count": null,
      "_view_module": "@jupyter-widgets/base",
      "_view_module_version": "1.2.0",
      "_view_name": "LayoutView",
      "align_content": null,
      "align_items": null,
      "align_self": null,
      "border": null,
      "bottom": null,
      "display": null,
      "flex": null,
      "flex_flow": null,
      "grid_area": null,
      "grid_auto_columns": null,
      "grid_auto_flow": null,
      "grid_auto_rows": null,
      "grid_column": null,
      "grid_gap": null,
      "grid_row": null,
      "grid_template_areas": null,
      "grid_template_columns": null,
      "grid_template_rows": null,
      "height": null,
      "justify_content": null,
      "justify_items": null,
      "left": null,
      "margin": null,
      "max_height": null,
      "max_width": null,
      "min_height": null,
      "min_width": null,
      "object_fit": null,
      "object_position": null,
      "order": null,
      "overflow": null,
      "overflow_x": null,
      "overflow_y": null,
      "padding": null,
      "right": null,
      "top": null,
      "visibility": null,
      "width": null
     }
    },
    "191f935ced30454f8ff773afb9bb7cc6": {
     "model_module": "@jupyter-widgets/controls",
     "model_module_version": "1.5.0",
     "model_name": "DescriptionStyleModel",
     "state": {
      "_model_module": "@jupyter-widgets/controls",
      "_model_module_version": "1.5.0",
      "_model_name": "DescriptionStyleModel",
      "_view_count": null,
      "_view_module": "@jupyter-widgets/base",
      "_view_module_version": "1.2.0",
      "_view_name": "StyleView",
      "description_width": ""
     }
    },
    "1a3328d72bba4c8aba41691a94dc3fd1": {
     "model_module": "@jupyter-widgets/controls",
     "model_module_version": "1.5.0",
     "model_name": "DescriptionStyleModel",
     "state": {
      "_model_module": "@jupyter-widgets/controls",
      "_model_module_version": "1.5.0",
      "_model_name": "DescriptionStyleModel",
      "_view_count": null,
      "_view_module": "@jupyter-widgets/base",
      "_view_module_version": "1.2.0",
      "_view_name": "StyleView",
      "description_width": ""
     }
    },
    "1b273cdf37824a01841830682c497d74": {
     "model_module": "@jupyter-widgets/controls",
     "model_module_version": "1.5.0",
     "model_name": "DescriptionStyleModel",
     "state": {
      "_model_module": "@jupyter-widgets/controls",
      "_model_module_version": "1.5.0",
      "_model_name": "DescriptionStyleModel",
      "_view_count": null,
      "_view_module": "@jupyter-widgets/base",
      "_view_module_version": "1.2.0",
      "_view_name": "StyleView",
      "description_width": ""
     }
    },
    "1d74897b959b4d388eac292c55e7b1f2": {
     "model_module": "@jupyter-widgets/controls",
     "model_module_version": "1.5.0",
     "model_name": "FloatProgressModel",
     "state": {
      "_dom_classes": [],
      "_model_module": "@jupyter-widgets/controls",
      "_model_module_version": "1.5.0",
      "_model_name": "FloatProgressModel",
      "_view_count": null,
      "_view_module": "@jupyter-widgets/controls",
      "_view_module_version": "1.5.0",
      "_view_name": "ProgressView",
      "bar_style": "success",
      "description": "",
      "description_tooltip": null,
      "layout": "IPY_MODEL_7d79f11270714921bf4a510e164194a5",
      "max": 226122,
      "min": 0,
      "orientation": "horizontal",
      "style": "IPY_MODEL_486945b7ec614a08973829556e87d4ee",
      "value": 226122
     }
    },
    "1e368857627541f4adaac8bff12a617e": {
     "model_module": "@jupyter-widgets/base",
     "model_module_version": "1.2.0",
     "model_name": "LayoutModel",
     "state": {
      "_model_module": "@jupyter-widgets/base",
      "_model_module_version": "1.2.0",
      "_model_name": "LayoutModel",
      "_view_count": null,
      "_view_module": "@jupyter-widgets/base",
      "_view_module_version": "1.2.0",
      "_view_name": "LayoutView",
      "align_content": null,
      "align_items": null,
      "align_self": null,
      "border": null,
      "bottom": null,
      "display": null,
      "flex": null,
      "flex_flow": null,
      "grid_area": null,
      "grid_auto_columns": null,
      "grid_auto_flow": null,
      "grid_auto_rows": null,
      "grid_column": null,
      "grid_gap": null,
      "grid_row": null,
      "grid_template_areas": null,
      "grid_template_columns": null,
      "grid_template_rows": null,
      "height": null,
      "justify_content": null,
      "justify_items": null,
      "left": null,
      "margin": null,
      "max_height": null,
      "max_width": null,
      "min_height": null,
      "min_width": null,
      "object_fit": null,
      "object_position": null,
      "order": null,
      "overflow": null,
      "overflow_x": null,
      "overflow_y": null,
      "padding": null,
      "right": null,
      "top": null,
      "visibility": null,
      "width": null
     }
    },
    "1e5871586dbd42fe8cf9a224fc82a8bc": {
     "model_module": "@jupyter-widgets/controls",
     "model_module_version": "1.5.0",
     "model_name": "HTMLModel",
     "state": {
      "_dom_classes": [],
      "_model_module": "@jupyter-widgets/controls",
      "_model_module_version": "1.5.0",
      "_model_name": "HTMLModel",
      "_view_count": null,
      "_view_module": "@jupyter-widgets/controls",
      "_view_module_version": "1.5.0",
      "_view_name": "HTMLView",
      "description": "",
      "description_tooltip": null,
      "layout": "IPY_MODEL_40fe0565e18245a09f79092f75f5b862",
      "placeholder": "​",
      "style": "IPY_MODEL_7a969f1052894c8192f42928eb959615",
      "value": " 112/112 [00:00&lt;00:00, 1.79kB/s]"
     }
    },
    "1ed95a5292d449bdbb2784dfe0634b13": {
     "model_module": "@jupyter-widgets/controls",
     "model_module_version": "1.5.0",
     "model_name": "HTMLModel",
     "state": {
      "_dom_classes": [],
      "_model_module": "@jupyter-widgets/controls",
      "_model_module_version": "1.5.0",
      "_model_name": "HTMLModel",
      "_view_count": null,
      "_view_module": "@jupyter-widgets/controls",
      "_view_module_version": "1.5.0",
      "_view_name": "HTMLView",
      "description": "",
      "description_tooltip": null,
      "layout": "IPY_MODEL_5b0a4c6475e14876be0f9690c2428bac",
      "placeholder": "​",
      "style": "IPY_MODEL_1a3328d72bba4c8aba41691a94dc3fd1",
      "value": " 798k/798k [00:00&lt;00:00, 814kB/s]"
     }
    },
    "1fbedc0dc21c4459b24551f835cd7bf4": {
     "model_module": "@jupyter-widgets/base",
     "model_module_version": "1.2.0",
     "model_name": "LayoutModel",
     "state": {
      "_model_module": "@jupyter-widgets/base",
      "_model_module_version": "1.2.0",
      "_model_name": "LayoutModel",
      "_view_count": null,
      "_view_module": "@jupyter-widgets/base",
      "_view_module_version": "1.2.0",
      "_view_name": "LayoutView",
      "align_content": null,
      "align_items": null,
      "align_self": null,
      "border": null,
      "bottom": null,
      "display": null,
      "flex": null,
      "flex_flow": null,
      "grid_area": null,
      "grid_auto_columns": null,
      "grid_auto_flow": null,
      "grid_auto_rows": null,
      "grid_column": null,
      "grid_gap": null,
      "grid_row": null,
      "grid_template_areas": null,
      "grid_template_columns": null,
      "grid_template_rows": null,
      "height": null,
      "justify_content": null,
      "justify_items": null,
      "left": null,
      "margin": null,
      "max_height": null,
      "max_width": null,
      "min_height": null,
      "min_width": null,
      "object_fit": null,
      "object_position": null,
      "order": null,
      "overflow": null,
      "overflow_x": null,
      "overflow_y": null,
      "padding": null,
      "right": null,
      "top": null,
      "visibility": null,
      "width": null
     }
    },
    "20da6d4021094b70a0182cec413a17d3": {
     "model_module": "@jupyter-widgets/base",
     "model_module_version": "1.2.0",
     "model_name": "LayoutModel",
     "state": {
      "_model_module": "@jupyter-widgets/base",
      "_model_module_version": "1.2.0",
      "_model_name": "LayoutModel",
      "_view_count": null,
      "_view_module": "@jupyter-widgets/base",
      "_view_module_version": "1.2.0",
      "_view_name": "LayoutView",
      "align_content": null,
      "align_items": null,
      "align_self": null,
      "border": null,
      "bottom": null,
      "display": null,
      "flex": null,
      "flex_flow": null,
      "grid_area": null,
      "grid_auto_columns": null,
      "grid_auto_flow": null,
      "grid_auto_rows": null,
      "grid_column": null,
      "grid_gap": null,
      "grid_row": null,
      "grid_template_areas": null,
      "grid_template_columns": null,
      "grid_template_rows": null,
      "height": null,
      "justify_content": null,
      "justify_items": null,
      "left": null,
      "margin": null,
      "max_height": null,
      "max_width": null,
      "min_height": null,
      "min_width": null,
      "object_fit": null,
      "object_position": null,
      "order": null,
      "overflow": null,
      "overflow_x": null,
      "overflow_y": null,
      "padding": null,
      "right": null,
      "top": null,
      "visibility": null,
      "width": null
     }
    },
    "20dcee7072414dc2b161622f8726dd3f": {
     "model_module": "@jupyter-widgets/controls",
     "model_module_version": "1.5.0",
     "model_name": "DescriptionStyleModel",
     "state": {
      "_model_module": "@jupyter-widgets/controls",
      "_model_module_version": "1.5.0",
      "_model_name": "DescriptionStyleModel",
      "_view_count": null,
      "_view_module": "@jupyter-widgets/base",
      "_view_module_version": "1.2.0",
      "_view_name": "StyleView",
      "description_width": ""
     }
    },
    "2339fc8222c849ff8dcc6276302f0f9a": {
     "model_module": "@jupyter-widgets/controls",
     "model_module_version": "1.5.0",
     "model_name": "HTMLModel",
     "state": {
      "_dom_classes": [],
      "_model_module": "@jupyter-widgets/controls",
      "_model_module_version": "1.5.0",
      "_model_name": "HTMLModel",
      "_view_count": null,
      "_view_module": "@jupyter-widgets/controls",
      "_view_module_version": "1.5.0",
      "_view_name": "HTMLView",
      "description": "",
      "description_tooltip": null,
      "layout": "IPY_MODEL_34740f2367044c369f93e9131d282fd6",
      "placeholder": "​",
      "style": "IPY_MODEL_0c7a1badbda14da9add3f51652030477",
      "value": "Downloading (…)olve/main/merges.txt: 100%"
     }
    },
    "241c2a02ad1f44fb8b6c3043bb25f1bd": {
     "model_module": "@jupyter-widgets/base",
     "model_module_version": "1.2.0",
     "model_name": "LayoutModel",
     "state": {
      "_model_module": "@jupyter-widgets/base",
      "_model_module_version": "1.2.0",
      "_model_name": "LayoutModel",
      "_view_count": null,
      "_view_module": "@jupyter-widgets/base",
      "_view_module_version": "1.2.0",
      "_view_name": "LayoutView",
      "align_content": null,
      "align_items": null,
      "align_self": null,
      "border": null,
      "bottom": null,
      "display": null,
      "flex": null,
      "flex_flow": null,
      "grid_area": null,
      "grid_auto_columns": null,
      "grid_auto_flow": null,
      "grid_auto_rows": null,
      "grid_column": null,
      "grid_gap": null,
      "grid_row": null,
      "grid_template_areas": null,
      "grid_template_columns": null,
      "grid_template_rows": null,
      "height": null,
      "justify_content": null,
      "justify_items": null,
      "left": null,
      "margin": null,
      "max_height": null,
      "max_width": null,
      "min_height": null,
      "min_width": null,
      "object_fit": null,
      "object_position": null,
      "order": null,
      "overflow": null,
      "overflow_x": null,
      "overflow_y": null,
      "padding": null,
      "right": null,
      "top": null,
      "visibility": null,
      "width": null
     }
    },
    "24320dc3a97b4c7fba1ea9566c00246e": {
     "model_module": "@jupyter-widgets/base",
     "model_module_version": "1.2.0",
     "model_name": "LayoutModel",
     "state": {
      "_model_module": "@jupyter-widgets/base",
      "_model_module_version": "1.2.0",
      "_model_name": "LayoutModel",
      "_view_count": null,
      "_view_module": "@jupyter-widgets/base",
      "_view_module_version": "1.2.0",
      "_view_name": "LayoutView",
      "align_content": null,
      "align_items": null,
      "align_self": null,
      "border": null,
      "bottom": null,
      "display": null,
      "flex": null,
      "flex_flow": null,
      "grid_area": null,
      "grid_auto_columns": null,
      "grid_auto_flow": null,
      "grid_auto_rows": null,
      "grid_column": null,
      "grid_gap": null,
      "grid_row": null,
      "grid_template_areas": null,
      "grid_template_columns": null,
      "grid_template_rows": null,
      "height": null,
      "justify_content": null,
      "justify_items": null,
      "left": null,
      "margin": null,
      "max_height": null,
      "max_width": null,
      "min_height": null,
      "min_width": null,
      "object_fit": null,
      "object_position": null,
      "order": null,
      "overflow": null,
      "overflow_x": null,
      "overflow_y": null,
      "padding": null,
      "right": null,
      "top": null,
      "visibility": null,
      "width": null
     }
    },
    "24fbe4a8481e4e969a70e48c22371712": {
     "model_module": "@jupyter-widgets/controls",
     "model_module_version": "1.5.0",
     "model_name": "ProgressStyleModel",
     "state": {
      "_model_module": "@jupyter-widgets/controls",
      "_model_module_version": "1.5.0",
      "_model_name": "ProgressStyleModel",
      "_view_count": null,
      "_view_module": "@jupyter-widgets/base",
      "_view_module_version": "1.2.0",
      "_view_name": "StyleView",
      "bar_color": null,
      "description_width": ""
     }
    },
    "272891fbb82b40eb8c581aafa580617e": {
     "model_module": "@jupyter-widgets/base",
     "model_module_version": "1.2.0",
     "model_name": "LayoutModel",
     "state": {
      "_model_module": "@jupyter-widgets/base",
      "_model_module_version": "1.2.0",
      "_model_name": "LayoutModel",
      "_view_count": null,
      "_view_module": "@jupyter-widgets/base",
      "_view_module_version": "1.2.0",
      "_view_name": "LayoutView",
      "align_content": null,
      "align_items": null,
      "align_self": null,
      "border": null,
      "bottom": null,
      "display": null,
      "flex": null,
      "flex_flow": null,
      "grid_area": null,
      "grid_auto_columns": null,
      "grid_auto_flow": null,
      "grid_auto_rows": null,
      "grid_column": null,
      "grid_gap": null,
      "grid_row": null,
      "grid_template_areas": null,
      "grid_template_columns": null,
      "grid_template_rows": null,
      "height": null,
      "justify_content": null,
      "justify_items": null,
      "left": null,
      "margin": null,
      "max_height": null,
      "max_width": null,
      "min_height": null,
      "min_width": null,
      "object_fit": null,
      "object_position": null,
      "order": null,
      "overflow": null,
      "overflow_x": null,
      "overflow_y": null,
      "padding": null,
      "right": null,
      "top": null,
      "visibility": null,
      "width": null
     }
    },
    "28e32c6ff3a247f5a915bd410eb164bc": {
     "model_module": "@jupyter-widgets/controls",
     "model_module_version": "1.5.0",
     "model_name": "HBoxModel",
     "state": {
      "_dom_classes": [],
      "_model_module": "@jupyter-widgets/controls",
      "_model_module_version": "1.5.0",
      "_model_name": "HBoxModel",
      "_view_count": null,
      "_view_module": "@jupyter-widgets/controls",
      "_view_module_version": "1.5.0",
      "_view_name": "HBoxView",
      "box_style": "",
      "children": [
       "IPY_MODEL_3f11f57d69a446a8ac356c1928dce17d",
       "IPY_MODEL_e27752c1b5474fb085b583f779dba363",
       "IPY_MODEL_b1e26f99cd5f4defac504f79eeac1c79"
      ],
      "layout": "IPY_MODEL_53a1c924c4f745edae310b51e1887fd1"
     }
    },
    "2baa85a4625d4186a8dd553eece4e8d5": {
     "model_module": "@jupyter-widgets/controls",
     "model_module_version": "1.5.0",
     "model_name": "HTMLModel",
     "state": {
      "_dom_classes": [],
      "_model_module": "@jupyter-widgets/controls",
      "_model_module_version": "1.5.0",
      "_model_name": "HTMLModel",
      "_view_count": null,
      "_view_module": "@jupyter-widgets/controls",
      "_view_module_version": "1.5.0",
      "_view_name": "HTMLView",
      "description": "",
      "description_tooltip": null,
      "layout": "IPY_MODEL_20da6d4021094b70a0182cec413a17d3",
      "placeholder": "​",
      "style": "IPY_MODEL_fe4103e3a0d940649480f543c263cf4a",
      "value": "Downloading (…)/main/tokenizer.json: 100%"
     }
    },
    "2c14ab1917bc48ffa78245f19e09dd42": {
     "model_module": "@jupyter-widgets/controls",
     "model_module_version": "1.5.0",
     "model_name": "ProgressStyleModel",
     "state": {
      "_model_module": "@jupyter-widgets/controls",
      "_model_module_version": "1.5.0",
      "_model_name": "ProgressStyleModel",
      "_view_count": null,
      "_view_module": "@jupyter-widgets/base",
      "_view_module_version": "1.2.0",
      "_view_name": "StyleView",
      "bar_color": null,
      "description_width": ""
     }
    },
    "2fc0eb4f5f1e4d82a3e4f609c600051c": {
     "model_module": "@jupyter-widgets/controls",
     "model_module_version": "1.5.0",
     "model_name": "DescriptionStyleModel",
     "state": {
      "_model_module": "@jupyter-widgets/controls",
      "_model_module_version": "1.5.0",
      "_model_name": "DescriptionStyleModel",
      "_view_count": null,
      "_view_module": "@jupyter-widgets/base",
      "_view_module_version": "1.2.0",
      "_view_name": "StyleView",
      "description_width": ""
     }
    },
    "34740f2367044c369f93e9131d282fd6": {
     "model_module": "@jupyter-widgets/base",
     "model_module_version": "1.2.0",
     "model_name": "LayoutModel",
     "state": {
      "_model_module": "@jupyter-widgets/base",
      "_model_module_version": "1.2.0",
      "_model_name": "LayoutModel",
      "_view_count": null,
      "_view_module": "@jupyter-widgets/base",
      "_view_module_version": "1.2.0",
      "_view_name": "LayoutView",
      "align_content": null,
      "align_items": null,
      "align_self": null,
      "border": null,
      "bottom": null,
      "display": null,
      "flex": null,
      "flex_flow": null,
      "grid_area": null,
      "grid_auto_columns": null,
      "grid_auto_flow": null,
      "grid_auto_rows": null,
      "grid_column": null,
      "grid_gap": null,
      "grid_row": null,
      "grid_template_areas": null,
      "grid_template_columns": null,
      "grid_template_rows": null,
      "height": null,
      "justify_content": null,
      "justify_items": null,
      "left": null,
      "margin": null,
      "max_height": null,
      "max_width": null,
      "min_height": null,
      "min_width": null,
      "object_fit": null,
      "object_position": null,
      "order": null,
      "overflow": null,
      "overflow_x": null,
      "overflow_y": null,
      "padding": null,
      "right": null,
      "top": null,
      "visibility": null,
      "width": null
     }
    },
    "35a0dd99b6954a989cdbe3ca46235255": {
     "model_module": "@jupyter-widgets/base",
     "model_module_version": "1.2.0",
     "model_name": "LayoutModel",
     "state": {
      "_model_module": "@jupyter-widgets/base",
      "_model_module_version": "1.2.0",
      "_model_name": "LayoutModel",
      "_view_count": null,
      "_view_module": "@jupyter-widgets/base",
      "_view_module_version": "1.2.0",
      "_view_name": "LayoutView",
      "align_content": null,
      "align_items": null,
      "align_self": null,
      "border": null,
      "bottom": null,
      "display": null,
      "flex": null,
      "flex_flow": null,
      "grid_area": null,
      "grid_auto_columns": null,
      "grid_auto_flow": null,
      "grid_auto_rows": null,
      "grid_column": null,
      "grid_gap": null,
      "grid_row": null,
      "grid_template_areas": null,
      "grid_template_columns": null,
      "grid_template_rows": null,
      "height": null,
      "justify_content": null,
      "justify_items": null,
      "left": null,
      "margin": null,
      "max_height": null,
      "max_width": null,
      "min_height": null,
      "min_width": null,
      "object_fit": null,
      "object_position": null,
      "order": null,
      "overflow": null,
      "overflow_x": null,
      "overflow_y": null,
      "padding": null,
      "right": null,
      "top": null,
      "visibility": null,
      "width": null
     }
    },
    "37cf47c2b9ae40fb94051b1e2434c2f0": {
     "model_module": "@jupyter-widgets/controls",
     "model_module_version": "1.5.0",
     "model_name": "HTMLModel",
     "state": {
      "_dom_classes": [],
      "_model_module": "@jupyter-widgets/controls",
      "_model_module_version": "1.5.0",
      "_model_name": "HTMLModel",
      "_view_count": null,
      "_view_module": "@jupyter-widgets/controls",
      "_view_module_version": "1.5.0",
      "_view_name": "HTMLView",
      "description": "",
      "description_tooltip": null,
      "layout": "IPY_MODEL_87ae6227dd644a7ba6d2860b293f7f67",
      "placeholder": "​",
      "style": "IPY_MODEL_b1f29a6231bc4efc90ddb733ee6c4c43",
      "value": " 239/239 [00:00&lt;00:00, 796B/s]"
     }
    },
    "39532c7b2e5c4bd2833098ac7130c9a5": {
     "model_module": "@jupyter-widgets/controls",
     "model_module_version": "1.5.0",
     "model_name": "DescriptionStyleModel",
     "state": {
      "_model_module": "@jupyter-widgets/controls",
      "_model_module_version": "1.5.0",
      "_model_name": "DescriptionStyleModel",
      "_view_count": null,
      "_view_module": "@jupyter-widgets/base",
      "_view_module_version": "1.2.0",
      "_view_name": "StyleView",
      "description_width": ""
     }
    },
    "3965e512cf4849af9aeb44f87d4772ab": {
     "model_module": "@jupyter-widgets/controls",
     "model_module_version": "1.5.0",
     "model_name": "ProgressStyleModel",
     "state": {
      "_model_module": "@jupyter-widgets/controls",
      "_model_module_version": "1.5.0",
      "_model_name": "ProgressStyleModel",
      "_view_count": null,
      "_view_module": "@jupyter-widgets/base",
      "_view_module_version": "1.2.0",
      "_view_name": "StyleView",
      "bar_color": null,
      "description_width": ""
     }
    },
    "3cddeb8d9cb04b6a9821b0fce0962f00": {
     "model_module": "@jupyter-widgets/base",
     "model_module_version": "1.2.0",
     "model_name": "LayoutModel",
     "state": {
      "_model_module": "@jupyter-widgets/base",
      "_model_module_version": "1.2.0",
      "_model_name": "LayoutModel",
      "_view_count": null,
      "_view_module": "@jupyter-widgets/base",
      "_view_module_version": "1.2.0",
      "_view_name": "LayoutView",
      "align_content": null,
      "align_items": null,
      "align_self": null,
      "border": null,
      "bottom": null,
      "display": null,
      "flex": null,
      "flex_flow": null,
      "grid_area": null,
      "grid_auto_columns": null,
      "grid_auto_flow": null,
      "grid_auto_rows": null,
      "grid_column": null,
      "grid_gap": null,
      "grid_row": null,
      "grid_template_areas": null,
      "grid_template_columns": null,
      "grid_template_rows": null,
      "height": null,
      "justify_content": null,
      "justify_items": null,
      "left": null,
      "margin": null,
      "max_height": null,
      "max_width": null,
      "min_height": null,
      "min_width": null,
      "object_fit": null,
      "object_position": null,
      "order": null,
      "overflow": null,
      "overflow_x": null,
      "overflow_y": null,
      "padding": null,
      "right": null,
      "top": null,
      "visibility": null,
      "width": null
     }
    },
    "3d13b6f7ad6a4dad82cfbef8c63fbb21": {
     "model_module": "@jupyter-widgets/controls",
     "model_module_version": "1.5.0",
     "model_name": "DescriptionStyleModel",
     "state": {
      "_model_module": "@jupyter-widgets/controls",
      "_model_module_version": "1.5.0",
      "_model_name": "DescriptionStyleModel",
      "_view_count": null,
      "_view_module": "@jupyter-widgets/base",
      "_view_module_version": "1.2.0",
      "_view_name": "StyleView",
      "description_width": ""
     }
    },
    "3d4500009e794ee6a358a8c19b82a38f": {
     "model_module": "@jupyter-widgets/base",
     "model_module_version": "1.2.0",
     "model_name": "LayoutModel",
     "state": {
      "_model_module": "@jupyter-widgets/base",
      "_model_module_version": "1.2.0",
      "_model_name": "LayoutModel",
      "_view_count": null,
      "_view_module": "@jupyter-widgets/base",
      "_view_module_version": "1.2.0",
      "_view_name": "LayoutView",
      "align_content": null,
      "align_items": null,
      "align_self": null,
      "border": null,
      "bottom": null,
      "display": null,
      "flex": null,
      "flex_flow": null,
      "grid_area": null,
      "grid_auto_columns": null,
      "grid_auto_flow": null,
      "grid_auto_rows": null,
      "grid_column": null,
      "grid_gap": null,
      "grid_row": null,
      "grid_template_areas": null,
      "grid_template_columns": null,
      "grid_template_rows": null,
      "height": null,
      "justify_content": null,
      "justify_items": null,
      "left": null,
      "margin": null,
      "max_height": null,
      "max_width": null,
      "min_height": null,
      "min_width": null,
      "object_fit": null,
      "object_position": null,
      "order": null,
      "overflow": null,
      "overflow_x": null,
      "overflow_y": null,
      "padding": null,
      "right": null,
      "top": null,
      "visibility": null,
      "width": null
     }
    },
    "3dba5e358ff045e296f121743e74583a": {
     "model_module": "@jupyter-widgets/controls",
     "model_module_version": "1.5.0",
     "model_name": "DescriptionStyleModel",
     "state": {
      "_model_module": "@jupyter-widgets/controls",
      "_model_module_version": "1.5.0",
      "_model_name": "DescriptionStyleModel",
      "_view_count": null,
      "_view_module": "@jupyter-widgets/base",
      "_view_module_version": "1.2.0",
      "_view_name": "StyleView",
      "description_width": ""
     }
    },
    "3dc968d3b94f4e15a5b0fc51e0efd756": {
     "model_module": "@jupyter-widgets/base",
     "model_module_version": "1.2.0",
     "model_name": "LayoutModel",
     "state": {
      "_model_module": "@jupyter-widgets/base",
      "_model_module_version": "1.2.0",
      "_model_name": "LayoutModel",
      "_view_count": null,
      "_view_module": "@jupyter-widgets/base",
      "_view_module_version": "1.2.0",
      "_view_name": "LayoutView",
      "align_content": null,
      "align_items": null,
      "align_self": null,
      "border": null,
      "bottom": null,
      "display": null,
      "flex": null,
      "flex_flow": null,
      "grid_area": null,
      "grid_auto_columns": null,
      "grid_auto_flow": null,
      "grid_auto_rows": null,
      "grid_column": null,
      "grid_gap": null,
      "grid_row": null,
      "grid_template_areas": null,
      "grid_template_columns": null,
      "grid_template_rows": null,
      "height": null,
      "justify_content": null,
      "justify_items": null,
      "left": null,
      "margin": null,
      "max_height": null,
      "max_width": null,
      "min_height": null,
      "min_width": null,
      "object_fit": null,
      "object_position": null,
      "order": null,
      "overflow": null,
      "overflow_x": null,
      "overflow_y": null,
      "padding": null,
      "right": null,
      "top": null,
      "visibility": null,
      "width": null
     }
    },
    "3f11f57d69a446a8ac356c1928dce17d": {
     "model_module": "@jupyter-widgets/controls",
     "model_module_version": "1.5.0",
     "model_name": "HTMLModel",
     "state": {
      "_dom_classes": [],
      "_model_module": "@jupyter-widgets/controls",
      "_model_module_version": "1.5.0",
      "_model_name": "HTMLModel",
      "_view_count": null,
      "_view_module": "@jupyter-widgets/controls",
      "_view_module_version": "1.5.0",
      "_view_name": "HTMLView",
      "description": "",
      "description_tooltip": null,
      "layout": "IPY_MODEL_faa48f786f31488280fa3a41174476df",
      "placeholder": "​",
      "style": "IPY_MODEL_ba2f93a203e24446a5ab51d0fab0d205",
      "value": "Downloading (…)lve/main/config.json: 100%"
     }
    },
    "406341874fc54b90acba7ac0c3f9fe44": {
     "model_module": "@jupyter-widgets/controls",
     "model_module_version": "1.5.0",
     "model_name": "HBoxModel",
     "state": {
      "_dom_classes": [],
      "_model_module": "@jupyter-widgets/controls",
      "_model_module_version": "1.5.0",
      "_model_name": "HBoxModel",
      "_view_count": null,
      "_view_module": "@jupyter-widgets/controls",
      "_view_module_version": "1.5.0",
      "_view_name": "HBoxView",
      "box_style": "",
      "children": [
       "IPY_MODEL_b0f0d7964b4e470daffab317fe5d337c",
       "IPY_MODEL_b07bf82abbcd4dd1a8f02f8100f624a1",
       "IPY_MODEL_0f47ac4cd6ad4bdbb873d9813304a782"
      ],
      "layout": "IPY_MODEL_06d038addb584ac280494ed7760e978b"
     }
    },
    "40fe0565e18245a09f79092f75f5b862": {
     "model_module": "@jupyter-widgets/base",
     "model_module_version": "1.2.0",
     "model_name": "LayoutModel",
     "state": {
      "_model_module": "@jupyter-widgets/base",
      "_model_module_version": "1.2.0",
      "_model_name": "LayoutModel",
      "_view_count": null,
      "_view_module": "@jupyter-widgets/base",
      "_view_module_version": "1.2.0",
      "_view_name": "LayoutView",
      "align_content": null,
      "align_items": null,
      "align_self": null,
      "border": null,
      "bottom": null,
      "display": null,
      "flex": null,
      "flex_flow": null,
      "grid_area": null,
      "grid_auto_columns": null,
      "grid_auto_flow": null,
      "grid_auto_rows": null,
      "grid_column": null,
      "grid_gap": null,
      "grid_row": null,
      "grid_template_areas": null,
      "grid_template_columns": null,
      "grid_template_rows": null,
      "height": null,
      "justify_content": null,
      "justify_items": null,
      "left": null,
      "margin": null,
      "max_height": null,
      "max_width": null,
      "min_height": null,
      "min_width": null,
      "object_fit": null,
      "object_position": null,
      "order": null,
      "overflow": null,
      "overflow_x": null,
      "overflow_y": null,
      "padding": null,
      "right": null,
      "top": null,
      "visibility": null,
      "width": null
     }
    },
    "412a8ed35b9d4035a072a660e08f6aa3": {
     "model_module": "@jupyter-widgets/base",
     "model_module_version": "1.2.0",
     "model_name": "LayoutModel",
     "state": {
      "_model_module": "@jupyter-widgets/base",
      "_model_module_version": "1.2.0",
      "_model_name": "LayoutModel",
      "_view_count": null,
      "_view_module": "@jupyter-widgets/base",
      "_view_module_version": "1.2.0",
      "_view_name": "LayoutView",
      "align_content": null,
      "align_items": null,
      "align_self": null,
      "border": null,
      "bottom": null,
      "display": null,
      "flex": null,
      "flex_flow": null,
      "grid_area": null,
      "grid_auto_columns": null,
      "grid_auto_flow": null,
      "grid_auto_rows": null,
      "grid_column": null,
      "grid_gap": null,
      "grid_row": null,
      "grid_template_areas": null,
      "grid_template_columns": null,
      "grid_template_rows": null,
      "height": null,
      "justify_content": null,
      "justify_items": null,
      "left": null,
      "margin": null,
      "max_height": null,
      "max_width": null,
      "min_height": null,
      "min_width": null,
      "object_fit": null,
      "object_position": null,
      "order": null,
      "overflow": null,
      "overflow_x": null,
      "overflow_y": null,
      "padding": null,
      "right": null,
      "top": null,
      "visibility": null,
      "width": null
     }
    },
    "4752b53c71fb4adb92055d57979c0871": {
     "model_module": "@jupyter-widgets/base",
     "model_module_version": "1.2.0",
     "model_name": "LayoutModel",
     "state": {
      "_model_module": "@jupyter-widgets/base",
      "_model_module_version": "1.2.0",
      "_model_name": "LayoutModel",
      "_view_count": null,
      "_view_module": "@jupyter-widgets/base",
      "_view_module_version": "1.2.0",
      "_view_name": "LayoutView",
      "align_content": null,
      "align_items": null,
      "align_self": null,
      "border": null,
      "bottom": null,
      "display": null,
      "flex": null,
      "flex_flow": null,
      "grid_area": null,
      "grid_auto_columns": null,
      "grid_auto_flow": null,
      "grid_auto_rows": null,
      "grid_column": null,
      "grid_gap": null,
      "grid_row": null,
      "grid_template_areas": null,
      "grid_template_columns": null,
      "grid_template_rows": null,
      "height": null,
      "justify_content": null,
      "justify_items": null,
      "left": null,
      "margin": null,
      "max_height": null,
      "max_width": null,
      "min_height": null,
      "min_width": null,
      "object_fit": null,
      "object_position": null,
      "order": null,
      "overflow": null,
      "overflow_x": null,
      "overflow_y": null,
      "padding": null,
      "right": null,
      "top": null,
      "visibility": null,
      "width": null
     }
    },
    "486945b7ec614a08973829556e87d4ee": {
     "model_module": "@jupyter-widgets/controls",
     "model_module_version": "1.5.0",
     "model_name": "ProgressStyleModel",
     "state": {
      "_model_module": "@jupyter-widgets/controls",
      "_model_module_version": "1.5.0",
      "_model_name": "ProgressStyleModel",
      "_view_count": null,
      "_view_module": "@jupyter-widgets/base",
      "_view_module_version": "1.2.0",
      "_view_name": "StyleView",
      "bar_color": null,
      "description_width": ""
     }
    },
    "4889df9c5a8c4bf6a334d3bf217c79f7": {
     "model_module": "@jupyter-widgets/controls",
     "model_module_version": "1.5.0",
     "model_name": "HTMLModel",
     "state": {
      "_dom_classes": [],
      "_model_module": "@jupyter-widgets/controls",
      "_model_module_version": "1.5.0",
      "_model_name": "HTMLModel",
      "_view_count": null,
      "_view_module": "@jupyter-widgets/controls",
      "_view_module_version": "1.5.0",
      "_view_name": "HTMLView",
      "description": "",
      "description_tooltip": null,
      "layout": "IPY_MODEL_58910c4f1bfd4767aaa0dd69e15edc67",
      "placeholder": "​",
      "style": "IPY_MODEL_49d67fedef9b4a879ea56eed97f8d30f",
      "value": " 2.11M/2.11M [00:00&lt;00:00, 53.7MB/s]"
     }
    },
    "49d67fedef9b4a879ea56eed97f8d30f": {
     "model_module": "@jupyter-widgets/controls",
     "model_module_version": "1.5.0",
     "model_name": "DescriptionStyleModel",
     "state": {
      "_model_module": "@jupyter-widgets/controls",
      "_model_module_version": "1.5.0",
      "_model_name": "DescriptionStyleModel",
      "_view_count": null,
      "_view_module": "@jupyter-widgets/base",
      "_view_module_version": "1.2.0",
      "_view_name": "StyleView",
      "description_width": ""
     }
    },
    "4c74019758e4498ba423cfe3381e6bab": {
     "model_module": "@jupyter-widgets/controls",
     "model_module_version": "1.5.0",
     "model_name": "ProgressStyleModel",
     "state": {
      "_model_module": "@jupyter-widgets/controls",
      "_model_module_version": "1.5.0",
      "_model_name": "ProgressStyleModel",
      "_view_count": null,
      "_view_module": "@jupyter-widgets/base",
      "_view_module_version": "1.2.0",
      "_view_name": "StyleView",
      "bar_color": null,
      "description_width": ""
     }
    },
    "4c7f9e7b469f4e0592dadadc6019f8ca": {
     "model_module": "@jupyter-widgets/controls",
     "model_module_version": "1.5.0",
     "model_name": "HBoxModel",
     "state": {
      "_dom_classes": [],
      "_model_module": "@jupyter-widgets/controls",
      "_model_module_version": "1.5.0",
      "_model_name": "HBoxModel",
      "_view_count": null,
      "_view_module": "@jupyter-widgets/controls",
      "_view_module_version": "1.5.0",
      "_view_name": "HBoxView",
      "box_style": "",
      "children": [
       "IPY_MODEL_4f72a7e724c84943a99a140bf376d412",
       "IPY_MODEL_c7fb653b9c4f40b493ee3f87017f8bc0",
       "IPY_MODEL_4889df9c5a8c4bf6a334d3bf217c79f7"
      ],
      "layout": "IPY_MODEL_4752b53c71fb4adb92055d57979c0871"
     }
    },
    "4da77df48e5c4fb6a51eda8ce72abbbc": {
     "model_module": "@jupyter-widgets/controls",
     "model_module_version": "1.5.0",
     "model_name": "HBoxModel",
     "state": {
      "_dom_classes": [],
      "_model_module": "@jupyter-widgets/controls",
      "_model_module_version": "1.5.0",
      "_model_name": "HBoxModel",
      "_view_count": null,
      "_view_module": "@jupyter-widgets/controls",
      "_view_module_version": "1.5.0",
      "_view_name": "HBoxView",
      "box_style": "",
      "children": [
       "IPY_MODEL_2baa85a4625d4186a8dd553eece4e8d5",
       "IPY_MODEL_6dd4b84b50e441398a12382c547dcfc3",
       "IPY_MODEL_fd0f6678371b4178abe9f93ed3a80d6d"
      ],
      "layout": "IPY_MODEL_6acc1238c79a475991351b320b702dcc"
     }
    },
    "4e143a25f7414a1f8660329335f57a3a": {
     "model_module": "@jupyter-widgets/base",
     "model_module_version": "1.2.0",
     "model_name": "LayoutModel",
     "state": {
      "_model_module": "@jupyter-widgets/base",
      "_model_module_version": "1.2.0",
      "_model_name": "LayoutModel",
      "_view_count": null,
      "_view_module": "@jupyter-widgets/base",
      "_view_module_version": "1.2.0",
      "_view_name": "LayoutView",
      "align_content": null,
      "align_items": null,
      "align_self": null,
      "border": null,
      "bottom": null,
      "display": null,
      "flex": null,
      "flex_flow": null,
      "grid_area": null,
      "grid_auto_columns": null,
      "grid_auto_flow": null,
      "grid_auto_rows": null,
      "grid_column": null,
      "grid_gap": null,
      "grid_row": null,
      "grid_template_areas": null,
      "grid_template_columns": null,
      "grid_template_rows": null,
      "height": null,
      "justify_content": null,
      "justify_items": null,
      "left": null,
      "margin": null,
      "max_height": null,
      "max_width": null,
      "min_height": null,
      "min_width": null,
      "object_fit": null,
      "object_position": null,
      "order": null,
      "overflow": null,
      "overflow_x": null,
      "overflow_y": null,
      "padding": null,
      "right": null,
      "top": null,
      "visibility": null,
      "width": null
     }
    },
    "4e2a3947b2f0461f87fdf6f9dd692fec": {
     "model_module": "@jupyter-widgets/controls",
     "model_module_version": "1.5.0",
     "model_name": "FloatProgressModel",
     "state": {
      "_dom_classes": [],
      "_model_module": "@jupyter-widgets/controls",
      "_model_module_version": "1.5.0",
      "_model_name": "FloatProgressModel",
      "_view_count": null,
      "_view_module": "@jupyter-widgets/controls",
      "_view_module_version": "1.5.0",
      "_view_name": "ProgressView",
      "bar_style": "success",
      "description": "",
      "description_tooltip": null,
      "layout": "IPY_MODEL_272891fbb82b40eb8c581aafa580617e",
      "max": 1722,
      "min": 0,
      "orientation": "horizontal",
      "style": "IPY_MODEL_e926b822bed44eda98d9c3b7d0870acd",
      "value": 1722
     }
    },
    "4f72a7e724c84943a99a140bf376d412": {
     "model_module": "@jupyter-widgets/controls",
     "model_module_version": "1.5.0",
     "model_name": "HTMLModel",
     "state": {
      "_dom_classes": [],
      "_model_module": "@jupyter-widgets/controls",
      "_model_module_version": "1.5.0",
      "_model_name": "HTMLModel",
      "_view_count": null,
      "_view_module": "@jupyter-widgets/controls",
      "_view_module_version": "1.5.0",
      "_view_name": "HTMLView",
      "description": "",
      "description_tooltip": null,
      "layout": "IPY_MODEL_609227adb01f4d0aa734a5b678f29676",
      "placeholder": "​",
      "style": "IPY_MODEL_a5095f56474e409fae6ab01ab8a9074b",
      "value": "Downloading (…)/main/tokenizer.json: 100%"
     }
    },
    "5128ef2bb8804681a890d22d1949e647": {
     "model_module": "@jupyter-widgets/base",
     "model_module_version": "1.2.0",
     "model_name": "LayoutModel",
     "state": {
      "_model_module": "@jupyter-widgets/base",
      "_model_module_version": "1.2.0",
      "_model_name": "LayoutModel",
      "_view_count": null,
      "_view_module": "@jupyter-widgets/base",
      "_view_module_version": "1.2.0",
      "_view_name": "LayoutView",
      "align_content": null,
      "align_items": null,
      "align_self": null,
      "border": null,
      "bottom": null,
      "display": null,
      "flex": null,
      "flex_flow": null,
      "grid_area": null,
      "grid_auto_columns": null,
      "grid_auto_flow": null,
      "grid_auto_rows": null,
      "grid_column": null,
      "grid_gap": null,
      "grid_row": null,
      "grid_template_areas": null,
      "grid_template_columns": null,
      "grid_template_rows": null,
      "height": null,
      "justify_content": null,
      "justify_items": null,
      "left": null,
      "margin": null,
      "max_height": null,
      "max_width": null,
      "min_height": null,
      "min_width": null,
      "object_fit": null,
      "object_position": null,
      "order": null,
      "overflow": null,
      "overflow_x": null,
      "overflow_y": null,
      "padding": null,
      "right": null,
      "top": null,
      "visibility": null,
      "width": null
     }
    },
    "53a1c924c4f745edae310b51e1887fd1": {
     "model_module": "@jupyter-widgets/base",
     "model_module_version": "1.2.0",
     "model_name": "LayoutModel",
     "state": {
      "_model_module": "@jupyter-widgets/base",
      "_model_module_version": "1.2.0",
      "_model_name": "LayoutModel",
      "_view_count": null,
      "_view_module": "@jupyter-widgets/base",
      "_view_module_version": "1.2.0",
      "_view_name": "LayoutView",
      "align_content": null,
      "align_items": null,
      "align_self": null,
      "border": null,
      "bottom": null,
      "display": null,
      "flex": null,
      "flex_flow": null,
      "grid_area": null,
      "grid_auto_columns": null,
      "grid_auto_flow": null,
      "grid_auto_rows": null,
      "grid_column": null,
      "grid_gap": null,
      "grid_row": null,
      "grid_template_areas": null,
      "grid_template_columns": null,
      "grid_template_rows": null,
      "height": null,
      "justify_content": null,
      "justify_items": null,
      "left": null,
      "margin": null,
      "max_height": null,
      "max_width": null,
      "min_height": null,
      "min_width": null,
      "object_fit": null,
      "object_position": null,
      "order": null,
      "overflow": null,
      "overflow_x": null,
      "overflow_y": null,
      "padding": null,
      "right": null,
      "top": null,
      "visibility": null,
      "width": null
     }
    },
    "556fd41625b74add9d14cb9743853c8e": {
     "model_module": "@jupyter-widgets/base",
     "model_module_version": "1.2.0",
     "model_name": "LayoutModel",
     "state": {
      "_model_module": "@jupyter-widgets/base",
      "_model_module_version": "1.2.0",
      "_model_name": "LayoutModel",
      "_view_count": null,
      "_view_module": "@jupyter-widgets/base",
      "_view_module_version": "1.2.0",
      "_view_name": "LayoutView",
      "align_content": null,
      "align_items": null,
      "align_self": null,
      "border": null,
      "bottom": null,
      "display": null,
      "flex": null,
      "flex_flow": null,
      "grid_area": null,
      "grid_auto_columns": null,
      "grid_auto_flow": null,
      "grid_auto_rows": null,
      "grid_column": null,
      "grid_gap": null,
      "grid_row": null,
      "grid_template_areas": null,
      "grid_template_columns": null,
      "grid_template_rows": null,
      "height": null,
      "justify_content": null,
      "justify_items": null,
      "left": null,
      "margin": null,
      "max_height": null,
      "max_width": null,
      "min_height": null,
      "min_width": null,
      "object_fit": null,
      "object_position": null,
      "order": null,
      "overflow": null,
      "overflow_x": null,
      "overflow_y": null,
      "padding": null,
      "right": null,
      "top": null,
      "visibility": null,
      "width": null
     }
    },
    "558e4fc2a1db4d6eada1f54f87046a1b": {
     "model_module": "@jupyter-widgets/base",
     "model_module_version": "1.2.0",
     "model_name": "LayoutModel",
     "state": {
      "_model_module": "@jupyter-widgets/base",
      "_model_module_version": "1.2.0",
      "_model_name": "LayoutModel",
      "_view_count": null,
      "_view_module": "@jupyter-widgets/base",
      "_view_module_version": "1.2.0",
      "_view_name": "LayoutView",
      "align_content": null,
      "align_items": null,
      "align_self": null,
      "border": null,
      "bottom": null,
      "display": null,
      "flex": null,
      "flex_flow": null,
      "grid_area": null,
      "grid_auto_columns": null,
      "grid_auto_flow": null,
      "grid_auto_rows": null,
      "grid_column": null,
      "grid_gap": null,
      "grid_row": null,
      "grid_template_areas": null,
      "grid_template_columns": null,
      "grid_template_rows": null,
      "height": null,
      "justify_content": null,
      "justify_items": null,
      "left": null,
      "margin": null,
      "max_height": null,
      "max_width": null,
      "min_height": null,
      "min_width": null,
      "object_fit": null,
      "object_position": null,
      "order": null,
      "overflow": null,
      "overflow_x": null,
      "overflow_y": null,
      "padding": null,
      "right": null,
      "top": null,
      "visibility": null,
      "width": null
     }
    },
    "58910c4f1bfd4767aaa0dd69e15edc67": {
     "model_module": "@jupyter-widgets/base",
     "model_module_version": "1.2.0",
     "model_name": "LayoutModel",
     "state": {
      "_model_module": "@jupyter-widgets/base",
      "_model_module_version": "1.2.0",
      "_model_name": "LayoutModel",
      "_view_count": null,
      "_view_module": "@jupyter-widgets/base",
      "_view_module_version": "1.2.0",
      "_view_name": "LayoutView",
      "align_content": null,
      "align_items": null,
      "align_self": null,
      "border": null,
      "bottom": null,
      "display": null,
      "flex": null,
      "flex_flow": null,
      "grid_area": null,
      "grid_auto_columns": null,
      "grid_auto_flow": null,
      "grid_auto_rows": null,
      "grid_column": null,
      "grid_gap": null,
      "grid_row": null,
      "grid_template_areas": null,
      "grid_template_columns": null,
      "grid_template_rows": null,
      "height": null,
      "justify_content": null,
      "justify_items": null,
      "left": null,
      "margin": null,
      "max_height": null,
      "max_width": null,
      "min_height": null,
      "min_width": null,
      "object_fit": null,
      "object_position": null,
      "order": null,
      "overflow": null,
      "overflow_x": null,
      "overflow_y": null,
      "padding": null,
      "right": null,
      "top": null,
      "visibility": null,
      "width": null
     }
    },
    "59d6f8463be7496397040031f004eb9d": {
     "model_module": "@jupyter-widgets/base",
     "model_module_version": "1.2.0",
     "model_name": "LayoutModel",
     "state": {
      "_model_module": "@jupyter-widgets/base",
      "_model_module_version": "1.2.0",
      "_model_name": "LayoutModel",
      "_view_count": null,
      "_view_module": "@jupyter-widgets/base",
      "_view_module_version": "1.2.0",
      "_view_name": "LayoutView",
      "align_content": null,
      "align_items": null,
      "align_self": null,
      "border": null,
      "bottom": null,
      "display": null,
      "flex": null,
      "flex_flow": null,
      "grid_area": null,
      "grid_auto_columns": null,
      "grid_auto_flow": null,
      "grid_auto_rows": null,
      "grid_column": null,
      "grid_gap": null,
      "grid_row": null,
      "grid_template_areas": null,
      "grid_template_columns": null,
      "grid_template_rows": null,
      "height": null,
      "justify_content": null,
      "justify_items": null,
      "left": null,
      "margin": null,
      "max_height": null,
      "max_width": null,
      "min_height": null,
      "min_width": null,
      "object_fit": null,
      "object_position": null,
      "order": null,
      "overflow": null,
      "overflow_x": null,
      "overflow_y": null,
      "padding": null,
      "right": null,
      "top": null,
      "visibility": null,
      "width": null
     }
    },
    "5b0a4c6475e14876be0f9690c2428bac": {
     "model_module": "@jupyter-widgets/base",
     "model_module_version": "1.2.0",
     "model_name": "LayoutModel",
     "state": {
      "_model_module": "@jupyter-widgets/base",
      "_model_module_version": "1.2.0",
      "_model_name": "LayoutModel",
      "_view_count": null,
      "_view_module": "@jupyter-widgets/base",
      "_view_module_version": "1.2.0",
      "_view_name": "LayoutView",
      "align_content": null,
      "align_items": null,
      "align_self": null,
      "border": null,
      "bottom": null,
      "display": null,
      "flex": null,
      "flex_flow": null,
      "grid_area": null,
      "grid_auto_columns": null,
      "grid_auto_flow": null,
      "grid_auto_rows": null,
      "grid_column": null,
      "grid_gap": null,
      "grid_row": null,
      "grid_template_areas": null,
      "grid_template_columns": null,
      "grid_template_rows": null,
      "height": null,
      "justify_content": null,
      "justify_items": null,
      "left": null,
      "margin": null,
      "max_height": null,
      "max_width": null,
      "min_height": null,
      "min_width": null,
      "object_fit": null,
      "object_position": null,
      "order": null,
      "overflow": null,
      "overflow_x": null,
      "overflow_y": null,
      "padding": null,
      "right": null,
      "top": null,
      "visibility": null,
      "width": null
     }
    },
    "5df01c0ddb10429990b85d2fa97cdcfb": {
     "model_module": "@jupyter-widgets/controls",
     "model_module_version": "1.5.0",
     "model_name": "HTMLModel",
     "state": {
      "_dom_classes": [],
      "_model_module": "@jupyter-widgets/controls",
      "_model_module_version": "1.5.0",
      "_model_name": "HTMLModel",
      "_view_count": null,
      "_view_module": "@jupyter-widgets/controls",
      "_view_module_version": "1.5.0",
      "_view_name": "HTMLView",
      "description": "",
      "description_tooltip": null,
      "layout": "IPY_MODEL_241c2a02ad1f44fb8b6c3043bb25f1bd",
      "placeholder": "​",
      "style": "IPY_MODEL_6d42486c842341228a0265a4403592b7",
      "value": "Map:   0%"
     }
    },
    "5ed77970deb74718bd595ca0e799dff2": {
     "model_module": "@jupyter-widgets/controls",
     "model_module_version": "1.5.0",
     "model_name": "ProgressStyleModel",
     "state": {
      "_model_module": "@jupyter-widgets/controls",
      "_model_module_version": "1.5.0",
      "_model_name": "ProgressStyleModel",
      "_view_count": null,
      "_view_module": "@jupyter-widgets/base",
      "_view_module_version": "1.2.0",
      "_view_name": "StyleView",
      "bar_color": null,
      "description_width": ""
     }
    },
    "609227adb01f4d0aa734a5b678f29676": {
     "model_module": "@jupyter-widgets/base",
     "model_module_version": "1.2.0",
     "model_name": "LayoutModel",
     "state": {
      "_model_module": "@jupyter-widgets/base",
      "_model_module_version": "1.2.0",
      "_model_name": "LayoutModel",
      "_view_count": null,
      "_view_module": "@jupyter-widgets/base",
      "_view_module_version": "1.2.0",
      "_view_name": "LayoutView",
      "align_content": null,
      "align_items": null,
      "align_self": null,
      "border": null,
      "bottom": null,
      "display": null,
      "flex": null,
      "flex_flow": null,
      "grid_area": null,
      "grid_auto_columns": null,
      "grid_auto_flow": null,
      "grid_auto_rows": null,
      "grid_column": null,
      "grid_gap": null,
      "grid_row": null,
      "grid_template_areas": null,
      "grid_template_columns": null,
      "grid_template_rows": null,
      "height": null,
      "justify_content": null,
      "justify_items": null,
      "left": null,
      "margin": null,
      "max_height": null,
      "max_width": null,
      "min_height": null,
      "min_width": null,
      "object_fit": null,
      "object_position": null,
      "order": null,
      "overflow": null,
      "overflow_x": null,
      "overflow_y": null,
      "padding": null,
      "right": null,
      "top": null,
      "visibility": null,
      "width": null
     }
    },
    "622748dee43e4d28aee96662589f3456": {
     "model_module": "@jupyter-widgets/controls",
     "model_module_version": "1.5.0",
     "model_name": "FloatProgressModel",
     "state": {
      "_dom_classes": [],
      "_model_module": "@jupyter-widgets/controls",
      "_model_module_version": "1.5.0",
      "_model_name": "FloatProgressModel",
      "_view_count": null,
      "_view_module": "@jupyter-widgets/controls",
      "_view_module_version": "1.5.0",
      "_view_name": "ProgressView",
      "bar_style": "success",
      "description": "",
      "description_tooltip": null,
      "layout": "IPY_MODEL_c526b51539274fafa48f611a58972ca0",
      "max": 369,
      "min": 0,
      "orientation": "horizontal",
      "style": "IPY_MODEL_d9d61c6e5d234914adf9bcdd918cb7df",
      "value": 369
     }
    },
    "6358c39a87b54f87832bbfa672121c3c": {
     "model_module": "@jupyter-widgets/controls",
     "model_module_version": "1.5.0",
     "model_name": "FloatProgressModel",
     "state": {
      "_dom_classes": [],
      "_model_module": "@jupyter-widgets/controls",
      "_model_module_version": "1.5.0",
      "_model_name": "FloatProgressModel",
      "_view_count": null,
      "_view_module": "@jupyter-widgets/controls",
      "_view_module_version": "1.5.0",
      "_view_name": "ProgressView",
      "bar_style": "success",
      "description": "",
      "description_tooltip": null,
      "layout": "IPY_MODEL_88839b9cd43744859c3ab11e3f403353",
      "max": 798293,
      "min": 0,
      "orientation": "horizontal",
      "style": "IPY_MODEL_ebe6f846e6074fd7837c29ba9f441f59",
      "value": 798293
     }
    },
    "64330d9b282f42f18577b0c3c6aa3cda": {
     "model_module": "@jupyter-widgets/base",
     "model_module_version": "1.2.0",
     "model_name": "LayoutModel",
     "state": {
      "_model_module": "@jupyter-widgets/base",
      "_model_module_version": "1.2.0",
      "_model_name": "LayoutModel",
      "_view_count": null,
      "_view_module": "@jupyter-widgets/base",
      "_view_module_version": "1.2.0",
      "_view_name": "LayoutView",
      "align_content": null,
      "align_items": null,
      "align_self": null,
      "border": null,
      "bottom": null,
      "display": null,
      "flex": null,
      "flex_flow": null,
      "grid_area": null,
      "grid_auto_columns": null,
      "grid_auto_flow": null,
      "grid_auto_rows": null,
      "grid_column": null,
      "grid_gap": null,
      "grid_row": null,
      "grid_template_areas": null,
      "grid_template_columns": null,
      "grid_template_rows": null,
      "height": null,
      "justify_content": null,
      "justify_items": null,
      "left": null,
      "margin": null,
      "max_height": null,
      "max_width": null,
      "min_height": null,
      "min_width": null,
      "object_fit": null,
      "object_position": null,
      "order": null,
      "overflow": null,
      "overflow_x": null,
      "overflow_y": null,
      "padding": null,
      "right": null,
      "top": null,
      "visibility": null,
      "width": null
     }
    },
    "65503b32a8b1492c9e201d03e2fa8670": {
     "model_module": "@jupyter-widgets/controls",
     "model_module_version": "1.5.0",
     "model_name": "DescriptionStyleModel",
     "state": {
      "_model_module": "@jupyter-widgets/controls",
      "_model_module_version": "1.5.0",
      "_model_name": "DescriptionStyleModel",
      "_view_count": null,
      "_view_module": "@jupyter-widgets/base",
      "_view_module_version": "1.2.0",
      "_view_name": "StyleView",
      "description_width": ""
     }
    },
    "680af2f89b3f400a9f83cc9fd3fd2359": {
     "model_module": "@jupyter-widgets/controls",
     "model_module_version": "1.5.0",
     "model_name": "HBoxModel",
     "state": {
      "_dom_classes": [],
      "_model_module": "@jupyter-widgets/controls",
      "_model_module_version": "1.5.0",
      "_model_name": "HBoxModel",
      "_view_count": null,
      "_view_module": "@jupyter-widgets/controls",
      "_view_module_version": "1.5.0",
      "_view_name": "HBoxView",
      "box_style": "",
      "children": [
       "IPY_MODEL_5df01c0ddb10429990b85d2fa97cdcfb",
       "IPY_MODEL_6c7b18b779fa4aebb35a89e432c540a7",
       "IPY_MODEL_b3150568d1bc4de9aa095dc46aeb8e08"
      ],
      "layout": "IPY_MODEL_f5462d9ac50841ae8ab0ce69b29ffc60"
     }
    },
    "6acc1238c79a475991351b320b702dcc": {
     "model_module": "@jupyter-widgets/base",
     "model_module_version": "1.2.0",
     "model_name": "LayoutModel",
     "state": {
      "_model_module": "@jupyter-widgets/base",
      "_model_module_version": "1.2.0",
      "_model_name": "LayoutModel",
      "_view_count": null,
      "_view_module": "@jupyter-widgets/base",
      "_view_module_version": "1.2.0",
      "_view_name": "LayoutView",
      "align_content": null,
      "align_items": null,
      "align_self": null,
      "border": null,
      "bottom": null,
      "display": null,
      "flex": null,
      "flex_flow": null,
      "grid_area": null,
      "grid_auto_columns": null,
      "grid_auto_flow": null,
      "grid_auto_rows": null,
      "grid_column": null,
      "grid_gap": null,
      "grid_row": null,
      "grid_template_areas": null,
      "grid_template_columns": null,
      "grid_template_rows": null,
      "height": null,
      "justify_content": null,
      "justify_items": null,
      "left": null,
      "margin": null,
      "max_height": null,
      "max_width": null,
      "min_height": null,
      "min_width": null,
      "object_fit": null,
      "object_position": null,
      "order": null,
      "overflow": null,
      "overflow_x": null,
      "overflow_y": null,
      "padding": null,
      "right": null,
      "top": null,
      "visibility": null,
      "width": null
     }
    },
    "6bc19ff03a274dd7a31f145f7a5e004b": {
     "model_module": "@jupyter-widgets/base",
     "model_module_version": "1.2.0",
     "model_name": "LayoutModel",
     "state": {
      "_model_module": "@jupyter-widgets/base",
      "_model_module_version": "1.2.0",
      "_model_name": "LayoutModel",
      "_view_count": null,
      "_view_module": "@jupyter-widgets/base",
      "_view_module_version": "1.2.0",
      "_view_name": "LayoutView",
      "align_content": null,
      "align_items": null,
      "align_self": null,
      "border": null,
      "bottom": null,
      "display": null,
      "flex": null,
      "flex_flow": null,
      "grid_area": null,
      "grid_auto_columns": null,
      "grid_auto_flow": null,
      "grid_auto_rows": null,
      "grid_column": null,
      "grid_gap": null,
      "grid_row": null,
      "grid_template_areas": null,
      "grid_template_columns": null,
      "grid_template_rows": null,
      "height": null,
      "justify_content": null,
      "justify_items": null,
      "left": null,
      "margin": null,
      "max_height": null,
      "max_width": null,
      "min_height": null,
      "min_width": null,
      "object_fit": null,
      "object_position": null,
      "order": null,
      "overflow": null,
      "overflow_x": null,
      "overflow_y": null,
      "padding": null,
      "right": null,
      "top": null,
      "visibility": null,
      "width": null
     }
    },
    "6c65945925184a05a90b31bc937812a7": {
     "model_module": "@jupyter-widgets/controls",
     "model_module_version": "1.5.0",
     "model_name": "ProgressStyleModel",
     "state": {
      "_model_module": "@jupyter-widgets/controls",
      "_model_module_version": "1.5.0",
      "_model_name": "ProgressStyleModel",
      "_view_count": null,
      "_view_module": "@jupyter-widgets/base",
      "_view_module_version": "1.2.0",
      "_view_name": "StyleView",
      "bar_color": null,
      "description_width": ""
     }
    },
    "6c7b18b779fa4aebb35a89e432c540a7": {
     "model_module": "@jupyter-widgets/controls",
     "model_module_version": "1.5.0",
     "model_name": "FloatProgressModel",
     "state": {
      "_dom_classes": [],
      "_model_module": "@jupyter-widgets/controls",
      "_model_module_version": "1.5.0",
      "_model_name": "FloatProgressModel",
      "_view_count": null,
      "_view_module": "@jupyter-widgets/controls",
      "_view_module_version": "1.5.0",
      "_view_name": "ProgressView",
      "bar_style": "danger",
      "description": "",
      "description_tooltip": null,
      "layout": "IPY_MODEL_3cddeb8d9cb04b6a9821b0fce0962f00",
      "max": 200,
      "min": 0,
      "orientation": "horizontal",
      "style": "IPY_MODEL_6c65945925184a05a90b31bc937812a7",
      "value": 0
     }
    },
    "6d42486c842341228a0265a4403592b7": {
     "model_module": "@jupyter-widgets/controls",
     "model_module_version": "1.5.0",
     "model_name": "DescriptionStyleModel",
     "state": {
      "_model_module": "@jupyter-widgets/controls",
      "_model_module_version": "1.5.0",
      "_model_name": "DescriptionStyleModel",
      "_view_count": null,
      "_view_module": "@jupyter-widgets/base",
      "_view_module_version": "1.2.0",
      "_view_name": "StyleView",
      "description_width": ""
     }
    },
    "6dd4b84b50e441398a12382c547dcfc3": {
     "model_module": "@jupyter-widgets/controls",
     "model_module_version": "1.5.0",
     "model_name": "FloatProgressModel",
     "state": {
      "_dom_classes": [],
      "_model_module": "@jupyter-widgets/controls",
      "_model_module_version": "1.5.0",
      "_model_name": "FloatProgressModel",
      "_view_count": null,
      "_view_module": "@jupyter-widgets/controls",
      "_view_module_version": "1.5.0",
      "_view_name": "ProgressView",
      "bar_style": "success",
      "description": "",
      "description_tooltip": null,
      "layout": "IPY_MODEL_940db32b2b334a0aafdca9c32adb2dbc",
      "max": 463953,
      "min": 0,
      "orientation": "horizontal",
      "style": "IPY_MODEL_71de72356e3340aa8afff6e0d710bae9",
      "value": 463953
     }
    },
    "702b2dcaa4094e53ab313858fc4e6c59": {
     "model_module": "@jupyter-widgets/base",
     "model_module_version": "1.2.0",
     "model_name": "LayoutModel",
     "state": {
      "_model_module": "@jupyter-widgets/base",
      "_model_module_version": "1.2.0",
      "_model_name": "LayoutModel",
      "_view_count": null,
      "_view_module": "@jupyter-widgets/base",
      "_view_module_version": "1.2.0",
      "_view_name": "LayoutView",
      "align_content": null,
      "align_items": null,
      "align_self": null,
      "border": null,
      "bottom": null,
      "display": null,
      "flex": null,
      "flex_flow": null,
      "grid_area": null,
      "grid_auto_columns": null,
      "grid_auto_flow": null,
      "grid_auto_rows": null,
      "grid_column": null,
      "grid_gap": null,
      "grid_row": null,
      "grid_template_areas": null,
      "grid_template_columns": null,
      "grid_template_rows": null,
      "height": null,
      "justify_content": null,
      "justify_items": null,
      "left": null,
      "margin": null,
      "max_height": null,
      "max_width": null,
      "min_height": null,
      "min_width": null,
      "object_fit": null,
      "object_position": null,
      "order": null,
      "overflow": null,
      "overflow_x": null,
      "overflow_y": null,
      "padding": null,
      "right": null,
      "top": null,
      "visibility": null,
      "width": null
     }
    },
    "71de72356e3340aa8afff6e0d710bae9": {
     "model_module": "@jupyter-widgets/controls",
     "model_module_version": "1.5.0",
     "model_name": "ProgressStyleModel",
     "state": {
      "_model_module": "@jupyter-widgets/controls",
      "_model_module_version": "1.5.0",
      "_model_name": "ProgressStyleModel",
      "_view_count": null,
      "_view_module": "@jupyter-widgets/base",
      "_view_module_version": "1.2.0",
      "_view_name": "StyleView",
      "bar_color": null,
      "description_width": ""
     }
    },
    "7389124878f74f63903a0066c68d7b6c": {
     "model_module": "@jupyter-widgets/controls",
     "model_module_version": "1.5.0",
     "model_name": "HTMLModel",
     "state": {
      "_dom_classes": [],
      "_model_module": "@jupyter-widgets/controls",
      "_model_module_version": "1.5.0",
      "_model_name": "HTMLModel",
      "_view_count": null,
      "_view_module": "@jupyter-widgets/controls",
      "_view_module_version": "1.5.0",
      "_view_name": "HTMLView",
      "description": "",
      "description_tooltip": null,
      "layout": "IPY_MODEL_d5c48e25a7084121ba293fbef760299e",
      "placeholder": "​",
      "style": "IPY_MODEL_3d13b6f7ad6a4dad82cfbef8c63fbb21",
      "value": "Downloading (…)lve/main/config.json: 100%"
     }
    },
    "79c9afb2a5a64a59b3af4232850e5237": {
     "model_module": "@jupyter-widgets/base",
     "model_module_version": "1.2.0",
     "model_name": "LayoutModel",
     "state": {
      "_model_module": "@jupyter-widgets/base",
      "_model_module_version": "1.2.0",
      "_model_name": "LayoutModel",
      "_view_count": null,
      "_view_module": "@jupyter-widgets/base",
      "_view_module_version": "1.2.0",
      "_view_name": "LayoutView",
      "align_content": null,
      "align_items": null,
      "align_self": null,
      "border": null,
      "bottom": null,
      "display": null,
      "flex": null,
      "flex_flow": null,
      "grid_area": null,
      "grid_auto_columns": null,
      "grid_auto_flow": null,
      "grid_auto_rows": null,
      "grid_column": null,
      "grid_gap": null,
      "grid_row": null,
      "grid_template_areas": null,
      "grid_template_columns": null,
      "grid_template_rows": null,
      "height": null,
      "justify_content": null,
      "justify_items": null,
      "left": null,
      "margin": null,
      "max_height": null,
      "max_width": null,
      "min_height": null,
      "min_width": null,
      "object_fit": null,
      "object_position": null,
      "order": null,
      "overflow": null,
      "overflow_x": null,
      "overflow_y": null,
      "padding": null,
      "right": null,
      "top": null,
      "visibility": null,
      "width": null
     }
    },
    "7a7f4fd0c67f4c64863dc8cb2622407a": {
     "model_module": "@jupyter-widgets/controls",
     "model_module_version": "1.5.0",
     "model_name": "DescriptionStyleModel",
     "state": {
      "_model_module": "@jupyter-widgets/controls",
      "_model_module_version": "1.5.0",
      "_model_name": "DescriptionStyleModel",
      "_view_count": null,
      "_view_module": "@jupyter-widgets/base",
      "_view_module_version": "1.2.0",
      "_view_name": "StyleView",
      "description_width": ""
     }
    },
    "7a969f1052894c8192f42928eb959615": {
     "model_module": "@jupyter-widgets/controls",
     "model_module_version": "1.5.0",
     "model_name": "DescriptionStyleModel",
     "state": {
      "_model_module": "@jupyter-widgets/controls",
      "_model_module_version": "1.5.0",
      "_model_name": "DescriptionStyleModel",
      "_view_count": null,
      "_view_module": "@jupyter-widgets/base",
      "_view_module_version": "1.2.0",
      "_view_name": "StyleView",
      "description_width": ""
     }
    },
    "7b9b541f4e694809adc3ba072a037837": {
     "model_module": "@jupyter-widgets/controls",
     "model_module_version": "1.5.0",
     "model_name": "HBoxModel",
     "state": {
      "_dom_classes": [],
      "_model_module": "@jupyter-widgets/controls",
      "_model_module_version": "1.5.0",
      "_model_name": "HBoxModel",
      "_view_count": null,
      "_view_module": "@jupyter-widgets/controls",
      "_view_module_version": "1.5.0",
      "_view_name": "HBoxView",
      "box_style": "",
      "children": [
       "IPY_MODEL_2339fc8222c849ff8dcc6276302f0f9a",
       "IPY_MODEL_a68b411d052e4f7b8a7eb2aa61a0f275",
       "IPY_MODEL_b25886af111d4724a75d303e637b6d2e"
      ],
      "layout": "IPY_MODEL_1e368857627541f4adaac8bff12a617e"
     }
    },
    "7cfa1cc7c27f425b9f774c7e81359f5a": {
     "model_module": "@jupyter-widgets/controls",
     "model_module_version": "1.5.0",
     "model_name": "DescriptionStyleModel",
     "state": {
      "_model_module": "@jupyter-widgets/controls",
      "_model_module_version": "1.5.0",
      "_model_name": "DescriptionStyleModel",
      "_view_count": null,
      "_view_module": "@jupyter-widgets/base",
      "_view_module_version": "1.2.0",
      "_view_name": "StyleView",
      "description_width": ""
     }
    },
    "7d79f11270714921bf4a510e164194a5": {
     "model_module": "@jupyter-widgets/base",
     "model_module_version": "1.2.0",
     "model_name": "LayoutModel",
     "state": {
      "_model_module": "@jupyter-widgets/base",
      "_model_module_version": "1.2.0",
      "_model_name": "LayoutModel",
      "_view_count": null,
      "_view_module": "@jupyter-widgets/base",
      "_view_module_version": "1.2.0",
      "_view_name": "LayoutView",
      "align_content": null,
      "align_items": null,
      "align_self": null,
      "border": null,
      "bottom": null,
      "display": null,
      "flex": null,
      "flex_flow": null,
      "grid_area": null,
      "grid_auto_columns": null,
      "grid_auto_flow": null,
      "grid_auto_rows": null,
      "grid_column": null,
      "grid_gap": null,
      "grid_row": null,
      "grid_template_areas": null,
      "grid_template_columns": null,
      "grid_template_rows": null,
      "height": null,
      "justify_content": null,
      "justify_items": null,
      "left": null,
      "margin": null,
      "max_height": null,
      "max_width": null,
      "min_height": null,
      "min_width": null,
      "object_fit": null,
      "object_position": null,
      "order": null,
      "overflow": null,
      "overflow_x": null,
      "overflow_y": null,
      "padding": null,
      "right": null,
      "top": null,
      "visibility": null,
      "width": null
     }
    },
    "7db7274694e94dfe8a6b225c3679f76b": {
     "model_module": "@jupyter-widgets/controls",
     "model_module_version": "1.5.0",
     "model_name": "HTMLModel",
     "state": {
      "_dom_classes": [],
      "_model_module": "@jupyter-widgets/controls",
      "_model_module_version": "1.5.0",
      "_model_name": "HTMLModel",
      "_view_count": null,
      "_view_module": "@jupyter-widgets/controls",
      "_view_module_version": "1.5.0",
      "_view_name": "HTMLView",
      "description": "",
      "description_tooltip": null,
      "layout": "IPY_MODEL_eb2df8bf4bb34cce828a3a8bf5f99f97",
      "placeholder": "​",
      "style": "IPY_MODEL_c4f8c81f1c0b42978e0de220ca4d53ef",
      "value": " 439M/439M [00:04&lt;00:00, 135MB/s]"
     }
    },
    "815e3d2b16fe463ca9ec5a08b954643c": {
     "model_module": "@jupyter-widgets/controls",
     "model_module_version": "1.5.0",
     "model_name": "DescriptionStyleModel",
     "state": {
      "_model_module": "@jupyter-widgets/controls",
      "_model_module_version": "1.5.0",
      "_model_name": "DescriptionStyleModel",
      "_view_count": null,
      "_view_module": "@jupyter-widgets/base",
      "_view_module_version": "1.2.0",
      "_view_name": "StyleView",
      "description_width": ""
     }
    },
    "81ac0a52ba1e44c58b65a93ecc76f047": {
     "model_module": "@jupyter-widgets/controls",
     "model_module_version": "1.5.0",
     "model_name": "HTMLModel",
     "state": {
      "_dom_classes": [],
      "_model_module": "@jupyter-widgets/controls",
      "_model_module_version": "1.5.0",
      "_model_name": "HTMLModel",
      "_view_count": null,
      "_view_module": "@jupyter-widgets/controls",
      "_view_module_version": "1.5.0",
      "_view_name": "HTMLView",
      "description": "",
      "description_tooltip": null,
      "layout": "IPY_MODEL_bbb239ed9b614343a891303e528c298d",
      "placeholder": "​",
      "style": "IPY_MODEL_7cfa1cc7c27f425b9f774c7e81359f5a",
      "value": "Downloading (…)okenizer_config.json: 100%"
     }
    },
    "83823f75ff0e4a2ab2b5f4e36ae54594": {
     "model_module": "@jupyter-widgets/controls",
     "model_module_version": "1.5.0",
     "model_name": "FloatProgressModel",
     "state": {
      "_dom_classes": [],
      "_model_module": "@jupyter-widgets/controls",
      "_model_module_version": "1.5.0",
      "_model_name": "FloatProgressModel",
      "_view_count": null,
      "_view_module": "@jupyter-widgets/controls",
      "_view_module_version": "1.5.0",
      "_view_name": "ProgressView",
      "bar_style": "success",
      "description": "",
      "description_tooltip": null,
      "layout": "IPY_MODEL_4e143a25f7414a1f8660329335f57a3a",
      "max": 239,
      "min": 0,
      "orientation": "horizontal",
      "style": "IPY_MODEL_3965e512cf4849af9aeb44f87d4772ab",
      "value": 239
     }
    },
    "87ae6227dd644a7ba6d2860b293f7f67": {
     "model_module": "@jupyter-widgets/base",
     "model_module_version": "1.2.0",
     "model_name": "LayoutModel",
     "state": {
      "_model_module": "@jupyter-widgets/base",
      "_model_module_version": "1.2.0",
      "_model_name": "LayoutModel",
      "_view_count": null,
      "_view_module": "@jupyter-widgets/base",
      "_view_module_version": "1.2.0",
      "_view_name": "LayoutView",
      "align_content": null,
      "align_items": null,
      "align_self": null,
      "border": null,
      "bottom": null,
      "display": null,
      "flex": null,
      "flex_flow": null,
      "grid_area": null,
      "grid_auto_columns": null,
      "grid_auto_flow": null,
      "grid_auto_rows": null,
      "grid_column": null,
      "grid_gap": null,
      "grid_row": null,
      "grid_template_areas": null,
      "grid_template_columns": null,
      "grid_template_rows": null,
      "height": null,
      "justify_content": null,
      "justify_items": null,
      "left": null,
      "margin": null,
      "max_height": null,
      "max_width": null,
      "min_height": null,
      "min_width": null,
      "object_fit": null,
      "object_position": null,
      "order": null,
      "overflow": null,
      "overflow_x": null,
      "overflow_y": null,
      "padding": null,
      "right": null,
      "top": null,
      "visibility": null,
      "width": null
     }
    },
    "88839b9cd43744859c3ab11e3f403353": {
     "model_module": "@jupyter-widgets/base",
     "model_module_version": "1.2.0",
     "model_name": "LayoutModel",
     "state": {
      "_model_module": "@jupyter-widgets/base",
      "_model_module_version": "1.2.0",
      "_model_name": "LayoutModel",
      "_view_count": null,
      "_view_module": "@jupyter-widgets/base",
      "_view_module_version": "1.2.0",
      "_view_name": "LayoutView",
      "align_content": null,
      "align_items": null,
      "align_self": null,
      "border": null,
      "bottom": null,
      "display": null,
      "flex": null,
      "flex_flow": null,
      "grid_area": null,
      "grid_auto_columns": null,
      "grid_auto_flow": null,
      "grid_auto_rows": null,
      "grid_column": null,
      "grid_gap": null,
      "grid_row": null,
      "grid_template_areas": null,
      "grid_template_columns": null,
      "grid_template_rows": null,
      "height": null,
      "justify_content": null,
      "justify_items": null,
      "left": null,
      "margin": null,
      "max_height": null,
      "max_width": null,
      "min_height": null,
      "min_width": null,
      "object_fit": null,
      "object_position": null,
      "order": null,
      "overflow": null,
      "overflow_x": null,
      "overflow_y": null,
      "padding": null,
      "right": null,
      "top": null,
      "visibility": null,
      "width": null
     }
    },
    "8a43dc94fc484cdabb225cc247229d20": {
     "model_module": "@jupyter-widgets/base",
     "model_module_version": "1.2.0",
     "model_name": "LayoutModel",
     "state": {
      "_model_module": "@jupyter-widgets/base",
      "_model_module_version": "1.2.0",
      "_model_name": "LayoutModel",
      "_view_count": null,
      "_view_module": "@jupyter-widgets/base",
      "_view_module_version": "1.2.0",
      "_view_name": "LayoutView",
      "align_content": null,
      "align_items": null,
      "align_self": null,
      "border": null,
      "bottom": null,
      "display": null,
      "flex": null,
      "flex_flow": null,
      "grid_area": null,
      "grid_auto_columns": null,
      "grid_auto_flow": null,
      "grid_auto_rows": null,
      "grid_column": null,
      "grid_gap": null,
      "grid_row": null,
      "grid_template_areas": null,
      "grid_template_columns": null,
      "grid_template_rows": null,
      "height": null,
      "justify_content": null,
      "justify_items": null,
      "left": null,
      "margin": null,
      "max_height": null,
      "max_width": null,
      "min_height": null,
      "min_width": null,
      "object_fit": null,
      "object_position": null,
      "order": null,
      "overflow": null,
      "overflow_x": null,
      "overflow_y": null,
      "padding": null,
      "right": null,
      "top": null,
      "visibility": null,
      "width": null
     }
    },
    "90445e8064a545f2afb0538b1a3ced48": {
     "model_module": "@jupyter-widgets/controls",
     "model_module_version": "1.5.0",
     "model_name": "HTMLModel",
     "state": {
      "_dom_classes": [],
      "_model_module": "@jupyter-widgets/controls",
      "_model_module_version": "1.5.0",
      "_model_name": "HTMLModel",
      "_view_count": null,
      "_view_module": "@jupyter-widgets/controls",
      "_view_module_version": "1.5.0",
      "_view_name": "HTMLView",
      "description": "",
      "description_tooltip": null,
      "layout": "IPY_MODEL_412a8ed35b9d4035a072a660e08f6aa3",
      "placeholder": "​",
      "style": "IPY_MODEL_65503b32a8b1492c9e201d03e2fa8670",
      "value": "Downloading pytorch_model.bin: 100%"
     }
    },
    "92eea493afb144c2aa1d9660ee85b52d": {
     "model_module": "@jupyter-widgets/controls",
     "model_module_version": "1.5.0",
     "model_name": "HTMLModel",
     "state": {
      "_dom_classes": [],
      "_model_module": "@jupyter-widgets/controls",
      "_model_module_version": "1.5.0",
      "_model_name": "HTMLModel",
      "_view_count": null,
      "_view_module": "@jupyter-widgets/controls",
      "_view_module_version": "1.5.0",
      "_view_name": "HTMLView",
      "description": "",
      "description_tooltip": null,
      "layout": "IPY_MODEL_702b2dcaa4094e53ab313858fc4e6c59",
      "placeholder": "​",
      "style": "IPY_MODEL_2fc0eb4f5f1e4d82a3e4f609c600051c",
      "value": "Downloading (…)olve/main/vocab.json: 100%"
     }
    },
    "940db32b2b334a0aafdca9c32adb2dbc": {
     "model_module": "@jupyter-widgets/base",
     "model_module_version": "1.2.0",
     "model_name": "LayoutModel",
     "state": {
      "_model_module": "@jupyter-widgets/base",
      "_model_module_version": "1.2.0",
      "_model_name": "LayoutModel",
      "_view_count": null,
      "_view_module": "@jupyter-widgets/base",
      "_view_module_version": "1.2.0",
      "_view_name": "LayoutView",
      "align_content": null,
      "align_items": null,
      "align_self": null,
      "border": null,
      "bottom": null,
      "display": null,
      "flex": null,
      "flex_flow": null,
      "grid_area": null,
      "grid_auto_columns": null,
      "grid_auto_flow": null,
      "grid_auto_rows": null,
      "grid_column": null,
      "grid_gap": null,
      "grid_row": null,
      "grid_template_areas": null,
      "grid_template_columns": null,
      "grid_template_rows": null,
      "height": null,
      "justify_content": null,
      "justify_items": null,
      "left": null,
      "margin": null,
      "max_height": null,
      "max_width": null,
      "min_height": null,
      "min_width": null,
      "object_fit": null,
      "object_position": null,
      "order": null,
      "overflow": null,
      "overflow_x": null,
      "overflow_y": null,
      "padding": null,
      "right": null,
      "top": null,
      "visibility": null,
      "width": null
     }
    },
    "96e0c18c52054101acf5282528802903": {
     "model_module": "@jupyter-widgets/controls",
     "model_module_version": "1.5.0",
     "model_name": "HBoxModel",
     "state": {
      "_dom_classes": [],
      "_model_module": "@jupyter-widgets/controls",
      "_model_module_version": "1.5.0",
      "_model_name": "HBoxModel",
      "_view_count": null,
      "_view_module": "@jupyter-widgets/controls",
      "_view_module_version": "1.5.0",
      "_view_name": "HBoxView",
      "box_style": "",
      "children": [
       "IPY_MODEL_90445e8064a545f2afb0538b1a3ced48",
       "IPY_MODEL_aba5f1bc4e8c40d5b0604ebb426996ac",
       "IPY_MODEL_7db7274694e94dfe8a6b225c3679f76b"
      ],
      "layout": "IPY_MODEL_c4c0b0bef6aa4fa28d4fb26dbdb0570f"
     }
    },
    "a0d601bdfb3d478384019480481f563e": {
     "model_module": "@jupyter-widgets/controls",
     "model_module_version": "1.5.0",
     "model_name": "HBoxModel",
     "state": {
      "_dom_classes": [],
      "_model_module": "@jupyter-widgets/controls",
      "_model_module_version": "1.5.0",
      "_model_name": "HBoxModel",
      "_view_count": null,
      "_view_module": "@jupyter-widgets/controls",
      "_view_module_version": "1.5.0",
      "_view_name": "HBoxView",
      "box_style": "",
      "children": [
       "IPY_MODEL_11ea8485d4e943389e9071a0abf5c84a",
       "IPY_MODEL_622748dee43e4d28aee96662589f3456",
       "IPY_MODEL_c18be72f9b404f90ba237c27acaa2032"
      ],
      "layout": "IPY_MODEL_d6ec7ca270134a3397e3fea30be861e7"
     }
    },
    "a182ef3255724fddb99e0500063fced7": {
     "model_module": "@jupyter-widgets/base",
     "model_module_version": "1.2.0",
     "model_name": "LayoutModel",
     "state": {
      "_model_module": "@jupyter-widgets/base",
      "_model_module_version": "1.2.0",
      "_model_name": "LayoutModel",
      "_view_count": null,
      "_view_module": "@jupyter-widgets/base",
      "_view_module_version": "1.2.0",
      "_view_name": "LayoutView",
      "align_content": null,
      "align_items": null,
      "align_self": null,
      "border": null,
      "bottom": null,
      "display": null,
      "flex": null,
      "flex_flow": null,
      "grid_area": null,
      "grid_auto_columns": null,
      "grid_auto_flow": null,
      "grid_auto_rows": null,
      "grid_column": null,
      "grid_gap": null,
      "grid_row": null,
      "grid_template_areas": null,
      "grid_template_columns": null,
      "grid_template_rows": null,
      "height": null,
      "justify_content": null,
      "justify_items": null,
      "left": null,
      "margin": null,
      "max_height": null,
      "max_width": null,
      "min_height": null,
      "min_width": null,
      "object_fit": null,
      "object_position": null,
      "order": null,
      "overflow": null,
      "overflow_x": null,
      "overflow_y": null,
      "padding": null,
      "right": null,
      "top": null,
      "visibility": null,
      "width": null
     }
    },
    "a39dd4344790430395dc8463ee3d20b6": {
     "model_module": "@jupyter-widgets/controls",
     "model_module_version": "1.5.0",
     "model_name": "HBoxModel",
     "state": {
      "_dom_classes": [],
      "_model_module": "@jupyter-widgets/controls",
      "_model_module_version": "1.5.0",
      "_model_name": "HBoxModel",
      "_view_count": null,
      "_view_module": "@jupyter-widgets/controls",
      "_view_module_version": "1.5.0",
      "_view_name": "HBoxView",
      "box_style": "",
      "children": [
       "IPY_MODEL_a574bc2e6480403db16bd48fbb4aa84d",
       "IPY_MODEL_1d74897b959b4d388eac292c55e7b1f2",
       "IPY_MODEL_001f3884f085436e96ed44e13192180e"
      ],
      "layout": "IPY_MODEL_35a0dd99b6954a989cdbe3ca46235255"
     }
    },
    "a46b6db192b6479b9081187dd1740572": {
     "model_module": "@jupyter-widgets/controls",
     "model_module_version": "1.5.0",
     "model_name": "DescriptionStyleModel",
     "state": {
      "_model_module": "@jupyter-widgets/controls",
      "_model_module_version": "1.5.0",
      "_model_name": "DescriptionStyleModel",
      "_view_count": null,
      "_view_module": "@jupyter-widgets/base",
      "_view_module_version": "1.2.0",
      "_view_name": "StyleView",
      "description_width": ""
     }
    },
    "a5095f56474e409fae6ab01ab8a9074b": {
     "model_module": "@jupyter-widgets/controls",
     "model_module_version": "1.5.0",
     "model_name": "DescriptionStyleModel",
     "state": {
      "_model_module": "@jupyter-widgets/controls",
      "_model_module_version": "1.5.0",
      "_model_name": "DescriptionStyleModel",
      "_view_count": null,
      "_view_module": "@jupyter-widgets/base",
      "_view_module_version": "1.2.0",
      "_view_name": "StyleView",
      "description_width": ""
     }
    },
    "a574bc2e6480403db16bd48fbb4aa84d": {
     "model_module": "@jupyter-widgets/controls",
     "model_module_version": "1.5.0",
     "model_name": "HTMLModel",
     "state": {
      "_dom_classes": [],
      "_model_module": "@jupyter-widgets/controls",
      "_model_module_version": "1.5.0",
      "_model_name": "HTMLModel",
      "_view_count": null,
      "_view_module": "@jupyter-widgets/controls",
      "_view_module_version": "1.5.0",
      "_view_name": "HTMLView",
      "description": "",
      "description_tooltip": null,
      "layout": "IPY_MODEL_f4ce962073ca4b5fa6dffae7a551f3e9",
      "placeholder": "​",
      "style": "IPY_MODEL_3dba5e358ff045e296f121743e74583a",
      "value": "Downloading (…)solve/main/vocab.txt: 100%"
     }
    },
    "a68b411d052e4f7b8a7eb2aa61a0f275": {
     "model_module": "@jupyter-widgets/controls",
     "model_module_version": "1.5.0",
     "model_name": "FloatProgressModel",
     "state": {
      "_dom_classes": [],
      "_model_module": "@jupyter-widgets/controls",
      "_model_module_version": "1.5.0",
      "_model_name": "FloatProgressModel",
      "_view_count": null,
      "_view_module": "@jupyter-widgets/controls",
      "_view_module_version": "1.5.0",
      "_view_name": "ProgressView",
      "bar_style": "success",
      "description": "",
      "description_tooltip": null,
      "layout": "IPY_MODEL_5128ef2bb8804681a890d22d1949e647",
      "max": 456356,
      "min": 0,
      "orientation": "horizontal",
      "style": "IPY_MODEL_b413b875050a4669b58b3864a3a00ac4",
      "value": 456356
     }
    },
    "aba5f1bc4e8c40d5b0604ebb426996ac": {
     "model_module": "@jupyter-widgets/controls",
     "model_module_version": "1.5.0",
     "model_name": "FloatProgressModel",
     "state": {
      "_dom_classes": [],
      "_model_module": "@jupyter-widgets/controls",
      "_model_module_version": "1.5.0",
      "_model_name": "FloatProgressModel",
      "_view_count": null,
      "_view_module": "@jupyter-widgets/controls",
      "_view_module_version": "1.5.0",
      "_view_name": "ProgressView",
      "bar_style": "success",
      "description": "",
      "description_tooltip": null,
      "layout": "IPY_MODEL_f9d289d2c8044c19908204d8ded46dbe",
      "max": 439102591,
      "min": 0,
      "orientation": "horizontal",
      "style": "IPY_MODEL_24fbe4a8481e4e969a70e48c22371712",
      "value": 439102591
     }
    },
    "abb316057e8344e5accaadf17ecd959a": {
     "model_module": "@jupyter-widgets/base",
     "model_module_version": "1.2.0",
     "model_name": "LayoutModel",
     "state": {
      "_model_module": "@jupyter-widgets/base",
      "_model_module_version": "1.2.0",
      "_model_name": "LayoutModel",
      "_view_count": null,
      "_view_module": "@jupyter-widgets/base",
      "_view_module_version": "1.2.0",
      "_view_name": "LayoutView",
      "align_content": null,
      "align_items": null,
      "align_self": null,
      "border": null,
      "bottom": null,
      "display": null,
      "flex": null,
      "flex_flow": null,
      "grid_area": null,
      "grid_auto_columns": null,
      "grid_auto_flow": null,
      "grid_auto_rows": null,
      "grid_column": null,
      "grid_gap": null,
      "grid_row": null,
      "grid_template_areas": null,
      "grid_template_columns": null,
      "grid_template_rows": null,
      "height": null,
      "justify_content": null,
      "justify_items": null,
      "left": null,
      "margin": null,
      "max_height": null,
      "max_width": null,
      "min_height": null,
      "min_width": null,
      "object_fit": null,
      "object_position": null,
      "order": null,
      "overflow": null,
      "overflow_x": null,
      "overflow_y": null,
      "padding": null,
      "right": null,
      "top": null,
      "visibility": null,
      "width": null
     }
    },
    "ac34b00b96874aaa950f1e9a24bf7aee": {
     "model_module": "@jupyter-widgets/controls",
     "model_module_version": "1.5.0",
     "model_name": "ProgressStyleModel",
     "state": {
      "_model_module": "@jupyter-widgets/controls",
      "_model_module_version": "1.5.0",
      "_model_name": "ProgressStyleModel",
      "_view_count": null,
      "_view_module": "@jupyter-widgets/base",
      "_view_module_version": "1.2.0",
      "_view_name": "StyleView",
      "bar_color": null,
      "description_width": ""
     }
    },
    "add7aa9536c641698c65c880e2be17db": {
     "model_module": "@jupyter-widgets/base",
     "model_module_version": "1.2.0",
     "model_name": "LayoutModel",
     "state": {
      "_model_module": "@jupyter-widgets/base",
      "_model_module_version": "1.2.0",
      "_model_name": "LayoutModel",
      "_view_count": null,
      "_view_module": "@jupyter-widgets/base",
      "_view_module_version": "1.2.0",
      "_view_name": "LayoutView",
      "align_content": null,
      "align_items": null,
      "align_self": null,
      "border": null,
      "bottom": null,
      "display": null,
      "flex": null,
      "flex_flow": null,
      "grid_area": null,
      "grid_auto_columns": null,
      "grid_auto_flow": null,
      "grid_auto_rows": null,
      "grid_column": null,
      "grid_gap": null,
      "grid_row": null,
      "grid_template_areas": null,
      "grid_template_columns": null,
      "grid_template_rows": null,
      "height": null,
      "justify_content": null,
      "justify_items": null,
      "left": null,
      "margin": null,
      "max_height": null,
      "max_width": null,
      "min_height": null,
      "min_width": null,
      "object_fit": null,
      "object_position": null,
      "order": null,
      "overflow": null,
      "overflow_x": null,
      "overflow_y": null,
      "padding": null,
      "right": null,
      "top": null,
      "visibility": null,
      "width": null
     }
    },
    "b07bf82abbcd4dd1a8f02f8100f624a1": {
     "model_module": "@jupyter-widgets/controls",
     "model_module_version": "1.5.0",
     "model_name": "FloatProgressModel",
     "state": {
      "_dom_classes": [],
      "_model_module": "@jupyter-widgets/controls",
      "_model_module_version": "1.5.0",
      "_model_name": "FloatProgressModel",
      "_view_count": null,
      "_view_module": "@jupyter-widgets/controls",
      "_view_module_version": "1.5.0",
      "_view_name": "ProgressView",
      "bar_style": "success",
      "description": "",
      "description_tooltip": null,
      "layout": "IPY_MODEL_a182ef3255724fddb99e0500063fced7",
      "max": 1625553217,
      "min": 0,
      "orientation": "horizontal",
      "style": "IPY_MODEL_5ed77970deb74718bd595ca0e799dff2",
      "value": 1625553217
     }
    },
    "b0f0d7964b4e470daffab317fe5d337c": {
     "model_module": "@jupyter-widgets/controls",
     "model_module_version": "1.5.0",
     "model_name": "HTMLModel",
     "state": {
      "_dom_classes": [],
      "_model_module": "@jupyter-widgets/controls",
      "_model_module_version": "1.5.0",
      "_model_name": "HTMLModel",
      "_view_count": null,
      "_view_module": "@jupyter-widgets/controls",
      "_view_module_version": "1.5.0",
      "_view_name": "HTMLView",
      "description": "",
      "description_tooltip": null,
      "layout": "IPY_MODEL_b85c520a6e884aa7ad45c628eda95653",
      "placeholder": "​",
      "style": "IPY_MODEL_e79098fd8a6c455b99e15dbb26c84851",
      "value": "Downloading pytorch_model.bin: 100%"
     }
    },
    "b1e26f99cd5f4defac504f79eeac1c79": {
     "model_module": "@jupyter-widgets/controls",
     "model_module_version": "1.5.0",
     "model_name": "HTMLModel",
     "state": {
      "_dom_classes": [],
      "_model_module": "@jupyter-widgets/controls",
      "_model_module_version": "1.5.0",
      "_model_name": "HTMLModel",
      "_view_count": null,
      "_view_module": "@jupyter-widgets/controls",
      "_view_module_version": "1.5.0",
      "_view_name": "HTMLView",
      "description": "",
      "description_tooltip": null,
      "layout": "IPY_MODEL_abb316057e8344e5accaadf17ecd959a",
      "placeholder": "​",
      "style": "IPY_MODEL_191f935ced30454f8ff773afb9bb7cc6",
      "value": " 789/789 [00:00&lt;00:00, 1.62kB/s]"
     }
    },
    "b1f29a6231bc4efc90ddb733ee6c4c43": {
     "model_module": "@jupyter-widgets/controls",
     "model_module_version": "1.5.0",
     "model_name": "DescriptionStyleModel",
     "state": {
      "_model_module": "@jupyter-widgets/controls",
      "_model_module_version": "1.5.0",
      "_model_name": "DescriptionStyleModel",
      "_view_count": null,
      "_view_module": "@jupyter-widgets/base",
      "_view_module_version": "1.2.0",
      "_view_name": "StyleView",
      "description_width": ""
     }
    },
    "b25886af111d4724a75d303e637b6d2e": {
     "model_module": "@jupyter-widgets/controls",
     "model_module_version": "1.5.0",
     "model_name": "HTMLModel",
     "state": {
      "_dom_classes": [],
      "_model_module": "@jupyter-widgets/controls",
      "_model_module_version": "1.5.0",
      "_model_name": "HTMLModel",
      "_view_count": null,
      "_view_module": "@jupyter-widgets/controls",
      "_view_module_version": "1.5.0",
      "_view_name": "HTMLView",
      "description": "",
      "description_tooltip": null,
      "layout": "IPY_MODEL_79c9afb2a5a64a59b3af4232850e5237",
      "placeholder": "​",
      "style": "IPY_MODEL_e686fc54f99844e4988399b6f0439e14",
      "value": " 456k/456k [00:00&lt;00:00, 1.41MB/s]"
     }
    },
    "b3150568d1bc4de9aa095dc46aeb8e08": {
     "model_module": "@jupyter-widgets/controls",
     "model_module_version": "1.5.0",
     "model_name": "HTMLModel",
     "state": {
      "_dom_classes": [],
      "_model_module": "@jupyter-widgets/controls",
      "_model_module_version": "1.5.0",
      "_model_name": "HTMLModel",
      "_view_count": null,
      "_view_module": "@jupyter-widgets/controls",
      "_view_module_version": "1.5.0",
      "_view_name": "HTMLView",
      "description": "",
      "description_tooltip": null,
      "layout": "IPY_MODEL_d80edd2f42394b2b9a3a576d1c0fe116",
      "placeholder": "​",
      "style": "IPY_MODEL_815e3d2b16fe463ca9ec5a08b954643c",
      "value": " 0/200 [00:01&lt;?, ? examples/s]"
     }
    },
    "b413b875050a4669b58b3864a3a00ac4": {
     "model_module": "@jupyter-widgets/controls",
     "model_module_version": "1.5.0",
     "model_name": "ProgressStyleModel",
     "state": {
      "_model_module": "@jupyter-widgets/controls",
      "_model_module_version": "1.5.0",
      "_model_name": "ProgressStyleModel",
      "_view_count": null,
      "_view_module": "@jupyter-widgets/base",
      "_view_module_version": "1.2.0",
      "_view_name": "StyleView",
      "bar_color": null,
      "description_width": ""
     }
    },
    "b54d315389594d7b87487c4f22f10e88": {
     "model_module": "@jupyter-widgets/base",
     "model_module_version": "1.2.0",
     "model_name": "LayoutModel",
     "state": {
      "_model_module": "@jupyter-widgets/base",
      "_model_module_version": "1.2.0",
      "_model_name": "LayoutModel",
      "_view_count": null,
      "_view_module": "@jupyter-widgets/base",
      "_view_module_version": "1.2.0",
      "_view_name": "LayoutView",
      "align_content": null,
      "align_items": null,
      "align_self": null,
      "border": null,
      "bottom": null,
      "display": null,
      "flex": null,
      "flex_flow": null,
      "grid_area": null,
      "grid_auto_columns": null,
      "grid_auto_flow": null,
      "grid_auto_rows": null,
      "grid_column": null,
      "grid_gap": null,
      "grid_row": null,
      "grid_template_areas": null,
      "grid_template_columns": null,
      "grid_template_rows": null,
      "height": null,
      "justify_content": null,
      "justify_items": null,
      "left": null,
      "margin": null,
      "max_height": null,
      "max_width": null,
      "min_height": null,
      "min_width": null,
      "object_fit": null,
      "object_position": null,
      "order": null,
      "overflow": null,
      "overflow_x": null,
      "overflow_y": null,
      "padding": null,
      "right": null,
      "top": null,
      "visibility": null,
      "width": null
     }
    },
    "b56070879366486a98a4dea82972c74f": {
     "model_module": "@jupyter-widgets/controls",
     "model_module_version": "1.5.0",
     "model_name": "HBoxModel",
     "state": {
      "_dom_classes": [],
      "_model_module": "@jupyter-widgets/controls",
      "_model_module_version": "1.5.0",
      "_model_name": "HBoxModel",
      "_view_count": null,
      "_view_module": "@jupyter-widgets/controls",
      "_view_module_version": "1.5.0",
      "_view_name": "HBoxView",
      "box_style": "",
      "children": [
       "IPY_MODEL_92eea493afb144c2aa1d9660ee85b52d",
       "IPY_MODEL_6358c39a87b54f87832bbfa672121c3c",
       "IPY_MODEL_1ed95a5292d449bdbb2784dfe0634b13"
      ],
      "layout": "IPY_MODEL_3dc968d3b94f4e15a5b0fc51e0efd756"
     }
    },
    "b85c520a6e884aa7ad45c628eda95653": {
     "model_module": "@jupyter-widgets/base",
     "model_module_version": "1.2.0",
     "model_name": "LayoutModel",
     "state": {
      "_model_module": "@jupyter-widgets/base",
      "_model_module_version": "1.2.0",
      "_model_name": "LayoutModel",
      "_view_count": null,
      "_view_module": "@jupyter-widgets/base",
      "_view_module_version": "1.2.0",
      "_view_name": "LayoutView",
      "align_content": null,
      "align_items": null,
      "align_self": null,
      "border": null,
      "bottom": null,
      "display": null,
      "flex": null,
      "flex_flow": null,
      "grid_area": null,
      "grid_auto_columns": null,
      "grid_auto_flow": null,
      "grid_auto_rows": null,
      "grid_column": null,
      "grid_gap": null,
      "grid_row": null,
      "grid_template_areas": null,
      "grid_template_columns": null,
      "grid_template_rows": null,
      "height": null,
      "justify_content": null,
      "justify_items": null,
      "left": null,
      "margin": null,
      "max_height": null,
      "max_width": null,
      "min_height": null,
      "min_width": null,
      "object_fit": null,
      "object_position": null,
      "order": null,
      "overflow": null,
      "overflow_x": null,
      "overflow_y": null,
      "padding": null,
      "right": null,
      "top": null,
      "visibility": null,
      "width": null
     }
    },
    "ba2f93a203e24446a5ab51d0fab0d205": {
     "model_module": "@jupyter-widgets/controls",
     "model_module_version": "1.5.0",
     "model_name": "DescriptionStyleModel",
     "state": {
      "_model_module": "@jupyter-widgets/controls",
      "_model_module_version": "1.5.0",
      "_model_name": "DescriptionStyleModel",
      "_view_count": null,
      "_view_module": "@jupyter-widgets/base",
      "_view_module_version": "1.2.0",
      "_view_name": "StyleView",
      "description_width": ""
     }
    },
    "bbb239ed9b614343a891303e528c298d": {
     "model_module": "@jupyter-widgets/base",
     "model_module_version": "1.2.0",
     "model_name": "LayoutModel",
     "state": {
      "_model_module": "@jupyter-widgets/base",
      "_model_module_version": "1.2.0",
      "_model_name": "LayoutModel",
      "_view_count": null,
      "_view_module": "@jupyter-widgets/base",
      "_view_module_version": "1.2.0",
      "_view_name": "LayoutView",
      "align_content": null,
      "align_items": null,
      "align_self": null,
      "border": null,
      "bottom": null,
      "display": null,
      "flex": null,
      "flex_flow": null,
      "grid_area": null,
      "grid_auto_columns": null,
      "grid_auto_flow": null,
      "grid_auto_rows": null,
      "grid_column": null,
      "grid_gap": null,
      "grid_row": null,
      "grid_template_areas": null,
      "grid_template_columns": null,
      "grid_template_rows": null,
      "height": null,
      "justify_content": null,
      "justify_items": null,
      "left": null,
      "margin": null,
      "max_height": null,
      "max_width": null,
      "min_height": null,
      "min_width": null,
      "object_fit": null,
      "object_position": null,
      "order": null,
      "overflow": null,
      "overflow_x": null,
      "overflow_y": null,
      "padding": null,
      "right": null,
      "top": null,
      "visibility": null,
      "width": null
     }
    },
    "bd337b7981364afc9e63798451bc9af1": {
     "model_module": "@jupyter-widgets/controls",
     "model_module_version": "1.5.0",
     "model_name": "FloatProgressModel",
     "state": {
      "_dom_classes": [],
      "_model_module": "@jupyter-widgets/controls",
      "_model_module_version": "1.5.0",
      "_model_name": "FloatProgressModel",
      "_view_count": null,
      "_view_module": "@jupyter-widgets/controls",
      "_view_module_version": "1.5.0",
      "_view_name": "ProgressView",
      "bar_style": "success",
      "description": "",
      "description_tooltip": null,
      "layout": "IPY_MODEL_1655d98a88fe4bbabb320ee01115bcac",
      "max": 112,
      "min": 0,
      "orientation": "horizontal",
      "style": "IPY_MODEL_2c14ab1917bc48ffa78245f19e09dd42",
      "value": 112
     }
    },
    "bfc93ea907234ec0bd8971997ba31cfd": {
     "model_module": "@jupyter-widgets/controls",
     "model_module_version": "1.5.0",
     "model_name": "HBoxModel",
     "state": {
      "_dom_classes": [],
      "_model_module": "@jupyter-widgets/controls",
      "_model_module_version": "1.5.0",
      "_model_name": "HBoxModel",
      "_view_count": null,
      "_view_module": "@jupyter-widgets/controls",
      "_view_module_version": "1.5.0",
      "_view_name": "HBoxView",
      "box_style": "",
      "children": [
       "IPY_MODEL_d3e19131a0424e82829405e63028d8db",
       "IPY_MODEL_83823f75ff0e4a2ab2b5f4e36ae54594",
       "IPY_MODEL_37cf47c2b9ae40fb94051b1e2434c2f0"
      ],
      "layout": "IPY_MODEL_24320dc3a97b4c7fba1ea9566c00246e"
     }
    },
    "c18be72f9b404f90ba237c27acaa2032": {
     "model_module": "@jupyter-widgets/controls",
     "model_module_version": "1.5.0",
     "model_name": "HTMLModel",
     "state": {
      "_dom_classes": [],
      "_model_module": "@jupyter-widgets/controls",
      "_model_module_version": "1.5.0",
      "_model_name": "HTMLModel",
      "_view_count": null,
      "_view_module": "@jupyter-widgets/controls",
      "_view_module_version": "1.5.0",
      "_view_name": "HTMLView",
      "description": "",
      "description_tooltip": null,
      "layout": "IPY_MODEL_de7f872e08c9490991cad0f4dbd7f5c5",
      "placeholder": "​",
      "style": "IPY_MODEL_1b273cdf37824a01841830682c497d74",
      "value": " 369/369 [00:02&lt;00:00, 139B/s]"
     }
    },
    "c4c0b0bef6aa4fa28d4fb26dbdb0570f": {
     "model_module": "@jupyter-widgets/base",
     "model_module_version": "1.2.0",
     "model_name": "LayoutModel",
     "state": {
      "_model_module": "@jupyter-widgets/base",
      "_model_module_version": "1.2.0",
      "_model_name": "LayoutModel",
      "_view_count": null,
      "_view_module": "@jupyter-widgets/base",
      "_view_module_version": "1.2.0",
      "_view_name": "LayoutView",
      "align_content": null,
      "align_items": null,
      "align_self": null,
      "border": null,
      "bottom": null,
      "display": null,
      "flex": null,
      "flex_flow": null,
      "grid_area": null,
      "grid_auto_columns": null,
      "grid_auto_flow": null,
      "grid_auto_rows": null,
      "grid_column": null,
      "grid_gap": null,
      "grid_row": null,
      "grid_template_areas": null,
      "grid_template_columns": null,
      "grid_template_rows": null,
      "height": null,
      "justify_content": null,
      "justify_items": null,
      "left": null,
      "margin": null,
      "max_height": null,
      "max_width": null,
      "min_height": null,
      "min_width": null,
      "object_fit": null,
      "object_position": null,
      "order": null,
      "overflow": null,
      "overflow_x": null,
      "overflow_y": null,
      "padding": null,
      "right": null,
      "top": null,
      "visibility": null,
      "width": null
     }
    },
    "c4f8c81f1c0b42978e0de220ca4d53ef": {
     "model_module": "@jupyter-widgets/controls",
     "model_module_version": "1.5.0",
     "model_name": "DescriptionStyleModel",
     "state": {
      "_model_module": "@jupyter-widgets/controls",
      "_model_module_version": "1.5.0",
      "_model_name": "DescriptionStyleModel",
      "_view_count": null,
      "_view_module": "@jupyter-widgets/base",
      "_view_module_version": "1.2.0",
      "_view_name": "StyleView",
      "description_width": ""
     }
    },
    "c526b51539274fafa48f611a58972ca0": {
     "model_module": "@jupyter-widgets/base",
     "model_module_version": "1.2.0",
     "model_name": "LayoutModel",
     "state": {
      "_model_module": "@jupyter-widgets/base",
      "_model_module_version": "1.2.0",
      "_model_name": "LayoutModel",
      "_view_count": null,
      "_view_module": "@jupyter-widgets/base",
      "_view_module_version": "1.2.0",
      "_view_name": "LayoutView",
      "align_content": null,
      "align_items": null,
      "align_self": null,
      "border": null,
      "bottom": null,
      "display": null,
      "flex": null,
      "flex_flow": null,
      "grid_area": null,
      "grid_auto_columns": null,
      "grid_auto_flow": null,
      "grid_auto_rows": null,
      "grid_column": null,
      "grid_gap": null,
      "grid_row": null,
      "grid_template_areas": null,
      "grid_template_columns": null,
      "grid_template_rows": null,
      "height": null,
      "justify_content": null,
      "justify_items": null,
      "left": null,
      "margin": null,
      "max_height": null,
      "max_width": null,
      "min_height": null,
      "min_width": null,
      "object_fit": null,
      "object_position": null,
      "order": null,
      "overflow": null,
      "overflow_x": null,
      "overflow_y": null,
      "padding": null,
      "right": null,
      "top": null,
      "visibility": null,
      "width": null
     }
    },
    "c7fb653b9c4f40b493ee3f87017f8bc0": {
     "model_module": "@jupyter-widgets/controls",
     "model_module_version": "1.5.0",
     "model_name": "FloatProgressModel",
     "state": {
      "_dom_classes": [],
      "_model_module": "@jupyter-widgets/controls",
      "_model_module_version": "1.5.0",
      "_model_name": "FloatProgressModel",
      "_view_count": null,
      "_view_module": "@jupyter-widgets/controls",
      "_view_module_version": "1.5.0",
      "_view_name": "ProgressView",
      "bar_style": "success",
      "description": "",
      "description_tooltip": null,
      "layout": "IPY_MODEL_0e20152cf5eb4944bd4a4300ace5c474",
      "max": 2108642,
      "min": 0,
      "orientation": "horizontal",
      "style": "IPY_MODEL_ac34b00b96874aaa950f1e9a24bf7aee",
      "value": 2108642
     }
    },
    "c820ca8cd12e4eeb84e1604176d78c73": {
     "model_module": "@jupyter-widgets/controls",
     "model_module_version": "1.5.0",
     "model_name": "HTMLModel",
     "state": {
      "_dom_classes": [],
      "_model_module": "@jupyter-widgets/controls",
      "_model_module_version": "1.5.0",
      "_model_name": "HTMLModel",
      "_view_count": null,
      "_view_module": "@jupyter-widgets/controls",
      "_view_module_version": "1.5.0",
      "_view_name": "HTMLView",
      "description": "",
      "description_tooltip": null,
      "layout": "IPY_MODEL_6bc19ff03a274dd7a31f145f7a5e004b",
      "placeholder": "​",
      "style": "IPY_MODEL_e39fa96ee7d6488483092ddfd8eaa610",
      "value": " 425/425 [00:00&lt;00:00, 587B/s]"
     }
    },
    "d3e19131a0424e82829405e63028d8db": {
     "model_module": "@jupyter-widgets/controls",
     "model_module_version": "1.5.0",
     "model_name": "HTMLModel",
     "state": {
      "_dom_classes": [],
      "_model_module": "@jupyter-widgets/controls",
      "_model_module_version": "1.5.0",
      "_model_name": "HTMLModel",
      "_view_count": null,
      "_view_module": "@jupyter-widgets/controls",
      "_view_module_version": "1.5.0",
      "_view_name": "HTMLView",
      "description": "",
      "description_tooltip": null,
      "layout": "IPY_MODEL_e69bc921ec1c445883011398ef3a97ee",
      "placeholder": "​",
      "style": "IPY_MODEL_39532c7b2e5c4bd2833098ac7130c9a5",
      "value": "Downloading (…)cial_tokens_map.json: 100%"
     }
    },
    "d5c48e25a7084121ba293fbef760299e": {
     "model_module": "@jupyter-widgets/base",
     "model_module_version": "1.2.0",
     "model_name": "LayoutModel",
     "state": {
      "_model_module": "@jupyter-widgets/base",
      "_model_module_version": "1.2.0",
      "_model_name": "LayoutModel",
      "_view_count": null,
      "_view_module": "@jupyter-widgets/base",
      "_view_module_version": "1.2.0",
      "_view_name": "LayoutView",
      "align_content": null,
      "align_items": null,
      "align_self": null,
      "border": null,
      "bottom": null,
      "display": null,
      "flex": null,
      "flex_flow": null,
      "grid_area": null,
      "grid_auto_columns": null,
      "grid_auto_flow": null,
      "grid_auto_rows": null,
      "grid_column": null,
      "grid_gap": null,
      "grid_row": null,
      "grid_template_areas": null,
      "grid_template_columns": null,
      "grid_template_rows": null,
      "height": null,
      "justify_content": null,
      "justify_items": null,
      "left": null,
      "margin": null,
      "max_height": null,
      "max_width": null,
      "min_height": null,
      "min_width": null,
      "object_fit": null,
      "object_position": null,
      "order": null,
      "overflow": null,
      "overflow_x": null,
      "overflow_y": null,
      "padding": null,
      "right": null,
      "top": null,
      "visibility": null,
      "width": null
     }
    },
    "d6ec7ca270134a3397e3fea30be861e7": {
     "model_module": "@jupyter-widgets/base",
     "model_module_version": "1.2.0",
     "model_name": "LayoutModel",
     "state": {
      "_model_module": "@jupyter-widgets/base",
      "_model_module_version": "1.2.0",
      "_model_name": "LayoutModel",
      "_view_count": null,
      "_view_module": "@jupyter-widgets/base",
      "_view_module_version": "1.2.0",
      "_view_name": "LayoutView",
      "align_content": null,
      "align_items": null,
      "align_self": null,
      "border": null,
      "bottom": null,
      "display": null,
      "flex": null,
      "flex_flow": null,
      "grid_area": null,
      "grid_auto_columns": null,
      "grid_auto_flow": null,
      "grid_auto_rows": null,
      "grid_column": null,
      "grid_gap": null,
      "grid_row": null,
      "grid_template_areas": null,
      "grid_template_columns": null,
      "grid_template_rows": null,
      "height": null,
      "justify_content": null,
      "justify_items": null,
      "left": null,
      "margin": null,
      "max_height": null,
      "max_width": null,
      "min_height": null,
      "min_width": null,
      "object_fit": null,
      "object_position": null,
      "order": null,
      "overflow": null,
      "overflow_x": null,
      "overflow_y": null,
      "padding": null,
      "right": null,
      "top": null,
      "visibility": null,
      "width": null
     }
    },
    "d80edd2f42394b2b9a3a576d1c0fe116": {
     "model_module": "@jupyter-widgets/base",
     "model_module_version": "1.2.0",
     "model_name": "LayoutModel",
     "state": {
      "_model_module": "@jupyter-widgets/base",
      "_model_module_version": "1.2.0",
      "_model_name": "LayoutModel",
      "_view_count": null,
      "_view_module": "@jupyter-widgets/base",
      "_view_module_version": "1.2.0",
      "_view_name": "LayoutView",
      "align_content": null,
      "align_items": null,
      "align_self": null,
      "border": null,
      "bottom": null,
      "display": null,
      "flex": null,
      "flex_flow": null,
      "grid_area": null,
      "grid_auto_columns": null,
      "grid_auto_flow": null,
      "grid_auto_rows": null,
      "grid_column": null,
      "grid_gap": null,
      "grid_row": null,
      "grid_template_areas": null,
      "grid_template_columns": null,
      "grid_template_rows": null,
      "height": null,
      "justify_content": null,
      "justify_items": null,
      "left": null,
      "margin": null,
      "max_height": null,
      "max_width": null,
      "min_height": null,
      "min_width": null,
      "object_fit": null,
      "object_position": null,
      "order": null,
      "overflow": null,
      "overflow_x": null,
      "overflow_y": null,
      "padding": null,
      "right": null,
      "top": null,
      "visibility": null,
      "width": null
     }
    },
    "d9d61c6e5d234914adf9bcdd918cb7df": {
     "model_module": "@jupyter-widgets/controls",
     "model_module_version": "1.5.0",
     "model_name": "ProgressStyleModel",
     "state": {
      "_model_module": "@jupyter-widgets/controls",
      "_model_module_version": "1.5.0",
      "_model_name": "ProgressStyleModel",
      "_view_count": null,
      "_view_module": "@jupyter-widgets/base",
      "_view_module_version": "1.2.0",
      "_view_name": "StyleView",
      "bar_color": null,
      "description_width": ""
     }
    },
    "de7f872e08c9490991cad0f4dbd7f5c5": {
     "model_module": "@jupyter-widgets/base",
     "model_module_version": "1.2.0",
     "model_name": "LayoutModel",
     "state": {
      "_model_module": "@jupyter-widgets/base",
      "_model_module_version": "1.2.0",
      "_model_name": "LayoutModel",
      "_view_count": null,
      "_view_module": "@jupyter-widgets/base",
      "_view_module_version": "1.2.0",
      "_view_name": "LayoutView",
      "align_content": null,
      "align_items": null,
      "align_self": null,
      "border": null,
      "bottom": null,
      "display": null,
      "flex": null,
      "flex_flow": null,
      "grid_area": null,
      "grid_auto_columns": null,
      "grid_auto_flow": null,
      "grid_auto_rows": null,
      "grid_column": null,
      "grid_gap": null,
      "grid_row": null,
      "grid_template_areas": null,
      "grid_template_columns": null,
      "grid_template_rows": null,
      "height": null,
      "justify_content": null,
      "justify_items": null,
      "left": null,
      "margin": null,
      "max_height": null,
      "max_width": null,
      "min_height": null,
      "min_width": null,
      "object_fit": null,
      "object_position": null,
      "order": null,
      "overflow": null,
      "overflow_x": null,
      "overflow_y": null,
      "padding": null,
      "right": null,
      "top": null,
      "visibility": null,
      "width": null
     }
    },
    "e196c368cf0a4348992d04bd97e770b5": {
     "model_module": "@jupyter-widgets/base",
     "model_module_version": "1.2.0",
     "model_name": "LayoutModel",
     "state": {
      "_model_module": "@jupyter-widgets/base",
      "_model_module_version": "1.2.0",
      "_model_name": "LayoutModel",
      "_view_count": null,
      "_view_module": "@jupyter-widgets/base",
      "_view_module_version": "1.2.0",
      "_view_name": "LayoutView",
      "align_content": null,
      "align_items": null,
      "align_self": null,
      "border": null,
      "bottom": null,
      "display": null,
      "flex": null,
      "flex_flow": null,
      "grid_area": null,
      "grid_auto_columns": null,
      "grid_auto_flow": null,
      "grid_auto_rows": null,
      "grid_column": null,
      "grid_gap": null,
      "grid_row": null,
      "grid_template_areas": null,
      "grid_template_columns": null,
      "grid_template_rows": null,
      "height": null,
      "justify_content": null,
      "justify_items": null,
      "left": null,
      "margin": null,
      "max_height": null,
      "max_width": null,
      "min_height": null,
      "min_width": null,
      "object_fit": null,
      "object_position": null,
      "order": null,
      "overflow": null,
      "overflow_x": null,
      "overflow_y": null,
      "padding": null,
      "right": null,
      "top": null,
      "visibility": null,
      "width": null
     }
    },
    "e27752c1b5474fb085b583f779dba363": {
     "model_module": "@jupyter-widgets/controls",
     "model_module_version": "1.5.0",
     "model_name": "FloatProgressModel",
     "state": {
      "_dom_classes": [],
      "_model_module": "@jupyter-widgets/controls",
      "_model_module_version": "1.5.0",
      "_model_name": "FloatProgressModel",
      "_view_count": null,
      "_view_module": "@jupyter-widgets/controls",
      "_view_module_version": "1.5.0",
      "_view_name": "ProgressView",
      "bar_style": "success",
      "description": "",
      "description_tooltip": null,
      "layout": "IPY_MODEL_3d4500009e794ee6a358a8c19b82a38f",
      "max": 789,
      "min": 0,
      "orientation": "horizontal",
      "style": "IPY_MODEL_4c74019758e4498ba423cfe3381e6bab",
      "value": 789
     }
    },
    "e39fa96ee7d6488483092ddfd8eaa610": {
     "model_module": "@jupyter-widgets/controls",
     "model_module_version": "1.5.0",
     "model_name": "DescriptionStyleModel",
     "state": {
      "_model_module": "@jupyter-widgets/controls",
      "_model_module_version": "1.5.0",
      "_model_name": "DescriptionStyleModel",
      "_view_count": null,
      "_view_module": "@jupyter-widgets/base",
      "_view_module_version": "1.2.0",
      "_view_name": "StyleView",
      "description_width": ""
     }
    },
    "e5f0be54b08a4f07b422a79b6ee26d44": {
     "model_module": "@jupyter-widgets/controls",
     "model_module_version": "1.5.0",
     "model_name": "HBoxModel",
     "state": {
      "_dom_classes": [],
      "_model_module": "@jupyter-widgets/controls",
      "_model_module_version": "1.5.0",
      "_model_name": "HBoxModel",
      "_view_count": null,
      "_view_module": "@jupyter-widgets/controls",
      "_view_module_version": "1.5.0",
      "_view_name": "HBoxView",
      "box_style": "",
      "children": [
       "IPY_MODEL_fd5158d1779d4cce9ffe9cd41b1c78b4",
       "IPY_MODEL_bd337b7981364afc9e63798451bc9af1",
       "IPY_MODEL_1e5871586dbd42fe8cf9a224fc82a8bc"
      ],
      "layout": "IPY_MODEL_558e4fc2a1db4d6eada1f54f87046a1b"
     }
    },
    "e686fc54f99844e4988399b6f0439e14": {
     "model_module": "@jupyter-widgets/controls",
     "model_module_version": "1.5.0",
     "model_name": "DescriptionStyleModel",
     "state": {
      "_model_module": "@jupyter-widgets/controls",
      "_model_module_version": "1.5.0",
      "_model_name": "DescriptionStyleModel",
      "_view_count": null,
      "_view_module": "@jupyter-widgets/base",
      "_view_module_version": "1.2.0",
      "_view_name": "StyleView",
      "description_width": ""
     }
    },
    "e69bc921ec1c445883011398ef3a97ee": {
     "model_module": "@jupyter-widgets/base",
     "model_module_version": "1.2.0",
     "model_name": "LayoutModel",
     "state": {
      "_model_module": "@jupyter-widgets/base",
      "_model_module_version": "1.2.0",
      "_model_name": "LayoutModel",
      "_view_count": null,
      "_view_module": "@jupyter-widgets/base",
      "_view_module_version": "1.2.0",
      "_view_name": "LayoutView",
      "align_content": null,
      "align_items": null,
      "align_self": null,
      "border": null,
      "bottom": null,
      "display": null,
      "flex": null,
      "flex_flow": null,
      "grid_area": null,
      "grid_auto_columns": null,
      "grid_auto_flow": null,
      "grid_auto_rows": null,
      "grid_column": null,
      "grid_gap": null,
      "grid_row": null,
      "grid_template_areas": null,
      "grid_template_columns": null,
      "grid_template_rows": null,
      "height": null,
      "justify_content": null,
      "justify_items": null,
      "left": null,
      "margin": null,
      "max_height": null,
      "max_width": null,
      "min_height": null,
      "min_width": null,
      "object_fit": null,
      "object_position": null,
      "order": null,
      "overflow": null,
      "overflow_x": null,
      "overflow_y": null,
      "padding": null,
      "right": null,
      "top": null,
      "visibility": null,
      "width": null
     }
    },
    "e79098fd8a6c455b99e15dbb26c84851": {
     "model_module": "@jupyter-widgets/controls",
     "model_module_version": "1.5.0",
     "model_name": "DescriptionStyleModel",
     "state": {
      "_model_module": "@jupyter-widgets/controls",
      "_model_module_version": "1.5.0",
      "_model_name": "DescriptionStyleModel",
      "_view_count": null,
      "_view_module": "@jupyter-widgets/base",
      "_view_module_version": "1.2.0",
      "_view_name": "StyleView",
      "description_width": ""
     }
    },
    "e926b822bed44eda98d9c3b7d0870acd": {
     "model_module": "@jupyter-widgets/controls",
     "model_module_version": "1.5.0",
     "model_name": "ProgressStyleModel",
     "state": {
      "_model_module": "@jupyter-widgets/controls",
      "_model_module_version": "1.5.0",
      "_model_name": "ProgressStyleModel",
      "_view_count": null,
      "_view_module": "@jupyter-widgets/base",
      "_view_module_version": "1.2.0",
      "_view_name": "StyleView",
      "bar_color": null,
      "description_width": ""
     }
    },
    "eb2922c9e6a248b79b5839260c9f17db": {
     "model_module": "@jupyter-widgets/controls",
     "model_module_version": "1.5.0",
     "model_name": "DescriptionStyleModel",
     "state": {
      "_model_module": "@jupyter-widgets/controls",
      "_model_module_version": "1.5.0",
      "_model_name": "DescriptionStyleModel",
      "_view_count": null,
      "_view_module": "@jupyter-widgets/base",
      "_view_module_version": "1.2.0",
      "_view_name": "StyleView",
      "description_width": ""
     }
    },
    "eb2df8bf4bb34cce828a3a8bf5f99f97": {
     "model_module": "@jupyter-widgets/base",
     "model_module_version": "1.2.0",
     "model_name": "LayoutModel",
     "state": {
      "_model_module": "@jupyter-widgets/base",
      "_model_module_version": "1.2.0",
      "_model_name": "LayoutModel",
      "_view_count": null,
      "_view_module": "@jupyter-widgets/base",
      "_view_module_version": "1.2.0",
      "_view_name": "LayoutView",
      "align_content": null,
      "align_items": null,
      "align_self": null,
      "border": null,
      "bottom": null,
      "display": null,
      "flex": null,
      "flex_flow": null,
      "grid_area": null,
      "grid_auto_columns": null,
      "grid_auto_flow": null,
      "grid_auto_rows": null,
      "grid_column": null,
      "grid_gap": null,
      "grid_row": null,
      "grid_template_areas": null,
      "grid_template_columns": null,
      "grid_template_rows": null,
      "height": null,
      "justify_content": null,
      "justify_items": null,
      "left": null,
      "margin": null,
      "max_height": null,
      "max_width": null,
      "min_height": null,
      "min_width": null,
      "object_fit": null,
      "object_position": null,
      "order": null,
      "overflow": null,
      "overflow_x": null,
      "overflow_y": null,
      "padding": null,
      "right": null,
      "top": null,
      "visibility": null,
      "width": null
     }
    },
    "ebe6f846e6074fd7837c29ba9f441f59": {
     "model_module": "@jupyter-widgets/controls",
     "model_module_version": "1.5.0",
     "model_name": "ProgressStyleModel",
     "state": {
      "_model_module": "@jupyter-widgets/controls",
      "_model_module_version": "1.5.0",
      "_model_name": "ProgressStyleModel",
      "_view_count": null,
      "_view_module": "@jupyter-widgets/base",
      "_view_module_version": "1.2.0",
      "_view_name": "StyleView",
      "bar_color": null,
      "description_width": ""
     }
    },
    "eed1e7e94d004ba3951727ed08de1f49": {
     "model_module": "@jupyter-widgets/controls",
     "model_module_version": "1.5.0",
     "model_name": "HBoxModel",
     "state": {
      "_dom_classes": [],
      "_model_module": "@jupyter-widgets/controls",
      "_model_module_version": "1.5.0",
      "_model_name": "HBoxModel",
      "_view_count": null,
      "_view_module": "@jupyter-widgets/controls",
      "_view_module_version": "1.5.0",
      "_view_name": "HBoxView",
      "box_style": "",
      "children": [
       "IPY_MODEL_81ac0a52ba1e44c58b65a93ecc76f047",
       "IPY_MODEL_f42f0ff5136c44879ac3080b9d7ffcd9",
       "IPY_MODEL_c820ca8cd12e4eeb84e1604176d78c73"
      ],
      "layout": "IPY_MODEL_b54d315389594d7b87487c4f22f10e88"
     }
    },
    "eee4b911f2a34f9491a959f0ab729bd5": {
     "model_module": "@jupyter-widgets/controls",
     "model_module_version": "1.5.0",
     "model_name": "DescriptionStyleModel",
     "state": {
      "_model_module": "@jupyter-widgets/controls",
      "_model_module_version": "1.5.0",
      "_model_name": "DescriptionStyleModel",
      "_view_count": null,
      "_view_module": "@jupyter-widgets/base",
      "_view_module_version": "1.2.0",
      "_view_name": "StyleView",
      "description_width": ""
     }
    },
    "efa11631bbd841b4aec1f0c502bdb4bd": {
     "model_module": "@jupyter-widgets/controls",
     "model_module_version": "1.5.0",
     "model_name": "DescriptionStyleModel",
     "state": {
      "_model_module": "@jupyter-widgets/controls",
      "_model_module_version": "1.5.0",
      "_model_name": "DescriptionStyleModel",
      "_view_count": null,
      "_view_module": "@jupyter-widgets/base",
      "_view_module_version": "1.2.0",
      "_view_name": "StyleView",
      "description_width": ""
     }
    },
    "f42f0ff5136c44879ac3080b9d7ffcd9": {
     "model_module": "@jupyter-widgets/controls",
     "model_module_version": "1.5.0",
     "model_name": "FloatProgressModel",
     "state": {
      "_dom_classes": [],
      "_model_module": "@jupyter-widgets/controls",
      "_model_module_version": "1.5.0",
      "_model_name": "FloatProgressModel",
      "_view_count": null,
      "_view_module": "@jupyter-widgets/controls",
      "_view_module_version": "1.5.0",
      "_view_name": "ProgressView",
      "bar_style": "success",
      "description": "",
      "description_tooltip": null,
      "layout": "IPY_MODEL_59d6f8463be7496397040031f004eb9d",
      "max": 425,
      "min": 0,
      "orientation": "horizontal",
      "style": "IPY_MODEL_f45558f8863c49d2973379995db21849",
      "value": 425
     }
    },
    "f45558f8863c49d2973379995db21849": {
     "model_module": "@jupyter-widgets/controls",
     "model_module_version": "1.5.0",
     "model_name": "ProgressStyleModel",
     "state": {
      "_model_module": "@jupyter-widgets/controls",
      "_model_module_version": "1.5.0",
      "_model_name": "ProgressStyleModel",
      "_view_count": null,
      "_view_module": "@jupyter-widgets/base",
      "_view_module_version": "1.2.0",
      "_view_name": "StyleView",
      "bar_color": null,
      "description_width": ""
     }
    },
    "f4ce962073ca4b5fa6dffae7a551f3e9": {
     "model_module": "@jupyter-widgets/base",
     "model_module_version": "1.2.0",
     "model_name": "LayoutModel",
     "state": {
      "_model_module": "@jupyter-widgets/base",
      "_model_module_version": "1.2.0",
      "_model_name": "LayoutModel",
      "_view_count": null,
      "_view_module": "@jupyter-widgets/base",
      "_view_module_version": "1.2.0",
      "_view_name": "LayoutView",
      "align_content": null,
      "align_items": null,
      "align_self": null,
      "border": null,
      "bottom": null,
      "display": null,
      "flex": null,
      "flex_flow": null,
      "grid_area": null,
      "grid_auto_columns": null,
      "grid_auto_flow": null,
      "grid_auto_rows": null,
      "grid_column": null,
      "grid_gap": null,
      "grid_row": null,
      "grid_template_areas": null,
      "grid_template_columns": null,
      "grid_template_rows": null,
      "height": null,
      "justify_content": null,
      "justify_items": null,
      "left": null,
      "margin": null,
      "max_height": null,
      "max_width": null,
      "min_height": null,
      "min_width": null,
      "object_fit": null,
      "object_position": null,
      "order": null,
      "overflow": null,
      "overflow_x": null,
      "overflow_y": null,
      "padding": null,
      "right": null,
      "top": null,
      "visibility": null,
      "width": null
     }
    },
    "f5462d9ac50841ae8ab0ce69b29ffc60": {
     "model_module": "@jupyter-widgets/base",
     "model_module_version": "1.2.0",
     "model_name": "LayoutModel",
     "state": {
      "_model_module": "@jupyter-widgets/base",
      "_model_module_version": "1.2.0",
      "_model_name": "LayoutModel",
      "_view_count": null,
      "_view_module": "@jupyter-widgets/base",
      "_view_module_version": "1.2.0",
      "_view_name": "LayoutView",
      "align_content": null,
      "align_items": null,
      "align_self": null,
      "border": null,
      "bottom": null,
      "display": null,
      "flex": null,
      "flex_flow": null,
      "grid_area": null,
      "grid_auto_columns": null,
      "grid_auto_flow": null,
      "grid_auto_rows": null,
      "grid_column": null,
      "grid_gap": null,
      "grid_row": null,
      "grid_template_areas": null,
      "grid_template_columns": null,
      "grid_template_rows": null,
      "height": null,
      "justify_content": null,
      "justify_items": null,
      "left": null,
      "margin": null,
      "max_height": null,
      "max_width": null,
      "min_height": null,
      "min_width": null,
      "object_fit": null,
      "object_position": null,
      "order": null,
      "overflow": null,
      "overflow_x": null,
      "overflow_y": null,
      "padding": null,
      "right": null,
      "top": null,
      "visibility": null,
      "width": null
     }
    },
    "f9d289d2c8044c19908204d8ded46dbe": {
     "model_module": "@jupyter-widgets/base",
     "model_module_version": "1.2.0",
     "model_name": "LayoutModel",
     "state": {
      "_model_module": "@jupyter-widgets/base",
      "_model_module_version": "1.2.0",
      "_model_name": "LayoutModel",
      "_view_count": null,
      "_view_module": "@jupyter-widgets/base",
      "_view_module_version": "1.2.0",
      "_view_name": "LayoutView",
      "align_content": null,
      "align_items": null,
      "align_self": null,
      "border": null,
      "bottom": null,
      "display": null,
      "flex": null,
      "flex_flow": null,
      "grid_area": null,
      "grid_auto_columns": null,
      "grid_auto_flow": null,
      "grid_auto_rows": null,
      "grid_column": null,
      "grid_gap": null,
      "grid_row": null,
      "grid_template_areas": null,
      "grid_template_columns": null,
      "grid_template_rows": null,
      "height": null,
      "justify_content": null,
      "justify_items": null,
      "left": null,
      "margin": null,
      "max_height": null,
      "max_width": null,
      "min_height": null,
      "min_width": null,
      "object_fit": null,
      "object_position": null,
      "order": null,
      "overflow": null,
      "overflow_x": null,
      "overflow_y": null,
      "padding": null,
      "right": null,
      "top": null,
      "visibility": null,
      "width": null
     }
    },
    "faa48f786f31488280fa3a41174476df": {
     "model_module": "@jupyter-widgets/base",
     "model_module_version": "1.2.0",
     "model_name": "LayoutModel",
     "state": {
      "_model_module": "@jupyter-widgets/base",
      "_model_module_version": "1.2.0",
      "_model_name": "LayoutModel",
      "_view_count": null,
      "_view_module": "@jupyter-widgets/base",
      "_view_module_version": "1.2.0",
      "_view_name": "LayoutView",
      "align_content": null,
      "align_items": null,
      "align_self": null,
      "border": null,
      "bottom": null,
      "display": null,
      "flex": null,
      "flex_flow": null,
      "grid_area": null,
      "grid_auto_columns": null,
      "grid_auto_flow": null,
      "grid_auto_rows": null,
      "grid_column": null,
      "grid_gap": null,
      "grid_row": null,
      "grid_template_areas": null,
      "grid_template_columns": null,
      "grid_template_rows": null,
      "height": null,
      "justify_content": null,
      "justify_items": null,
      "left": null,
      "margin": null,
      "max_height": null,
      "max_width": null,
      "min_height": null,
      "min_width": null,
      "object_fit": null,
      "object_position": null,
      "order": null,
      "overflow": null,
      "overflow_x": null,
      "overflow_y": null,
      "padding": null,
      "right": null,
      "top": null,
      "visibility": null,
      "width": null
     }
    },
    "fd0f6678371b4178abe9f93ed3a80d6d": {
     "model_module": "@jupyter-widgets/controls",
     "model_module_version": "1.5.0",
     "model_name": "HTMLModel",
     "state": {
      "_dom_classes": [],
      "_model_module": "@jupyter-widgets/controls",
      "_model_module_version": "1.5.0",
      "_model_name": "HTMLModel",
      "_view_count": null,
      "_view_module": "@jupyter-widgets/controls",
      "_view_module_version": "1.5.0",
      "_view_name": "HTMLView",
      "description": "",
      "description_tooltip": null,
      "layout": "IPY_MODEL_556fd41625b74add9d14cb9743853c8e",
      "placeholder": "​",
      "style": "IPY_MODEL_eb2922c9e6a248b79b5839260c9f17db",
      "value": " 464k/464k [00:01&lt;00:00, 387kB/s]"
     }
    },
    "fd5158d1779d4cce9ffe9cd41b1c78b4": {
     "model_module": "@jupyter-widgets/controls",
     "model_module_version": "1.5.0",
     "model_name": "HTMLModel",
     "state": {
      "_dom_classes": [],
      "_model_module": "@jupyter-widgets/controls",
      "_model_module_version": "1.5.0",
      "_model_name": "HTMLModel",
      "_view_count": null,
      "_view_module": "@jupyter-widgets/controls",
      "_view_module_version": "1.5.0",
      "_view_name": "HTMLView",
      "description": "",
      "description_tooltip": null,
      "layout": "IPY_MODEL_1fbedc0dc21c4459b24551f835cd7bf4",
      "placeholder": "​",
      "style": "IPY_MODEL_efa11631bbd841b4aec1f0c502bdb4bd",
      "value": "Downloading (…)cial_tokens_map.json: 100%"
     }
    },
    "fe4103e3a0d940649480f543c263cf4a": {
     "model_module": "@jupyter-widgets/controls",
     "model_module_version": "1.5.0",
     "model_name": "DescriptionStyleModel",
     "state": {
      "_model_module": "@jupyter-widgets/controls",
      "_model_module_version": "1.5.0",
      "_model_name": "DescriptionStyleModel",
      "_view_count": null,
      "_view_module": "@jupyter-widgets/base",
      "_view_module_version": "1.2.0",
      "_view_name": "StyleView",
      "description_width": ""
     }
    }
   }
  }
 },
 "nbformat": 4,
 "nbformat_minor": 4
}
